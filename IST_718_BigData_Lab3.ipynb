{
  "nbformat": 4,
  "nbformat_minor": 0,
  "metadata": {
    "colab": {
      "name": "Lab 3.ipynb",
      "provenance": [],
      "collapsed_sections": [],
      "authorship_tag": "ABX9TyOXLf0nXOet7YWoEljLKfal",
      "include_colab_link": true
    },
    "kernelspec": {
      "name": "python3",
      "display_name": "Python 3"
    }
  },
  "cells": [
    {
      "cell_type": "markdown",
      "metadata": {
        "id": "view-in-github",
        "colab_type": "text"
      },
      "source": [
        "<a href=\"https://colab.research.google.com/github/TerranceRandolph/Data-Analysis/blob/master/IST_718_BigData_Lab3.ipynb\" target=\"_parent\"><img src=\"https://colab.research.google.com/assets/colab-badge.svg\" alt=\"Open In Colab\"/></a>"
      ]
    },
    {
      "cell_type": "markdown",
      "metadata": {
        "id": "3zZSPmZX2bAf",
        "colab_type": "text"
      },
      "source": [
        "# **Terrance Randolph**\n",
        "> *Lab 3: Coach Salary*\n",
        "\n",
        "> *Big Data IST 718*\n",
        "\n",
        "\n",
        "\n",
        "\n"
      ]
    },
    {
      "cell_type": "code",
      "metadata": {
        "id": "F1VeGeFDr2jO",
        "colab_type": "code",
        "colab": {}
      },
      "source": [
        "pip install fuzzymatcher"
      ],
      "execution_count": 0,
      "outputs": []
    },
    {
      "cell_type": "code",
      "metadata": {
        "id": "Lsep5sv72aJv",
        "colab_type": "code",
        "colab": {}
      },
      "source": [
        "import os\n",
        "import pandas as pd  # data frame operations\n",
        "import numpy as np  # arrays and math functions\n",
        "from scipy.stats import uniform  # for training-and-test split\n",
        "import statsmodels.api as sm  # statistical models (including regression)\n",
        "import statsmodels.formula.api as smf  # R-like model specification\n",
        "import fuzzymatcher # matching colleges based on prob.\n",
        "import seaborn as sns\n",
        "import matplotlib.pyplot as plt\n",
        "import plotly.express as px # interactive graphing lib."
      ],
      "execution_count": 0,
      "outputs": []
    },
    {
      "cell_type": "code",
      "metadata": {
        "id": "O6h0mx9a65WW",
        "colab_type": "code",
        "colab": {}
      },
      "source": [
        "from google.colab import drive\n",
        "drive.mount('/content/gdrive')"
      ],
      "execution_count": 0,
      "outputs": []
    },
    {
      "cell_type": "markdown",
      "metadata": {
        "id": "B_Kpxje16ks_",
        "colab_type": "text"
      },
      "source": [
        "##**Read Data**"
      ]
    },
    {
      "cell_type": "code",
      "metadata": {
        "id": "0mKo1T_97Bpx",
        "colab_type": "code",
        "colab": {}
      },
      "source": [
        "root_path = 'gdrive/My Drive/Village 3A/Big Data/Lab 3/'  #change dir to your project folder\n",
        "# read in files and check is path is valid and its been loaded properly\n",
        "stadium_cap_csv = root_path + 'stdcap.csv'   ; print('stadium_cap', os.path.exists( stadium_cap_csv ))\n",
        "grad_rate_csv   = root_path + 'GSR.csv'      ; print('grad_rate', os.path.exists( grad_rate_csv ))\n",
        "income_don_csv  = root_path + 'DonerStud.csv'; print('income_don', os.path.exists( income_don_csv ))\n",
        "coach_sal_csv   = root_path + 'Coaches9.csv' ; print('coach_sal', os.path.exists( coach_sal_csv ))\n"
      ],
      "execution_count": 0,
      "outputs": []
    },
    {
      "cell_type": "code",
      "metadata": {
        "id": "ucSjr01r6fsl",
        "colab_type": "code",
        "colab": {}
      },
      "source": [
        "# read CSV's into pandas\n",
        "stadium_cap = pd.read_csv(stadium_cap_csv, encoding=\"windows-1252\")\n",
        "grad_rate   = pd.read_csv(grad_rate_csv, encoding=\"windows-1252\")\n",
        "income_don  = pd.read_csv(income_don_csv, encoding=\"windows-1252\")\n",
        "coach_sal   = pd.read_csv(coach_sal_csv, encoding=\"windows-1252\")\n"
      ],
      "execution_count": 0,
      "outputs": []
    },
    {
      "cell_type": "code",
      "metadata": {
        "id": "szAJ6Q-GEH9n",
        "colab_type": "code",
        "colab": {}
      },
      "source": [
        "# creat dataframe for CSVs\n",
        "stadium_cap_df = pd.DataFrame(stadium_cap)\n",
        "grad_rate_df   = pd.DataFrame(grad_rate)\n",
        "income_don_df  = pd.DataFrame(income_don)\n",
        "coach_sal_df   = pd.DataFrame(coach_sal)"
      ],
      "execution_count": 0,
      "outputs": []
    },
    {
      "cell_type": "code",
      "metadata": {
        "id": "ovIeM54xd_PQ",
        "colab_type": "code",
        "colab": {
          "base_uri": "https://localhost:8080/",
          "height": 2499
        },
        "outputId": "0c02c6c6-2dca-426e-8cf2-0ec4b6121591"
      },
      "source": [
        "# put dataframes in list to be interated through\n",
        "ls = [stadium_cap_df, grad_rate_df, income_don_df, coach_sal_df]\n",
        "for i in ls:\n",
        "  # loop through each file to understand basic stats and structure of df\n",
        "  print('----- HEAD -----\\n',      i.head(),'\\n')\n",
        "  print('----- DISCRIBE ------\\n', i.describe(),'\\n')\n",
        "  print('------ COL NAMES -----\\n',i.columns,'\\n')\n",
        "  print('------ COL DATA TYPES -----\\n',i.dtypes,'\\n')\n",
        "  print(20 * '---','\\n\\n\\n')"
      ],
      "execution_count": 38,
      "outputs": [
        {
          "output_type": "stream",
          "text": [
            "----- HEAD -----\n",
            "                     Stadium  ...                        Surface\n",
            "0    Aggie Memorial Stadium  ...            S5-M Synthetic Turf\n",
            "1        Albertsons Stadium  ...                     Smurf Turf\n",
            "2  Allen E. Paulson Stadium  ...  Shaw Legion 41 Synthetic Turf\n",
            "3             Aloha Stadium  ...                      FieldTurf\n",
            "4            Alumni Stadium  ...                      AstroTurf\n",
            "\n",
            "[5 rows x 6 columns] \n",
            "\n",
            "----- DISCRIBE ------\n",
            "             Capacity\n",
            "count     110.000000\n",
            "mean    52734.327273\n",
            "std     23611.140664\n",
            "min     17000.000000\n",
            "25%     30878.500000\n",
            "50%     50035.500000\n",
            "75%     65004.000000\n",
            "max    107601.000000 \n",
            "\n",
            "------ COL NAMES -----\n",
            " Index(['Stadium', 'City', 'State', 'School', 'Capacity', 'Surface'], dtype='object') \n",
            "\n",
            "------ COL DATA TYPES -----\n",
            " Stadium     object\n",
            "City        object\n",
            "State       object\n",
            "School      object\n",
            "Capacity     int64\n",
            "Surface     object\n",
            "dtype: object \n",
            "\n",
            "------------------------------------------------------------ \n",
            "\n",
            "\n",
            "\n",
            "----- HEAD -----\n",
            "                                 School HBCU  FedGradRate  GradRate\n",
            "0             Alabama A & M University  yes           43        47\n",
            "1  University of Alabama at Birmingham   no           57        66\n",
            "2             Alabama State University  yes           37        89\n",
            "3            The University of Alabama   no           70        92\n",
            "4                    Auburn University   no           65        80 \n",
            "\n",
            "----- DISCRIBE ------\n",
            "        FedGradRate    GradRate\n",
            "count   250.000000  250.000000\n",
            "mean     55.920000   79.720000\n",
            "std      35.468432   12.367596\n",
            "min     -99.000000   33.000000\n",
            "25%      53.250000   73.000000\n",
            "50%      63.000000   81.000000\n",
            "75%      71.000000   88.000000\n",
            "max      93.000000  100.000000 \n",
            "\n",
            "------ COL NAMES -----\n",
            " Index(['School', 'HBCU', 'FedGradRate', 'GradRate'], dtype='object') \n",
            "\n",
            "------ COL DATA TYPES -----\n",
            " School         object\n",
            "HBCU           object\n",
            "FedGradRate     int64\n",
            "GradRate        int64\n",
            "dtype: object \n",
            "\n",
            "------------------------------------------------------------ \n",
            "\n",
            "\n",
            "\n",
            "----- HEAD -----\n",
            "                          School   DonorCash  StudenFees\n",
            "0      Alabama A & M University     27400.0    712540.0\n",
            "1      Alabama State University    153054.0         0.0\n",
            "2       Alcorn State University     40448.0   1071595.0\n",
            "3  Appalachian State University   1023455.0   4559539.0\n",
            "4      Arizona State University  11791138.0         0.0 \n",
            "\n",
            "----- DISCRIBE ------\n",
            "           DonorCash    StudenFees\n",
            "count  2.210000e+02  2.200000e+02\n",
            "mean   5.385381e+06  2.915901e+06\n",
            "std    1.534385e+07  2.991951e+06\n",
            "min    0.000000e+00  0.000000e+00\n",
            "25%    4.649490e+05  9.251370e+05\n",
            "50%    1.119295e+06  1.861954e+06\n",
            "75%    5.946515e+06  4.389238e+06\n",
            "max    2.110232e+08  1.972615e+07 \n",
            "\n",
            "------ COL NAMES -----\n",
            " Index(['School', 'DonorCash', 'StudenFees'], dtype='object') \n",
            "\n",
            "------ COL DATA TYPES -----\n",
            " School         object\n",
            "DonorCash     float64\n",
            "StudenFees    float64\n",
            "dtype: object \n",
            "\n",
            "------------------------------------------------------------ \n",
            "\n",
            "\n",
            "\n",
            "----- HEAD -----\n",
            "                   School Conference  ... AssistantPay      Buyout\n",
            "0              Air Force   Mt. West  ...            0         NaN\n",
            "1                  Akron        MAC  ...            0    688500.0\n",
            "2                Alabama        SEC  ...            0  33600000.0\n",
            "3  Alabama at Birmingham      C-USA  ...            0   3847500.0\n",
            "4      Appalachian State   Sun Belt  ...            0   2160417.0\n",
            "\n",
            "[5 rows x 9 columns] \n",
            "\n",
            "----- DISCRIBE ------\n",
            "           SchoolPay      TotalPay  ...  AssistantPay        Buyout\n",
            "count  1.250000e+02  1.250000e+02  ...         129.0  1.070000e+02\n",
            "mean   2.410301e+06  2.417061e+06  ...           0.0  8.119107e+06\n",
            "std    1.881377e+06  1.885752e+06  ...           0.0  1.046135e+07\n",
            "min    3.900000e+05  3.900000e+05  ...           0.0  0.000000e+00\n",
            "25%    8.015040e+05  8.058500e+05  ...           0.0  1.200000e+06\n",
            "50%    1.831580e+06  1.900008e+06  ...           0.0  4.000000e+06\n",
            "75%    3.605000e+06  3.617500e+06  ...           0.0  1.106500e+07\n",
            "max    8.307000e+06  8.307000e+06  ...           0.0  6.812500e+07\n",
            "\n",
            "[8 rows x 6 columns] \n",
            "\n",
            "------ COL NAMES -----\n",
            " Index(['School', 'Conference', 'Coach', 'SchoolPay', 'TotalPay', 'Bonus',\n",
            "       'BonusPaid', 'AssistantPay', 'Buyout'],\n",
            "      dtype='object') \n",
            "\n",
            "------ COL DATA TYPES -----\n",
            " School           object\n",
            "Conference       object\n",
            "Coach            object\n",
            "SchoolPay       float64\n",
            "TotalPay        float64\n",
            "Bonus           float64\n",
            "BonusPaid       float64\n",
            "AssistantPay      int64\n",
            "Buyout          float64\n",
            "dtype: object \n",
            "\n",
            "------------------------------------------------------------ \n",
            "\n",
            "\n",
            "\n"
          ],
          "name": "stdout"
        }
      ]
    },
    {
      "cell_type": "markdown",
      "metadata": {
        "id": "7Mf8x3S2ZsRB",
        "colab_type": "text"
      },
      "source": [
        "##**Clean Data**\n",
        "###***What schools did we drop from our data, and why?*** \n",
        "\n",
        "*   Air Force Academy and others are Private schools and Military schools. Therefore, the GSR dataset does not having access to information from those schools due to their institutional policies.\n",
        "\n",
        "\n",
        "\n",
        "*   Military schools. Therefore, the GSR dataset does not having access to information from those schools due to their institutional policies.\n",
        "o\tAlternatively, Baylor and Southern Methodist was removed due a lack of coach’s salary data. Also, a few more institutions were disregarded because of their lack of high matching probability during the fuzzy matching process.\n"
      ]
    },
    {
      "cell_type": "code",
      "metadata": {
        "id": "0729zaRObfPq",
        "colab_type": "code",
        "colab": {
          "base_uri": "https://localhost:8080/",
          "height": 204
        },
        "outputId": "fa8a96d2-e4b6-4577-f249-ecf2c80aee2f"
      },
      "source": [
        "# rename columns of df's \n",
        "stadium_cap_df.columns  = ['Stadium','City','State',\n",
        "                           'School','Capacity','Surface']\n",
        "grad_rate_df.columns    = ['School','HBCU',\n",
        "                           'FedGradRate','GradRate']\n",
        "income_don_df.columns   = ['School','DonorCash','StudenFees']\n",
        "coach_sal_df.columns    = ['School','Conference','Coach','SchoolPay',\n",
        "                           'TotalPay','Bonus','BonusPaid','AssistantPay','Buyout']\n",
        "\n",
        "# replace discretize Historic Black College distinction\n",
        "grad_rate_df['HBCU'].replace([1, 2], ['yes','no'], inplace=True)\n",
        "grad_rate_df.head()"
      ],
      "execution_count": 39,
      "outputs": [
        {
          "output_type": "execute_result",
          "data": {
            "text/html": [
              "<div>\n",
              "<style scoped>\n",
              "    .dataframe tbody tr th:only-of-type {\n",
              "        vertical-align: middle;\n",
              "    }\n",
              "\n",
              "    .dataframe tbody tr th {\n",
              "        vertical-align: top;\n",
              "    }\n",
              "\n",
              "    .dataframe thead th {\n",
              "        text-align: right;\n",
              "    }\n",
              "</style>\n",
              "<table border=\"1\" class=\"dataframe\">\n",
              "  <thead>\n",
              "    <tr style=\"text-align: right;\">\n",
              "      <th></th>\n",
              "      <th>School</th>\n",
              "      <th>HBCU</th>\n",
              "      <th>FedGradRate</th>\n",
              "      <th>GradRate</th>\n",
              "    </tr>\n",
              "  </thead>\n",
              "  <tbody>\n",
              "    <tr>\n",
              "      <th>0</th>\n",
              "      <td>Alabama A &amp; M University</td>\n",
              "      <td>yes</td>\n",
              "      <td>43</td>\n",
              "      <td>47</td>\n",
              "    </tr>\n",
              "    <tr>\n",
              "      <th>1</th>\n",
              "      <td>University of Alabama at Birmingham</td>\n",
              "      <td>no</td>\n",
              "      <td>57</td>\n",
              "      <td>66</td>\n",
              "    </tr>\n",
              "    <tr>\n",
              "      <th>2</th>\n",
              "      <td>Alabama State University</td>\n",
              "      <td>yes</td>\n",
              "      <td>37</td>\n",
              "      <td>89</td>\n",
              "    </tr>\n",
              "    <tr>\n",
              "      <th>3</th>\n",
              "      <td>The University of Alabama</td>\n",
              "      <td>no</td>\n",
              "      <td>70</td>\n",
              "      <td>92</td>\n",
              "    </tr>\n",
              "    <tr>\n",
              "      <th>4</th>\n",
              "      <td>Auburn University</td>\n",
              "      <td>no</td>\n",
              "      <td>65</td>\n",
              "      <td>80</td>\n",
              "    </tr>\n",
              "  </tbody>\n",
              "</table>\n",
              "</div>"
            ],
            "text/plain": [
              "                                School HBCU  FedGradRate  GradRate\n",
              "0             Alabama A & M University  yes           43        47\n",
              "1  University of Alabama at Birmingham   no           57        66\n",
              "2             Alabama State University  yes           37        89\n",
              "3            The University of Alabama   no           70        92\n",
              "4                    Auburn University   no           65        80"
            ]
          },
          "metadata": {
            "tags": []
          },
          "execution_count": 39
        }
      ]
    },
    {
      "cell_type": "code",
      "metadata": {
        "id": "ozlG8Tu33-rf",
        "colab_type": "code",
        "colab": {}
      },
      "source": [
        "# remove all null if they are in columns of intrest\n",
        "income   = income_don_df[income_don_df['DonorCash'].notnull()]\n",
        "sdCap    = stadium_cap_df[stadium_cap_df['Capacity'].notnull()]\n",
        "gradRate = grad_rate_df[grad_rate_df['GradRate'].notnull()]\n",
        "coSal    = coach_sal_df[coach_sal_df['TotalPay'].notnull()]\n"
      ],
      "execution_count": 0,
      "outputs": []
    },
    {
      "cell_type": "markdown",
      "metadata": {
        "id": "LEKRYT3EuTMv",
        "colab_type": "text"
      },
      "source": [
        "##***Merge & Match Data Frames: Fuzzy"
      ]
    },
    {
      "cell_type": "code",
      "metadata": {
        "id": "q08QUqg3ZTeN",
        "colab_type": "code",
        "colab": {}
      },
      "source": [
        "def mergeFuzzy(tbl1,tbl2):\n",
        "  # fuzzy mactch based on best prob from list\n",
        "  join_L = ['School']; join_R = ['School']\n",
        "  # merge the datasets together; print head of joined dataframe\n",
        "  mTbl = fuzzymatcher.fuzzy_left_join(tbl1, tbl2,join_L, join_R)\n",
        "  # make best_match_score column numeric\n",
        "  mTbl['best_match_score'] = mTbl['best_match_score'].apply(pd.to_numeric)\n",
        "  # remove all matches below prob of 20%\n",
        "  index = mTbl[mTbl['best_match_score'] < 0.02].index\n",
        "  mTbl.drop(index, inplace=True)\n",
        "  # remove uneeded columns\n",
        "  mTbl.drop(['best_match_score','__id_left',\n",
        "             '__id_right', 'School_left'],axis =1, inplace = True)\n",
        "  # rename the right join School col var name back to School\n",
        "  mTbl = mTbl.rename(columns = {'School_right':'School'})\n",
        "  return(mTbl)"
      ],
      "execution_count": 0,
      "outputs": []
    },
    {
      "cell_type": "code",
      "metadata": {
        "id": "HIiACFvKa9W8",
        "colab_type": "code",
        "colab": {
          "base_uri": "https://localhost:8080/",
          "height": 445
        },
        "outputId": "b4d63479-097e-4c80-f2f7-bb55ff6bc601"
      },
      "source": [
        "# merge pair resoning: both tables don't university in school name majority of time\n",
        "m1 = mergeFuzzy(sdCap, coSal); m1.head()\n",
        "# merge pair resoning: both tables have university in school name majority of time\n",
        "m2 = mergeFuzzy(income, gradRate); m2.head()\n",
        "# Final Merge and remove all N/A in relevent columns\n",
        "m3 = mergeFuzzy(m1, m2); m3.head()\n",
        "coachSalary = m3[m3['School'].notnull()] ; coachSalary.head()"
      ],
      "execution_count": 40,
      "outputs": [
        {
          "output_type": "execute_result",
          "data": {
            "text/html": [
              "<div>\n",
              "<style scoped>\n",
              "    .dataframe tbody tr th:only-of-type {\n",
              "        vertical-align: middle;\n",
              "    }\n",
              "\n",
              "    .dataframe tbody tr th {\n",
              "        vertical-align: top;\n",
              "    }\n",
              "\n",
              "    .dataframe thead th {\n",
              "        text-align: right;\n",
              "    }\n",
              "</style>\n",
              "<table border=\"1\" class=\"dataframe\">\n",
              "  <thead>\n",
              "    <tr style=\"text-align: right;\">\n",
              "      <th></th>\n",
              "      <th>Stadium</th>\n",
              "      <th>City</th>\n",
              "      <th>State</th>\n",
              "      <th>Capacity</th>\n",
              "      <th>Surface</th>\n",
              "      <th>Conference</th>\n",
              "      <th>Coach</th>\n",
              "      <th>SchoolPay</th>\n",
              "      <th>TotalPay</th>\n",
              "      <th>Bonus</th>\n",
              "      <th>BonusPaid</th>\n",
              "      <th>AssistantPay</th>\n",
              "      <th>Buyout</th>\n",
              "      <th>DonorCash</th>\n",
              "      <th>StudenFees</th>\n",
              "      <th>School</th>\n",
              "      <th>HBCU</th>\n",
              "      <th>FedGradRate</th>\n",
              "      <th>GradRate</th>\n",
              "    </tr>\n",
              "  </thead>\n",
              "  <tbody>\n",
              "    <tr>\n",
              "      <th>0</th>\n",
              "      <td>Aggie Memorial Stadium</td>\n",
              "      <td>Las Cruces</td>\n",
              "      <td>NM</td>\n",
              "      <td>30343</td>\n",
              "      <td>S5-M Synthetic Turf</td>\n",
              "      <td>Ind.</td>\n",
              "      <td>Doug Martin</td>\n",
              "      <td>419640.0</td>\n",
              "      <td>419640.0</td>\n",
              "      <td>220000.0</td>\n",
              "      <td>20000.0</td>\n",
              "      <td>0.0</td>\n",
              "      <td>1532790.0</td>\n",
              "      <td>1455064.0</td>\n",
              "      <td>1795434.0</td>\n",
              "      <td>New Mexico State University-Main Campus</td>\n",
              "      <td>no</td>\n",
              "      <td>67.0</td>\n",
              "      <td>80.0</td>\n",
              "    </tr>\n",
              "    <tr>\n",
              "      <th>1</th>\n",
              "      <td>Albertsons Stadium</td>\n",
              "      <td>Boise</td>\n",
              "      <td>ID</td>\n",
              "      <td>36387</td>\n",
              "      <td>Smurf Turf</td>\n",
              "      <td>Mt. West</td>\n",
              "      <td>Bryan Harsin</td>\n",
              "      <td>1650010.0</td>\n",
              "      <td>1650010.0</td>\n",
              "      <td>475000.0</td>\n",
              "      <td>145000.0</td>\n",
              "      <td>0.0</td>\n",
              "      <td>7784038.0</td>\n",
              "      <td>2771494.0</td>\n",
              "      <td>2401225.0</td>\n",
              "      <td>Boise State University</td>\n",
              "      <td>no</td>\n",
              "      <td>51.0</td>\n",
              "      <td>65.0</td>\n",
              "    </tr>\n",
              "    <tr>\n",
              "      <th>2</th>\n",
              "      <td>Allen E. Paulson Stadium</td>\n",
              "      <td>Statesboro</td>\n",
              "      <td>GA</td>\n",
              "      <td>25000</td>\n",
              "      <td>Shaw Legion 41 Synthetic Turf</td>\n",
              "      <td>Sun Belt</td>\n",
              "      <td>Chad Lunsford</td>\n",
              "      <td>650000.0</td>\n",
              "      <td>650000.0</td>\n",
              "      <td>295000.0</td>\n",
              "      <td>NaN</td>\n",
              "      <td>0.0</td>\n",
              "      <td>83333.0</td>\n",
              "      <td>796301.0</td>\n",
              "      <td>3943739.0</td>\n",
              "      <td>Georgia Southern University</td>\n",
              "      <td>no</td>\n",
              "      <td>64.0</td>\n",
              "      <td>68.0</td>\n",
              "    </tr>\n",
              "    <tr>\n",
              "      <th>17</th>\n",
              "      <td>Apogee Stadium</td>\n",
              "      <td>Denton</td>\n",
              "      <td>TX</td>\n",
              "      <td>30850</td>\n",
              "      <td>PowerBlade Artificial Turf</td>\n",
              "      <td>C-USA</td>\n",
              "      <td>Seth Littrell</td>\n",
              "      <td>1425000.0</td>\n",
              "      <td>1425000.0</td>\n",
              "      <td>580000.0</td>\n",
              "      <td>130000.0</td>\n",
              "      <td>0.0</td>\n",
              "      <td>4425000.0</td>\n",
              "      <td>1494883.0</td>\n",
              "      <td>4275375.0</td>\n",
              "      <td>University of North Texas</td>\n",
              "      <td>no</td>\n",
              "      <td>67.0</td>\n",
              "      <td>80.0</td>\n",
              "    </tr>\n",
              "    <tr>\n",
              "      <th>18</th>\n",
              "      <td>Arizona Stadium</td>\n",
              "      <td>Tucson</td>\n",
              "      <td>AZ</td>\n",
              "      <td>56029</td>\n",
              "      <td>FieldTurf</td>\n",
              "      <td>Pac-12</td>\n",
              "      <td>Kevin Sumlin</td>\n",
              "      <td>1600000.0</td>\n",
              "      <td>2000000.0</td>\n",
              "      <td>2025000.0</td>\n",
              "      <td>NaN</td>\n",
              "      <td>0.0</td>\n",
              "      <td>10000000.0</td>\n",
              "      <td>11362200.0</td>\n",
              "      <td>0.0</td>\n",
              "      <td>University of Arizona</td>\n",
              "      <td>no</td>\n",
              "      <td>64.0</td>\n",
              "      <td>78.0</td>\n",
              "    </tr>\n",
              "  </tbody>\n",
              "</table>\n",
              "</div>"
            ],
            "text/plain": [
              "                     Stadium        City State  ...  HBCU FedGradRate GradRate\n",
              "0     Aggie Memorial Stadium  Las Cruces    NM  ...    no        67.0     80.0\n",
              "1         Albertsons Stadium       Boise    ID  ...    no        51.0     65.0\n",
              "2   Allen E. Paulson Stadium  Statesboro    GA  ...    no        64.0     68.0\n",
              "17            Apogee Stadium      Denton    TX  ...    no        67.0     80.0\n",
              "18           Arizona Stadium      Tucson    AZ  ...    no        64.0     78.0\n",
              "\n",
              "[5 rows x 19 columns]"
            ]
          },
          "metadata": {
            "tags": []
          },
          "execution_count": 40
        }
      ]
    },
    {
      "cell_type": "code",
      "metadata": {
        "id": "kKcmtE36WIIm",
        "colab_type": "code",
        "colab": {
          "base_uri": "https://localhost:8080/",
          "height": 581
        },
        "outputId": "83000908-046a-4cf0-b6d5-2651d7c661b9"
      },
      "source": [
        "coachSalary['ConfNum'] = pd.factorize(coachSalary['Conference'])[0] + 1\n",
        "coachSalary['Conference'].value_counts() ; coachSalary['ConfNum'].value_counts()\n",
        "# discretize Conference & School for Regression\n",
        "coachSalary = coachSalary.assign(SchoolNum = [i[0] for i in enumerate(coachSalary['School'])])\n",
        "\n",
        "# what percentage of the endowment and School tuition can be accounted for in \n",
        "# --- > the Coaches TotalPay?\n",
        "# Add Student/Donor money\n",
        "# get percentage of TotalPay to Student Pay\n",
        "PctBudgetCoach = round(coachSalary['TotalPay'] / (coachSalary['DonorCash'] + coachSalary['StudenFees']) * 100)\n",
        "coachSalary = coachSalary.assign(PctBudgetCoach = PctBudgetCoach)\n",
        "coachSalary.loc[(coachSalary.PctBudgetCoach >= 150),'PctBudgetCoach']=150\n",
        "coachSalary.head()"
      ],
      "execution_count": 41,
      "outputs": [
        {
          "output_type": "stream",
          "text": [
            "/usr/local/lib/python3.6/dist-packages/ipykernel_launcher.py:1: SettingWithCopyWarning:\n",
            "\n",
            "\n",
            "A value is trying to be set on a copy of a slice from a DataFrame.\n",
            "Try using .loc[row_indexer,col_indexer] = value instead\n",
            "\n",
            "See the caveats in the documentation: https://pandas.pydata.org/pandas-docs/stable/user_guide/indexing.html#returning-a-view-versus-a-copy\n",
            "\n"
          ],
          "name": "stderr"
        },
        {
          "output_type": "execute_result",
          "data": {
            "text/html": [
              "<div>\n",
              "<style scoped>\n",
              "    .dataframe tbody tr th:only-of-type {\n",
              "        vertical-align: middle;\n",
              "    }\n",
              "\n",
              "    .dataframe tbody tr th {\n",
              "        vertical-align: top;\n",
              "    }\n",
              "\n",
              "    .dataframe thead th {\n",
              "        text-align: right;\n",
              "    }\n",
              "</style>\n",
              "<table border=\"1\" class=\"dataframe\">\n",
              "  <thead>\n",
              "    <tr style=\"text-align: right;\">\n",
              "      <th></th>\n",
              "      <th>Stadium</th>\n",
              "      <th>City</th>\n",
              "      <th>State</th>\n",
              "      <th>Capacity</th>\n",
              "      <th>Surface</th>\n",
              "      <th>Conference</th>\n",
              "      <th>Coach</th>\n",
              "      <th>SchoolPay</th>\n",
              "      <th>TotalPay</th>\n",
              "      <th>Bonus</th>\n",
              "      <th>BonusPaid</th>\n",
              "      <th>AssistantPay</th>\n",
              "      <th>Buyout</th>\n",
              "      <th>DonorCash</th>\n",
              "      <th>StudenFees</th>\n",
              "      <th>School</th>\n",
              "      <th>HBCU</th>\n",
              "      <th>FedGradRate</th>\n",
              "      <th>GradRate</th>\n",
              "      <th>ConfNum</th>\n",
              "      <th>SchoolNum</th>\n",
              "      <th>PctBudgetCoach</th>\n",
              "    </tr>\n",
              "  </thead>\n",
              "  <tbody>\n",
              "    <tr>\n",
              "      <th>0</th>\n",
              "      <td>Aggie Memorial Stadium</td>\n",
              "      <td>Las Cruces</td>\n",
              "      <td>NM</td>\n",
              "      <td>30343</td>\n",
              "      <td>S5-M Synthetic Turf</td>\n",
              "      <td>Ind.</td>\n",
              "      <td>Doug Martin</td>\n",
              "      <td>419640.0</td>\n",
              "      <td>419640.0</td>\n",
              "      <td>220000.0</td>\n",
              "      <td>20000.0</td>\n",
              "      <td>0.0</td>\n",
              "      <td>1532790.0</td>\n",
              "      <td>1455064.0</td>\n",
              "      <td>1795434.0</td>\n",
              "      <td>New Mexico State University-Main Campus</td>\n",
              "      <td>no</td>\n",
              "      <td>67.0</td>\n",
              "      <td>80.0</td>\n",
              "      <td>1</td>\n",
              "      <td>0</td>\n",
              "      <td>13.0</td>\n",
              "    </tr>\n",
              "    <tr>\n",
              "      <th>1</th>\n",
              "      <td>Albertsons Stadium</td>\n",
              "      <td>Boise</td>\n",
              "      <td>ID</td>\n",
              "      <td>36387</td>\n",
              "      <td>Smurf Turf</td>\n",
              "      <td>Mt. West</td>\n",
              "      <td>Bryan Harsin</td>\n",
              "      <td>1650010.0</td>\n",
              "      <td>1650010.0</td>\n",
              "      <td>475000.0</td>\n",
              "      <td>145000.0</td>\n",
              "      <td>0.0</td>\n",
              "      <td>7784038.0</td>\n",
              "      <td>2771494.0</td>\n",
              "      <td>2401225.0</td>\n",
              "      <td>Boise State University</td>\n",
              "      <td>no</td>\n",
              "      <td>51.0</td>\n",
              "      <td>65.0</td>\n",
              "      <td>2</td>\n",
              "      <td>1</td>\n",
              "      <td>32.0</td>\n",
              "    </tr>\n",
              "    <tr>\n",
              "      <th>2</th>\n",
              "      <td>Allen E. Paulson Stadium</td>\n",
              "      <td>Statesboro</td>\n",
              "      <td>GA</td>\n",
              "      <td>25000</td>\n",
              "      <td>Shaw Legion 41 Synthetic Turf</td>\n",
              "      <td>Sun Belt</td>\n",
              "      <td>Chad Lunsford</td>\n",
              "      <td>650000.0</td>\n",
              "      <td>650000.0</td>\n",
              "      <td>295000.0</td>\n",
              "      <td>NaN</td>\n",
              "      <td>0.0</td>\n",
              "      <td>83333.0</td>\n",
              "      <td>796301.0</td>\n",
              "      <td>3943739.0</td>\n",
              "      <td>Georgia Southern University</td>\n",
              "      <td>no</td>\n",
              "      <td>64.0</td>\n",
              "      <td>68.0</td>\n",
              "      <td>3</td>\n",
              "      <td>2</td>\n",
              "      <td>14.0</td>\n",
              "    </tr>\n",
              "    <tr>\n",
              "      <th>17</th>\n",
              "      <td>Apogee Stadium</td>\n",
              "      <td>Denton</td>\n",
              "      <td>TX</td>\n",
              "      <td>30850</td>\n",
              "      <td>PowerBlade Artificial Turf</td>\n",
              "      <td>C-USA</td>\n",
              "      <td>Seth Littrell</td>\n",
              "      <td>1425000.0</td>\n",
              "      <td>1425000.0</td>\n",
              "      <td>580000.0</td>\n",
              "      <td>130000.0</td>\n",
              "      <td>0.0</td>\n",
              "      <td>4425000.0</td>\n",
              "      <td>1494883.0</td>\n",
              "      <td>4275375.0</td>\n",
              "      <td>University of North Texas</td>\n",
              "      <td>no</td>\n",
              "      <td>67.0</td>\n",
              "      <td>80.0</td>\n",
              "      <td>4</td>\n",
              "      <td>3</td>\n",
              "      <td>25.0</td>\n",
              "    </tr>\n",
              "    <tr>\n",
              "      <th>18</th>\n",
              "      <td>Arizona Stadium</td>\n",
              "      <td>Tucson</td>\n",
              "      <td>AZ</td>\n",
              "      <td>56029</td>\n",
              "      <td>FieldTurf</td>\n",
              "      <td>Pac-12</td>\n",
              "      <td>Kevin Sumlin</td>\n",
              "      <td>1600000.0</td>\n",
              "      <td>2000000.0</td>\n",
              "      <td>2025000.0</td>\n",
              "      <td>NaN</td>\n",
              "      <td>0.0</td>\n",
              "      <td>10000000.0</td>\n",
              "      <td>11362200.0</td>\n",
              "      <td>0.0</td>\n",
              "      <td>University of Arizona</td>\n",
              "      <td>no</td>\n",
              "      <td>64.0</td>\n",
              "      <td>78.0</td>\n",
              "      <td>5</td>\n",
              "      <td>4</td>\n",
              "      <td>18.0</td>\n",
              "    </tr>\n",
              "  </tbody>\n",
              "</table>\n",
              "</div>"
            ],
            "text/plain": [
              "                     Stadium        City  ... SchoolNum  PctBudgetCoach\n",
              "0     Aggie Memorial Stadium  Las Cruces  ...         0            13.0\n",
              "1         Albertsons Stadium       Boise  ...         1            32.0\n",
              "2   Allen E. Paulson Stadium  Statesboro  ...         2            14.0\n",
              "17            Apogee Stadium      Denton  ...         3            25.0\n",
              "18           Arizona Stadium      Tucson  ...         4            18.0\n",
              "\n",
              "[5 rows x 22 columns]"
            ]
          },
          "metadata": {
            "tags": []
          },
          "execution_count": 41
        }
      ]
    },
    {
      "cell_type": "code",
      "metadata": {
        "id": "xpsgEskReSP4",
        "colab_type": "code",
        "colab": {}
      },
      "source": [
        "# exported to visually check for errors, fesable on small datasets\n",
        "#coachSalary.to_csv(r'{0}coachSalary_Clean.csv'.format(root_path), index = False)"
      ],
      "execution_count": 0,
      "outputs": []
    },
    {
      "cell_type": "markdown",
      "metadata": {
        "id": "EFdPk9D9NBwb",
        "colab_type": "text"
      },
      "source": [
        "#**Exploritory Data Analysis**"
      ]
    },
    {
      "cell_type": "markdown",
      "metadata": {
        "id": "HbZ5YgA4lZyA",
        "colab_type": "text"
      },
      "source": [
        "##**Graduation Rate by Conference**\n",
        "### Notice how the few HBCU's has the largest spread of graduation success rates"
      ]
    },
    {
      "cell_type": "code",
      "metadata": {
        "id": "TGpK76t56vM6",
        "colab_type": "code",
        "colab": {
          "base_uri": "https://localhost:8080/",
          "height": 542
        },
        "outputId": "a7976028-30d1-48a0-e680-a5d93093fae3"
      },
      "source": [
        "fig = px.box(coachSalary, x='Conference', y='GradRate', color=\"HBCU\",\n",
        "             title=\"Graduation Rate by Conference\")\n",
        "fig.show()"
      ],
      "execution_count": 26,
      "outputs": [
        {
          "output_type": "display_data",
          "data": {
            "text/html": [
              "<html>\n",
              "<head><meta charset=\"utf-8\" /></head>\n",
              "<body>\n",
              "    <div>\n",
              "            <script src=\"https://cdnjs.cloudflare.com/ajax/libs/mathjax/2.7.5/MathJax.js?config=TeX-AMS-MML_SVG\"></script><script type=\"text/javascript\">if (window.MathJax) {MathJax.Hub.Config({SVG: {font: \"STIX-Web\"}});}</script>\n",
              "                <script type=\"text/javascript\">window.PlotlyConfig = {MathJaxConfig: 'local'};</script>\n",
              "        <script src=\"https://cdn.plot.ly/plotly-latest.min.js\"></script>    \n",
              "            <div id=\"76a13a45-8a74-44c3-b90e-4cd16230025c\" class=\"plotly-graph-div\" style=\"height:525px; width:100%;\"></div>\n",
              "            <script type=\"text/javascript\">\n",
              "                \n",
              "                    window.PLOTLYENV=window.PLOTLYENV || {};\n",
              "                    \n",
              "                if (document.getElementById(\"76a13a45-8a74-44c3-b90e-4cd16230025c\")) {\n",
              "                    Plotly.newPlot(\n",
              "                        '76a13a45-8a74-44c3-b90e-4cd16230025c',\n",
              "                        [{\"alignmentgroup\": \"True\", \"hoverlabel\": {\"namelength\": 0}, \"hovertemplate\": \"HBCU=no<br>Conference=%{x}<br>GradRate=%{y}\", \"legendgroup\": \"HBCU=no\", \"marker\": {\"color\": \"#636efa\"}, \"name\": \"HBCU=no\", \"notched\": false, \"offsetgroup\": \"HBCU=no\", \"orientation\": \"v\", \"showlegend\": true, \"type\": \"box\", \"x\": [\"Ind.\", \"Mt. West\", \"Sun Belt\", \"C-USA\", \"Pac-12\", \"Pac-12\", \"AAC\", \"Big 12\", \"ACC\", \"ACC\", \"Big 12\", \"Mt. West\", \"C-USA\", \"Big Ten\", \"ACC\", \"ACC\", \"Sun Belt\", \"Mt. West\", \"Sun Belt\", \"Big 12\", \"Big 12\", \"SEC\", \"MAC\", \"Mt. West\", \"SEC\", \"Pac-12\", \"Pac-12\", \"ACC\", \"MAC\", \"Sun Belt\", \"MAC\", \"MAC\", \"C-USA\", \"Big 12\", \"Sun Belt\", \"C-USA\", \"C-USA\", \"C-USA\", \"Mt. West\", \"Big 12\", \"Sun Belt\", \"MAC\", \"ACC\", \"Sun Belt\", \"Big Ten\", \"C-USA\", \"SEC\", \"SEC\", \"Sun Belt\", \"ACC\", \"AAC\", \"Pac-12\", \"Mt. West\", \"Pac-12\", \"Big Ten\", \"Big Ten\", \"Big Ten\", \"Mt. West\", \"Big Ten\", \"Big 12\", \"AAC\", \"Big Ten\", \"SEC\", \"MAC\", \"SEC\", \"Pac-12\", \"Pac-12\", \"Big Ten\", \"Big Ten\", \"MAC\", \"SEC\", \"MAC\", \"Mt. West\", \"Big Ten\", \"Big Ten\", \"SEC\", \"SEC\", \"Sun Belt\", \"MAC\"], \"x0\": \" \", \"xaxis\": \"x\", \"y\": [80.0, 65.0, 68.0, 80.0, 78.0, 85.0, 87.0, 81.0, 87.0, 83.0, 66.0, 67.0, 88.0, 88.0, 81.0, 92.0, 68.0, 64.0, 69.0, 77.0, 83.0, 75.0, 74.0, 74.0, 83.0, 73.0, 80.0, 93.0, 88.0, 91.0, 76.0, 88.0, 80.0, 82.0, 77.0, 76.0, 88.0, 91.0, 84.0, 75.0, 47.0, 80.0, 91.0, 84.0, 86.0, 82.0, 75.0, 79.0, 74.0, 92.0, 88.0, 77.0, 71.0, 79.0, 86.0, 58.0, 89.0, 86.0, 87.0, 92.0, 78.0, 91.0, 80.0, 84.0, 74.0, 80.0, 84.0, 82.0, 70.0, 82.0, 83.0, 41.0, 72.0, 87.0, 87.0, 84.0, 73.0, 71.0, 81.0], \"y0\": \" \", \"yaxis\": \"y\"}, {\"alignmentgroup\": \"True\", \"hoverlabel\": {\"namelength\": 0}, \"hovertemplate\": \"HBCU=yes<br>Conference=%{x}<br>GradRate=%{y}\", \"legendgroup\": \"HBCU=yes\", \"marker\": {\"color\": \"#EF553B\"}, \"name\": \"HBCU=yes\", \"notched\": false, \"offsetgroup\": \"HBCU=yes\", \"orientation\": \"v\", \"showlegend\": true, \"type\": \"box\", \"x\": [\"SEC\", \"SEC\", \"SEC\"], \"x0\": \" \", \"xaxis\": \"x\", \"y\": [89.0, 63.0, 65.0], \"y0\": \" \", \"yaxis\": \"y\"}],\n",
              "                        {\"boxmode\": \"group\", \"legend\": {\"tracegroupgap\": 0}, \"template\": {\"data\": {\"bar\": [{\"error_x\": {\"color\": \"#2a3f5f\"}, \"error_y\": {\"color\": \"#2a3f5f\"}, \"marker\": {\"line\": {\"color\": \"#E5ECF6\", \"width\": 0.5}}, \"type\": \"bar\"}], \"barpolar\": [{\"marker\": {\"line\": {\"color\": \"#E5ECF6\", \"width\": 0.5}}, \"type\": \"barpolar\"}], \"carpet\": [{\"aaxis\": {\"endlinecolor\": \"#2a3f5f\", \"gridcolor\": \"white\", \"linecolor\": \"white\", \"minorgridcolor\": \"white\", \"startlinecolor\": \"#2a3f5f\"}, \"baxis\": {\"endlinecolor\": \"#2a3f5f\", \"gridcolor\": \"white\", \"linecolor\": \"white\", \"minorgridcolor\": \"white\", \"startlinecolor\": \"#2a3f5f\"}, \"type\": \"carpet\"}], \"choropleth\": [{\"colorbar\": {\"outlinewidth\": 0, \"ticks\": \"\"}, \"type\": \"choropleth\"}], \"contour\": [{\"colorbar\": {\"outlinewidth\": 0, \"ticks\": \"\"}, \"colorscale\": [[0.0, \"#0d0887\"], [0.1111111111111111, \"#46039f\"], [0.2222222222222222, \"#7201a8\"], [0.3333333333333333, \"#9c179e\"], [0.4444444444444444, \"#bd3786\"], [0.5555555555555556, \"#d8576b\"], [0.6666666666666666, \"#ed7953\"], [0.7777777777777778, \"#fb9f3a\"], [0.8888888888888888, \"#fdca26\"], [1.0, \"#f0f921\"]], \"type\": \"contour\"}], \"contourcarpet\": [{\"colorbar\": {\"outlinewidth\": 0, \"ticks\": \"\"}, \"type\": \"contourcarpet\"}], \"heatmap\": [{\"colorbar\": {\"outlinewidth\": 0, \"ticks\": \"\"}, \"colorscale\": [[0.0, \"#0d0887\"], [0.1111111111111111, \"#46039f\"], [0.2222222222222222, \"#7201a8\"], [0.3333333333333333, \"#9c179e\"], [0.4444444444444444, \"#bd3786\"], [0.5555555555555556, \"#d8576b\"], [0.6666666666666666, \"#ed7953\"], [0.7777777777777778, \"#fb9f3a\"], [0.8888888888888888, \"#fdca26\"], [1.0, \"#f0f921\"]], \"type\": \"heatmap\"}], \"heatmapgl\": [{\"colorbar\": {\"outlinewidth\": 0, \"ticks\": \"\"}, \"colorscale\": [[0.0, \"#0d0887\"], [0.1111111111111111, \"#46039f\"], [0.2222222222222222, \"#7201a8\"], [0.3333333333333333, \"#9c179e\"], [0.4444444444444444, \"#bd3786\"], [0.5555555555555556, \"#d8576b\"], [0.6666666666666666, \"#ed7953\"], [0.7777777777777778, \"#fb9f3a\"], [0.8888888888888888, \"#fdca26\"], [1.0, \"#f0f921\"]], \"type\": \"heatmapgl\"}], \"histogram\": [{\"marker\": {\"colorbar\": {\"outlinewidth\": 0, \"ticks\": \"\"}}, \"type\": \"histogram\"}], \"histogram2d\": [{\"colorbar\": {\"outlinewidth\": 0, \"ticks\": \"\"}, \"colorscale\": [[0.0, \"#0d0887\"], [0.1111111111111111, \"#46039f\"], [0.2222222222222222, \"#7201a8\"], [0.3333333333333333, \"#9c179e\"], [0.4444444444444444, \"#bd3786\"], [0.5555555555555556, \"#d8576b\"], [0.6666666666666666, \"#ed7953\"], [0.7777777777777778, \"#fb9f3a\"], [0.8888888888888888, \"#fdca26\"], [1.0, \"#f0f921\"]], \"type\": \"histogram2d\"}], \"histogram2dcontour\": [{\"colorbar\": {\"outlinewidth\": 0, \"ticks\": \"\"}, \"colorscale\": [[0.0, \"#0d0887\"], [0.1111111111111111, \"#46039f\"], [0.2222222222222222, \"#7201a8\"], [0.3333333333333333, \"#9c179e\"], [0.4444444444444444, \"#bd3786\"], [0.5555555555555556, \"#d8576b\"], [0.6666666666666666, \"#ed7953\"], [0.7777777777777778, \"#fb9f3a\"], [0.8888888888888888, \"#fdca26\"], [1.0, \"#f0f921\"]], \"type\": \"histogram2dcontour\"}], \"mesh3d\": [{\"colorbar\": {\"outlinewidth\": 0, \"ticks\": \"\"}, \"type\": \"mesh3d\"}], \"parcoords\": [{\"line\": {\"colorbar\": {\"outlinewidth\": 0, \"ticks\": \"\"}}, \"type\": \"parcoords\"}], \"pie\": [{\"automargin\": true, \"type\": \"pie\"}], \"scatter\": [{\"marker\": {\"colorbar\": {\"outlinewidth\": 0, \"ticks\": \"\"}}, \"type\": \"scatter\"}], \"scatter3d\": [{\"line\": {\"colorbar\": {\"outlinewidth\": 0, \"ticks\": \"\"}}, \"marker\": {\"colorbar\": {\"outlinewidth\": 0, \"ticks\": \"\"}}, \"type\": \"scatter3d\"}], \"scattercarpet\": [{\"marker\": {\"colorbar\": {\"outlinewidth\": 0, \"ticks\": \"\"}}, \"type\": \"scattercarpet\"}], \"scattergeo\": [{\"marker\": {\"colorbar\": {\"outlinewidth\": 0, \"ticks\": \"\"}}, \"type\": \"scattergeo\"}], \"scattergl\": [{\"marker\": {\"colorbar\": {\"outlinewidth\": 0, \"ticks\": \"\"}}, \"type\": \"scattergl\"}], \"scattermapbox\": [{\"marker\": {\"colorbar\": {\"outlinewidth\": 0, \"ticks\": \"\"}}, \"type\": \"scattermapbox\"}], \"scatterpolar\": [{\"marker\": {\"colorbar\": {\"outlinewidth\": 0, \"ticks\": \"\"}}, \"type\": \"scatterpolar\"}], \"scatterpolargl\": [{\"marker\": {\"colorbar\": {\"outlinewidth\": 0, \"ticks\": \"\"}}, \"type\": \"scatterpolargl\"}], \"scatterternary\": [{\"marker\": {\"colorbar\": {\"outlinewidth\": 0, \"ticks\": \"\"}}, \"type\": \"scatterternary\"}], \"surface\": [{\"colorbar\": {\"outlinewidth\": 0, \"ticks\": \"\"}, \"colorscale\": [[0.0, \"#0d0887\"], [0.1111111111111111, \"#46039f\"], [0.2222222222222222, \"#7201a8\"], [0.3333333333333333, \"#9c179e\"], [0.4444444444444444, \"#bd3786\"], [0.5555555555555556, \"#d8576b\"], [0.6666666666666666, \"#ed7953\"], [0.7777777777777778, \"#fb9f3a\"], [0.8888888888888888, \"#fdca26\"], [1.0, \"#f0f921\"]], \"type\": \"surface\"}], \"table\": [{\"cells\": {\"fill\": {\"color\": \"#EBF0F8\"}, \"line\": {\"color\": \"white\"}}, \"header\": {\"fill\": {\"color\": \"#C8D4E3\"}, \"line\": {\"color\": \"white\"}}, \"type\": \"table\"}]}, \"layout\": {\"annotationdefaults\": {\"arrowcolor\": \"#2a3f5f\", \"arrowhead\": 0, \"arrowwidth\": 1}, \"coloraxis\": {\"colorbar\": {\"outlinewidth\": 0, \"ticks\": \"\"}}, \"colorscale\": {\"diverging\": [[0, \"#8e0152\"], [0.1, \"#c51b7d\"], [0.2, \"#de77ae\"], [0.3, \"#f1b6da\"], [0.4, \"#fde0ef\"], [0.5, \"#f7f7f7\"], [0.6, \"#e6f5d0\"], [0.7, \"#b8e186\"], [0.8, \"#7fbc41\"], [0.9, \"#4d9221\"], [1, \"#276419\"]], \"sequential\": [[0.0, \"#0d0887\"], [0.1111111111111111, \"#46039f\"], [0.2222222222222222, \"#7201a8\"], [0.3333333333333333, \"#9c179e\"], [0.4444444444444444, \"#bd3786\"], [0.5555555555555556, \"#d8576b\"], [0.6666666666666666, \"#ed7953\"], [0.7777777777777778, \"#fb9f3a\"], [0.8888888888888888, \"#fdca26\"], [1.0, \"#f0f921\"]], \"sequentialminus\": [[0.0, \"#0d0887\"], [0.1111111111111111, \"#46039f\"], [0.2222222222222222, \"#7201a8\"], [0.3333333333333333, \"#9c179e\"], [0.4444444444444444, \"#bd3786\"], [0.5555555555555556, \"#d8576b\"], [0.6666666666666666, \"#ed7953\"], [0.7777777777777778, \"#fb9f3a\"], [0.8888888888888888, \"#fdca26\"], [1.0, \"#f0f921\"]]}, \"colorway\": [\"#636efa\", \"#EF553B\", \"#00cc96\", \"#ab63fa\", \"#FFA15A\", \"#19d3f3\", \"#FF6692\", \"#B6E880\", \"#FF97FF\", \"#FECB52\"], \"font\": {\"color\": \"#2a3f5f\"}, \"geo\": {\"bgcolor\": \"white\", \"lakecolor\": \"white\", \"landcolor\": \"#E5ECF6\", \"showlakes\": true, \"showland\": true, \"subunitcolor\": \"white\"}, \"hoverlabel\": {\"align\": \"left\"}, \"hovermode\": \"closest\", \"mapbox\": {\"style\": \"light\"}, \"paper_bgcolor\": \"white\", \"plot_bgcolor\": \"#E5ECF6\", \"polar\": {\"angularaxis\": {\"gridcolor\": \"white\", \"linecolor\": \"white\", \"ticks\": \"\"}, \"bgcolor\": \"#E5ECF6\", \"radialaxis\": {\"gridcolor\": \"white\", \"linecolor\": \"white\", \"ticks\": \"\"}}, \"scene\": {\"xaxis\": {\"backgroundcolor\": \"#E5ECF6\", \"gridcolor\": \"white\", \"gridwidth\": 2, \"linecolor\": \"white\", \"showbackground\": true, \"ticks\": \"\", \"zerolinecolor\": \"white\"}, \"yaxis\": {\"backgroundcolor\": \"#E5ECF6\", \"gridcolor\": \"white\", \"gridwidth\": 2, \"linecolor\": \"white\", \"showbackground\": true, \"ticks\": \"\", \"zerolinecolor\": \"white\"}, \"zaxis\": {\"backgroundcolor\": \"#E5ECF6\", \"gridcolor\": \"white\", \"gridwidth\": 2, \"linecolor\": \"white\", \"showbackground\": true, \"ticks\": \"\", \"zerolinecolor\": \"white\"}}, \"shapedefaults\": {\"line\": {\"color\": \"#2a3f5f\"}}, \"ternary\": {\"aaxis\": {\"gridcolor\": \"white\", \"linecolor\": \"white\", \"ticks\": \"\"}, \"baxis\": {\"gridcolor\": \"white\", \"linecolor\": \"white\", \"ticks\": \"\"}, \"bgcolor\": \"#E5ECF6\", \"caxis\": {\"gridcolor\": \"white\", \"linecolor\": \"white\", \"ticks\": \"\"}}, \"title\": {\"x\": 0.05}, \"xaxis\": {\"automargin\": true, \"gridcolor\": \"white\", \"linecolor\": \"white\", \"ticks\": \"\", \"title\": {\"standoff\": 15}, \"zerolinecolor\": \"white\", \"zerolinewidth\": 2}, \"yaxis\": {\"automargin\": true, \"gridcolor\": \"white\", \"linecolor\": \"white\", \"ticks\": \"\", \"title\": {\"standoff\": 15}, \"zerolinecolor\": \"white\", \"zerolinewidth\": 2}}}, \"title\": {\"text\": \"Graduation Rate by Conference\"}, \"xaxis\": {\"anchor\": \"y\", \"domain\": [0.0, 1.0], \"title\": {\"text\": \"Conference\"}}, \"yaxis\": {\"anchor\": \"x\", \"domain\": [0.0, 1.0], \"title\": {\"text\": \"GradRate\"}}},\n",
              "                        {\"responsive\": true}\n",
              "                    ).then(function(){\n",
              "                            \n",
              "var gd = document.getElementById('76a13a45-8a74-44c3-b90e-4cd16230025c');\n",
              "var x = new MutationObserver(function (mutations, observer) {{\n",
              "        var display = window.getComputedStyle(gd).display;\n",
              "        if (!display || display === 'none') {{\n",
              "            console.log([gd, 'removed!']);\n",
              "            Plotly.purge(gd);\n",
              "            observer.disconnect();\n",
              "        }}\n",
              "}});\n",
              "\n",
              "// Listen for the removal of the full notebook cells\n",
              "var notebookContainer = gd.closest('#notebook-container');\n",
              "if (notebookContainer) {{\n",
              "    x.observe(notebookContainer, {childList: true});\n",
              "}}\n",
              "\n",
              "// Listen for the clearing of the current output cell\n",
              "var outputEl = gd.closest('.output');\n",
              "if (outputEl) {{\n",
              "    x.observe(outputEl, {childList: true});\n",
              "}}\n",
              "\n",
              "                        })\n",
              "                };\n",
              "                \n",
              "            </script>\n",
              "        </div>\n",
              "</body>\n",
              "</html>"
            ]
          },
          "metadata": {
            "tags": []
          }
        }
      ]
    },
    {
      "cell_type": "markdown",
      "metadata": {
        "id": "4ZDE7kaHbolK",
        "colab_type": "text"
      },
      "source": [
        "###HBCU's are leading the trend of high coach salary"
      ]
    },
    {
      "cell_type": "code",
      "metadata": {
        "id": "e9afB7zW8sQw",
        "colab_type": "code",
        "colab": {
          "base_uri": "https://localhost:8080/",
          "height": 542
        },
        "outputId": "9ee62f39-4a7a-46a9-a79b-342e195ad300"
      },
      "source": [
        "fig = px.box(coachSalary, x='Conference', y='TotalPay', color=\"HBCU\",\n",
        "             title=\"CoachSalary by Conference\")\n",
        "fig.show()"
      ],
      "execution_count": 27,
      "outputs": [
        {
          "output_type": "display_data",
          "data": {
            "text/html": [
              "<html>\n",
              "<head><meta charset=\"utf-8\" /></head>\n",
              "<body>\n",
              "    <div>\n",
              "            <script src=\"https://cdnjs.cloudflare.com/ajax/libs/mathjax/2.7.5/MathJax.js?config=TeX-AMS-MML_SVG\"></script><script type=\"text/javascript\">if (window.MathJax) {MathJax.Hub.Config({SVG: {font: \"STIX-Web\"}});}</script>\n",
              "                <script type=\"text/javascript\">window.PlotlyConfig = {MathJaxConfig: 'local'};</script>\n",
              "        <script src=\"https://cdn.plot.ly/plotly-latest.min.js\"></script>    \n",
              "            <div id=\"ff653d57-6839-4d08-8d88-499f7258b00a\" class=\"plotly-graph-div\" style=\"height:525px; width:100%;\"></div>\n",
              "            <script type=\"text/javascript\">\n",
              "                \n",
              "                    window.PLOTLYENV=window.PLOTLYENV || {};\n",
              "                    \n",
              "                if (document.getElementById(\"ff653d57-6839-4d08-8d88-499f7258b00a\")) {\n",
              "                    Plotly.newPlot(\n",
              "                        'ff653d57-6839-4d08-8d88-499f7258b00a',\n",
              "                        [{\"alignmentgroup\": \"True\", \"hoverlabel\": {\"namelength\": 0}, \"hovertemplate\": \"HBCU=no<br>Conference=%{x}<br>TotalPay=%{y}\", \"legendgroup\": \"HBCU=no\", \"marker\": {\"color\": \"#636efa\"}, \"name\": \"HBCU=no\", \"notched\": false, \"offsetgroup\": \"HBCU=no\", \"orientation\": \"v\", \"showlegend\": true, \"type\": \"box\", \"x\": [\"Ind.\", \"Mt. West\", \"Sun Belt\", \"C-USA\", \"Pac-12\", \"Pac-12\", \"AAC\", \"Big 12\", \"ACC\", \"ACC\", \"Big 12\", \"Mt. West\", \"C-USA\", \"Big Ten\", \"ACC\", \"ACC\", \"Sun Belt\", \"Mt. West\", \"Sun Belt\", \"Big 12\", \"Big 12\", \"SEC\", \"MAC\", \"Mt. West\", \"SEC\", \"Pac-12\", \"Pac-12\", \"ACC\", \"MAC\", \"Sun Belt\", \"MAC\", \"MAC\", \"C-USA\", \"Big 12\", \"Sun Belt\", \"C-USA\", \"C-USA\", \"C-USA\", \"Mt. West\", \"Big 12\", \"Sun Belt\", \"MAC\", \"ACC\", \"Sun Belt\", \"Big Ten\", \"C-USA\", \"SEC\", \"SEC\", \"Sun Belt\", \"ACC\", \"AAC\", \"Pac-12\", \"Mt. West\", \"Pac-12\", \"Big Ten\", \"Big Ten\", \"Big Ten\", \"Mt. West\", \"Big Ten\", \"Big 12\", \"AAC\", \"Big Ten\", \"SEC\", \"MAC\", \"SEC\", \"Pac-12\", \"Pac-12\", \"Big Ten\", \"Big Ten\", \"MAC\", \"SEC\", \"MAC\", \"Mt. West\", \"Big Ten\", \"Big Ten\", \"SEC\", \"SEC\", \"Sun Belt\", \"MAC\"], \"x0\": \" \", \"xaxis\": \"x\", \"y\": [419640.0, 1650010.0, 650000.0, 1425000.0, 2000000.0, 2500000.0, 1102500.0, 3500000.0, 5000000.0, 3060018.0, 5000000.0, 1550000.0, 700000.0, 3750000.0, 3980434.0, 3550000.0, 650000.0, 590424.0, 825000.0, 5500000.0, 1701109.0, 2600000.0, 440000.0, 823740.0, 2350000.0, 2878500.0, 2000000.0, 6543350.0, 524826.0, 569000.0, 1125000.0, 524826.0, 805850.0, 3500000.0, 700000.0, 762570.0, 700000.0, 803004.0, 1412000.0, 3703975.0, 390000.0, 655000.0, 2575000.0, 712500.0, 4700000.0, 654667.0, 4013600.0, 7500000.0, 600000.0, 4000000.0, 2600000.0, 2625965.0, 500000.0, 3500000.0, 5000000.0, 1830000.0, 5000000.0, 900000.0, 7504000.0, 3617500.0, 2000000.0, 7600000.0, 6705656.0, 580331.0, 3500000.0, 1900008.0, 3787917.0, 3800000.0, 3619775.0, 460000.0, 6603600.0, 435689.0, 873576.0, 2200000.0, 4390417.0, 6070000.0, 3000000.0, 810000.0, 800000.0], \"y0\": \" \", \"yaxis\": \"y\"}, {\"alignmentgroup\": \"True\", \"hoverlabel\": {\"namelength\": 0}, \"hovertemplate\": \"HBCU=yes<br>Conference=%{x}<br>TotalPay=%{y}\", \"legendgroup\": \"HBCU=yes\", \"marker\": {\"color\": \"#EF553B\"}, \"name\": \"HBCU=yes\", \"notched\": false, \"offsetgroup\": \"HBCU=yes\", \"orientation\": \"v\", \"showlegend\": true, \"type\": \"box\", \"x\": [\"SEC\", \"SEC\", \"SEC\"], \"x0\": \" \", \"xaxis\": \"x\", \"y\": [8307000.0, 3846000.0, 4200000.0], \"y0\": \" \", \"yaxis\": \"y\"}],\n",
              "                        {\"boxmode\": \"group\", \"legend\": {\"tracegroupgap\": 0}, \"template\": {\"data\": {\"bar\": [{\"error_x\": {\"color\": \"#2a3f5f\"}, \"error_y\": {\"color\": \"#2a3f5f\"}, \"marker\": {\"line\": {\"color\": \"#E5ECF6\", \"width\": 0.5}}, \"type\": \"bar\"}], \"barpolar\": [{\"marker\": {\"line\": {\"color\": \"#E5ECF6\", \"width\": 0.5}}, \"type\": \"barpolar\"}], \"carpet\": [{\"aaxis\": {\"endlinecolor\": \"#2a3f5f\", \"gridcolor\": \"white\", \"linecolor\": \"white\", \"minorgridcolor\": \"white\", \"startlinecolor\": \"#2a3f5f\"}, \"baxis\": {\"endlinecolor\": \"#2a3f5f\", \"gridcolor\": \"white\", \"linecolor\": \"white\", \"minorgridcolor\": \"white\", \"startlinecolor\": \"#2a3f5f\"}, \"type\": \"carpet\"}], \"choropleth\": [{\"colorbar\": {\"outlinewidth\": 0, \"ticks\": \"\"}, \"type\": \"choropleth\"}], \"contour\": [{\"colorbar\": {\"outlinewidth\": 0, \"ticks\": \"\"}, \"colorscale\": [[0.0, \"#0d0887\"], [0.1111111111111111, \"#46039f\"], [0.2222222222222222, \"#7201a8\"], [0.3333333333333333, \"#9c179e\"], [0.4444444444444444, \"#bd3786\"], [0.5555555555555556, \"#d8576b\"], [0.6666666666666666, \"#ed7953\"], [0.7777777777777778, \"#fb9f3a\"], [0.8888888888888888, \"#fdca26\"], [1.0, \"#f0f921\"]], \"type\": \"contour\"}], \"contourcarpet\": [{\"colorbar\": {\"outlinewidth\": 0, \"ticks\": \"\"}, \"type\": \"contourcarpet\"}], \"heatmap\": [{\"colorbar\": {\"outlinewidth\": 0, \"ticks\": \"\"}, \"colorscale\": [[0.0, \"#0d0887\"], [0.1111111111111111, \"#46039f\"], [0.2222222222222222, \"#7201a8\"], [0.3333333333333333, \"#9c179e\"], [0.4444444444444444, \"#bd3786\"], [0.5555555555555556, \"#d8576b\"], [0.6666666666666666, \"#ed7953\"], [0.7777777777777778, \"#fb9f3a\"], [0.8888888888888888, \"#fdca26\"], [1.0, \"#f0f921\"]], \"type\": \"heatmap\"}], \"heatmapgl\": [{\"colorbar\": {\"outlinewidth\": 0, \"ticks\": \"\"}, \"colorscale\": [[0.0, \"#0d0887\"], [0.1111111111111111, \"#46039f\"], [0.2222222222222222, \"#7201a8\"], [0.3333333333333333, \"#9c179e\"], [0.4444444444444444, \"#bd3786\"], [0.5555555555555556, \"#d8576b\"], [0.6666666666666666, \"#ed7953\"], [0.7777777777777778, \"#fb9f3a\"], [0.8888888888888888, \"#fdca26\"], [1.0, \"#f0f921\"]], \"type\": \"heatmapgl\"}], \"histogram\": [{\"marker\": {\"colorbar\": {\"outlinewidth\": 0, \"ticks\": \"\"}}, \"type\": \"histogram\"}], \"histogram2d\": [{\"colorbar\": {\"outlinewidth\": 0, \"ticks\": \"\"}, \"colorscale\": [[0.0, \"#0d0887\"], [0.1111111111111111, \"#46039f\"], [0.2222222222222222, \"#7201a8\"], [0.3333333333333333, \"#9c179e\"], [0.4444444444444444, \"#bd3786\"], [0.5555555555555556, \"#d8576b\"], [0.6666666666666666, \"#ed7953\"], [0.7777777777777778, \"#fb9f3a\"], [0.8888888888888888, \"#fdca26\"], [1.0, \"#f0f921\"]], \"type\": \"histogram2d\"}], \"histogram2dcontour\": [{\"colorbar\": {\"outlinewidth\": 0, \"ticks\": \"\"}, \"colorscale\": [[0.0, \"#0d0887\"], [0.1111111111111111, \"#46039f\"], [0.2222222222222222, \"#7201a8\"], [0.3333333333333333, \"#9c179e\"], [0.4444444444444444, \"#bd3786\"], [0.5555555555555556, \"#d8576b\"], [0.6666666666666666, \"#ed7953\"], [0.7777777777777778, \"#fb9f3a\"], [0.8888888888888888, \"#fdca26\"], [1.0, \"#f0f921\"]], \"type\": \"histogram2dcontour\"}], \"mesh3d\": [{\"colorbar\": {\"outlinewidth\": 0, \"ticks\": \"\"}, \"type\": \"mesh3d\"}], \"parcoords\": [{\"line\": {\"colorbar\": {\"outlinewidth\": 0, \"ticks\": \"\"}}, \"type\": \"parcoords\"}], \"pie\": [{\"automargin\": true, \"type\": \"pie\"}], \"scatter\": [{\"marker\": {\"colorbar\": {\"outlinewidth\": 0, \"ticks\": \"\"}}, \"type\": \"scatter\"}], \"scatter3d\": [{\"line\": {\"colorbar\": {\"outlinewidth\": 0, \"ticks\": \"\"}}, \"marker\": {\"colorbar\": {\"outlinewidth\": 0, \"ticks\": \"\"}}, \"type\": \"scatter3d\"}], \"scattercarpet\": [{\"marker\": {\"colorbar\": {\"outlinewidth\": 0, \"ticks\": \"\"}}, \"type\": \"scattercarpet\"}], \"scattergeo\": [{\"marker\": {\"colorbar\": {\"outlinewidth\": 0, \"ticks\": \"\"}}, \"type\": \"scattergeo\"}], \"scattergl\": [{\"marker\": {\"colorbar\": {\"outlinewidth\": 0, \"ticks\": \"\"}}, \"type\": \"scattergl\"}], \"scattermapbox\": [{\"marker\": {\"colorbar\": {\"outlinewidth\": 0, \"ticks\": \"\"}}, \"type\": \"scattermapbox\"}], \"scatterpolar\": [{\"marker\": {\"colorbar\": {\"outlinewidth\": 0, \"ticks\": \"\"}}, \"type\": \"scatterpolar\"}], \"scatterpolargl\": [{\"marker\": {\"colorbar\": {\"outlinewidth\": 0, \"ticks\": \"\"}}, \"type\": \"scatterpolargl\"}], \"scatterternary\": [{\"marker\": {\"colorbar\": {\"outlinewidth\": 0, \"ticks\": \"\"}}, \"type\": \"scatterternary\"}], \"surface\": [{\"colorbar\": {\"outlinewidth\": 0, \"ticks\": \"\"}, \"colorscale\": [[0.0, \"#0d0887\"], [0.1111111111111111, \"#46039f\"], [0.2222222222222222, \"#7201a8\"], [0.3333333333333333, \"#9c179e\"], [0.4444444444444444, \"#bd3786\"], [0.5555555555555556, \"#d8576b\"], [0.6666666666666666, \"#ed7953\"], [0.7777777777777778, \"#fb9f3a\"], [0.8888888888888888, \"#fdca26\"], [1.0, \"#f0f921\"]], \"type\": \"surface\"}], \"table\": [{\"cells\": {\"fill\": {\"color\": \"#EBF0F8\"}, \"line\": {\"color\": \"white\"}}, \"header\": {\"fill\": {\"color\": \"#C8D4E3\"}, \"line\": {\"color\": \"white\"}}, \"type\": \"table\"}]}, \"layout\": {\"annotationdefaults\": {\"arrowcolor\": \"#2a3f5f\", \"arrowhead\": 0, \"arrowwidth\": 1}, \"coloraxis\": {\"colorbar\": {\"outlinewidth\": 0, \"ticks\": \"\"}}, \"colorscale\": {\"diverging\": [[0, \"#8e0152\"], [0.1, \"#c51b7d\"], [0.2, \"#de77ae\"], [0.3, \"#f1b6da\"], [0.4, \"#fde0ef\"], [0.5, \"#f7f7f7\"], [0.6, \"#e6f5d0\"], [0.7, \"#b8e186\"], [0.8, \"#7fbc41\"], [0.9, \"#4d9221\"], [1, \"#276419\"]], \"sequential\": [[0.0, \"#0d0887\"], [0.1111111111111111, \"#46039f\"], [0.2222222222222222, \"#7201a8\"], [0.3333333333333333, \"#9c179e\"], [0.4444444444444444, \"#bd3786\"], [0.5555555555555556, \"#d8576b\"], [0.6666666666666666, \"#ed7953\"], [0.7777777777777778, \"#fb9f3a\"], [0.8888888888888888, \"#fdca26\"], [1.0, \"#f0f921\"]], \"sequentialminus\": [[0.0, \"#0d0887\"], [0.1111111111111111, \"#46039f\"], [0.2222222222222222, \"#7201a8\"], [0.3333333333333333, \"#9c179e\"], [0.4444444444444444, \"#bd3786\"], [0.5555555555555556, \"#d8576b\"], [0.6666666666666666, \"#ed7953\"], [0.7777777777777778, \"#fb9f3a\"], [0.8888888888888888, \"#fdca26\"], [1.0, \"#f0f921\"]]}, \"colorway\": [\"#636efa\", \"#EF553B\", \"#00cc96\", \"#ab63fa\", \"#FFA15A\", \"#19d3f3\", \"#FF6692\", \"#B6E880\", \"#FF97FF\", \"#FECB52\"], \"font\": {\"color\": \"#2a3f5f\"}, \"geo\": {\"bgcolor\": \"white\", \"lakecolor\": \"white\", \"landcolor\": \"#E5ECF6\", \"showlakes\": true, \"showland\": true, \"subunitcolor\": \"white\"}, \"hoverlabel\": {\"align\": \"left\"}, \"hovermode\": \"closest\", \"mapbox\": {\"style\": \"light\"}, \"paper_bgcolor\": \"white\", \"plot_bgcolor\": \"#E5ECF6\", \"polar\": {\"angularaxis\": {\"gridcolor\": \"white\", \"linecolor\": \"white\", \"ticks\": \"\"}, \"bgcolor\": \"#E5ECF6\", \"radialaxis\": {\"gridcolor\": \"white\", \"linecolor\": \"white\", \"ticks\": \"\"}}, \"scene\": {\"xaxis\": {\"backgroundcolor\": \"#E5ECF6\", \"gridcolor\": \"white\", \"gridwidth\": 2, \"linecolor\": \"white\", \"showbackground\": true, \"ticks\": \"\", \"zerolinecolor\": \"white\"}, \"yaxis\": {\"backgroundcolor\": \"#E5ECF6\", \"gridcolor\": \"white\", \"gridwidth\": 2, \"linecolor\": \"white\", \"showbackground\": true, \"ticks\": \"\", \"zerolinecolor\": \"white\"}, \"zaxis\": {\"backgroundcolor\": \"#E5ECF6\", \"gridcolor\": \"white\", \"gridwidth\": 2, \"linecolor\": \"white\", \"showbackground\": true, \"ticks\": \"\", \"zerolinecolor\": \"white\"}}, \"shapedefaults\": {\"line\": {\"color\": \"#2a3f5f\"}}, \"ternary\": {\"aaxis\": {\"gridcolor\": \"white\", \"linecolor\": \"white\", \"ticks\": \"\"}, \"baxis\": {\"gridcolor\": \"white\", \"linecolor\": \"white\", \"ticks\": \"\"}, \"bgcolor\": \"#E5ECF6\", \"caxis\": {\"gridcolor\": \"white\", \"linecolor\": \"white\", \"ticks\": \"\"}}, \"title\": {\"x\": 0.05}, \"xaxis\": {\"automargin\": true, \"gridcolor\": \"white\", \"linecolor\": \"white\", \"ticks\": \"\", \"title\": {\"standoff\": 15}, \"zerolinecolor\": \"white\", \"zerolinewidth\": 2}, \"yaxis\": {\"automargin\": true, \"gridcolor\": \"white\", \"linecolor\": \"white\", \"ticks\": \"\", \"title\": {\"standoff\": 15}, \"zerolinecolor\": \"white\", \"zerolinewidth\": 2}}}, \"title\": {\"text\": \"CoachSalary by Conference\"}, \"xaxis\": {\"anchor\": \"y\", \"domain\": [0.0, 1.0], \"title\": {\"text\": \"Conference\"}}, \"yaxis\": {\"anchor\": \"x\", \"domain\": [0.0, 1.0], \"title\": {\"text\": \"TotalPay\"}}},\n",
              "                        {\"responsive\": true}\n",
              "                    ).then(function(){\n",
              "                            \n",
              "var gd = document.getElementById('ff653d57-6839-4d08-8d88-499f7258b00a');\n",
              "var x = new MutationObserver(function (mutations, observer) {{\n",
              "        var display = window.getComputedStyle(gd).display;\n",
              "        if (!display || display === 'none') {{\n",
              "            console.log([gd, 'removed!']);\n",
              "            Plotly.purge(gd);\n",
              "            observer.disconnect();\n",
              "        }}\n",
              "}});\n",
              "\n",
              "// Listen for the removal of the full notebook cells\n",
              "var notebookContainer = gd.closest('#notebook-container');\n",
              "if (notebookContainer) {{\n",
              "    x.observe(notebookContainer, {childList: true});\n",
              "}}\n",
              "\n",
              "// Listen for the clearing of the current output cell\n",
              "var outputEl = gd.closest('.output');\n",
              "if (outputEl) {{\n",
              "    x.observe(outputEl, {childList: true});\n",
              "}}\n",
              "\n",
              "                        })\n",
              "                };\n",
              "                \n",
              "            </script>\n",
              "        </div>\n",
              "</body>\n",
              "</html>"
            ]
          },
          "metadata": {
            "tags": []
          }
        }
      ]
    },
    {
      "cell_type": "markdown",
      "metadata": {
        "id": "DswTYBwvoP9x",
        "colab_type": "text"
      },
      "source": [
        "##**Stadium capacity and coaches salary by conference**\n",
        "###Stadium seems to play a significant role in coaches salary, but their may be a larger relationship between conference and coachs' salary."
      ]
    },
    {
      "cell_type": "code",
      "metadata": {
        "id": "HPE-tREHlZM5",
        "colab_type": "code",
        "colab": {
          "base_uri": "https://localhost:8080/",
          "height": 417
        },
        "outputId": "b55b91e2-a0e9-4c41-8400-06f1c90f0a03"
      },
      "source": [
        "\n",
        "bar1 = px.bar(coachSalary, x = 'Conference', y = 'TotalPay',\n",
        "             hover_data=['School','Coach'], color='Capacity',\n",
        "             labels={'Coach Salary'}, height=400)\n",
        "bar1.show()"
      ],
      "execution_count": 30,
      "outputs": [
        {
          "output_type": "display_data",
          "data": {
            "text/html": [
              "<html>\n",
              "<head><meta charset=\"utf-8\" /></head>\n",
              "<body>\n",
              "    <div>\n",
              "            <script src=\"https://cdnjs.cloudflare.com/ajax/libs/mathjax/2.7.5/MathJax.js?config=TeX-AMS-MML_SVG\"></script><script type=\"text/javascript\">if (window.MathJax) {MathJax.Hub.Config({SVG: {font: \"STIX-Web\"}});}</script>\n",
              "                <script type=\"text/javascript\">window.PlotlyConfig = {MathJaxConfig: 'local'};</script>\n",
              "        <script src=\"https://cdn.plot.ly/plotly-latest.min.js\"></script>    \n",
              "            <div id=\"c1dfa9a7-0988-447a-b7c1-370d6d487f9c\" class=\"plotly-graph-div\" style=\"height:400px; width:100%;\"></div>\n",
              "            <script type=\"text/javascript\">\n",
              "                \n",
              "                    window.PLOTLYENV=window.PLOTLYENV || {};\n",
              "                    \n",
              "                if (document.getElementById(\"c1dfa9a7-0988-447a-b7c1-370d6d487f9c\")) {\n",
              "                    Plotly.newPlot(\n",
              "                        'c1dfa9a7-0988-447a-b7c1-370d6d487f9c',\n",
              "                        [{\"alignmentgroup\": \"True\", \"customdata\": [[\"New Mexico State University-Main Campus\", \"Doug Martin\"], [\"Boise State University\", \"Bryan Harsin\"], [\"Georgia Southern University\", \"Chad Lunsford\"], [\"University of North Texas\", \"Seth Littrell\"], [\"University of Arizona\", \"Kevin Sumlin\"], [\"University of Oregon\", \"Mario Cristobal\"], [\"East Carolina University\", \"Scottie Montgomery\"], [\"Kansas State University\", \"Bill Snyder\"], [\"Florida State University\", \"Willie Taggart\"], [\"University of Georgia\", \"Paul Johnson\"], [\"Oklahoma State University-Main Campus\", \"Mike Gundy\"], [\"Alabama State University\", \"Nick Saban\"], [\"California State University-Fresno\", \"Jeff Tedford\"], [\"Louisiana Tech University\", \"Skip Holtz\"], [\"University of Wisconsin-Madison\", \"Paul Chryst\"], [\"University of Louisville\", \"Bobby Petrino\"], [\"West Virginia University\", \"Bronco Mendenhall\"], [\"Georgia Southern University\", \"Chad Lunsford\"], [\"San Jose State University\", \"Brent Brennan\"], [\"Arkansas State University-Main Campus\", \"Blake Anderson\"], [\"Texas State University\", \"Tom Herman\"], [\"University of Kansas\", \"David Beaty\"], [\"Mississippi State University\", \"Joe Moorhead\"], [\"Kent State University at Kent\", \"Sean Lewis\"], [\"University of New Mexico-Main Campus\", \"Bob Davie\"], [\"University of Missouri-Columbia\", \"Barry Odom\"], [\"University of Northern Colorado\", \"Mike MacIntyre\"], [\"Arizona State University-Tempe\", \"Herm Edwards\"], [\"Clemson University\", \"Dabo Swinney\"], [\"University of Miami\", \"Chuck Martin\"], [\"Georgia State University\", \"Shawn Elliott\"], [\"University of Toledo\", \"Jason Candle\"], [\"University of Miami\", \"Chuck Martin\"], [\"Western Kentucky University\", \"Mike Sanford Jr.\"], [\"Iowa State University\", \"Matt Campbell\"], [\"Texas State University\", \"Everett Withers\"], [\"Marshall University\", \"Doc Holliday\"], [\"Louisiana Tech University\", \"Skip Holtz\"], [\"Middle Tennessee State University\", \"Rick Stockstill\"], [\"University of Wyoming\", \"Craig Bohl\"], [\"Texas Tech University\", \"Kliff Kingsbury\"], [\"University of Louisiana at Monroe\", \"Matt Viator\"], [\"Central Michigan University\", \"John Bonamego\"], [\"University of North Carolina at Charlotte\", \"Larry Fedora\"], [\"Appalachian State University\", \"Scott Satterfield\"], [\"University of Iowa\", \"Kirk Ferentz\"], [\"Old Dominion University\", \"Bobby Wilder\"], [\"University of Kentucky\", \"Mark Stoops\"], [\"Texas A & M University-College Station\", \"Jimbo Fisher\"], [\"University of South Alabama\", \"Steve Campbell\"], [\"West Virginia University\", \"Justin Fuente\"], [\"University of Memphis\", \"Mike Norvell\"], [\"University of Southern California\", \"Clay Helton\"], [\"University of Nevada-Reno\", \"Jay Norvell\"], [\"Washington State University\", \"Mike Leach\"], [\"Illinois State University\", \"Lovie Smith\"], [\"Indiana State University\", \"Tom Allen\"], [\"University of Nebraska-Lincoln\", \"Scott Frost\"], [\"Utah State University\", \"Matt Wells\"], [\"Michigan State University\", \"Jim Harbaugh\"], [\"West Virginia University\", \"Dana Holgorsen\"], [\"Tennessee State University\", \"Jeremy Pruitt\"], [\"University of Cincinnati-Main Campus\", \"Luke Fickell\"], [\"Ohio State University-Main Campus\", \"Urban Meyer\"], [\"Auburn University\", \"Gus Malzahn\"], [\"Ohio University-Main Campus\", \"Frank Solich\"], [\"University of Arkansas\", \"Chad Morris\"], [\"Oregon State University\", \"Jonathan Smith\"], [\"University of Utah\", \"Kyle Whittingham\"], [\"Purdue University-Main Campus\", \"Jeff Brohm\"], [\"Northwestern State University of Louisiana\", \"Pat Fitzgerald\"], [\"Eastern Michigan University\", \"Chris Creighton\"], [\"University of Georgia\", \"Kirby Smart\"], [\"Ball State University\", \"Mike Neu\"], [\"San Diego State University\", \"Rocky Long\"], [\"Rutgers University-New Brunswick\", \"Chris Ash\"], [\"Michigan State University\", \"Mark Dantonio\"], [\"University of Florida\", \"Dan Mullen\"], [\"University of Mississippi\", \"Matt Luke\"], [\"Troy University\", \"Neal Brown\"], [\"Western Michigan University\", \"Tim Lester\"], [\"South Carolina State University\", \"Will Muschamp\"]], \"hoverlabel\": {\"namelength\": 0}, \"hovertemplate\": \"Conference=%{x}<br>TotalPay=%{y}<br>School=%{customdata[0]}<br>Coach=%{customdata[1]}<br>Capacity=%{marker.color}\", \"legendgroup\": \"\", \"marker\": {\"color\": [30343, 36387, 25000, 30850, 56029, 54000, 50000, 50000, 79560, 55000, 60218, 101821, 41031, 41426, 80321, 61000, 61500, 36000, 30456, 30964, 100119, 50071, 61337, 25000, 39224, 71168, 50183, 56232, 81500, 24286, 25000, 26248, 65326, 22113, 61500, 30000, 38019, 28109, 31000, 29181, 60862, 30427, 30255, 51000, 30000, 70585, 22480, 61000, 102733, 40000, 66233, 62380, 77500, 26000, 32248, 60670, 52959, 86047, 25513, 107601, 60000, 102455, 40000, 102780, 87451, 24000, 80000, 45674, 47825, 57236, 47130, 30200, 92746, 22500, 70561, 52454, 75005, 88548, 64038, 30402, 30200, 80250], \"coloraxis\": \"coloraxis\"}, \"name\": \"\", \"offsetgroup\": \"\", \"orientation\": \"v\", \"showlegend\": false, \"textposition\": \"auto\", \"type\": \"bar\", \"x\": [\"Ind.\", \"Mt. West\", \"Sun Belt\", \"C-USA\", \"Pac-12\", \"Pac-12\", \"AAC\", \"Big 12\", \"ACC\", \"ACC\", \"Big 12\", \"SEC\", \"Mt. West\", \"C-USA\", \"Big Ten\", \"ACC\", \"ACC\", \"Sun Belt\", \"Mt. West\", \"Sun Belt\", \"Big 12\", \"Big 12\", \"SEC\", \"MAC\", \"Mt. West\", \"SEC\", \"Pac-12\", \"Pac-12\", \"ACC\", \"MAC\", \"Sun Belt\", \"MAC\", \"MAC\", \"C-USA\", \"Big 12\", \"Sun Belt\", \"C-USA\", \"C-USA\", \"C-USA\", \"Mt. West\", \"Big 12\", \"Sun Belt\", \"MAC\", \"ACC\", \"Sun Belt\", \"Big Ten\", \"C-USA\", \"SEC\", \"SEC\", \"Sun Belt\", \"ACC\", \"AAC\", \"Pac-12\", \"Mt. West\", \"Pac-12\", \"Big Ten\", \"Big Ten\", \"Big Ten\", \"Mt. West\", \"Big Ten\", \"Big 12\", \"SEC\", \"AAC\", \"Big Ten\", \"SEC\", \"MAC\", \"SEC\", \"Pac-12\", \"Pac-12\", \"Big Ten\", \"Big Ten\", \"MAC\", \"SEC\", \"MAC\", \"Mt. West\", \"Big Ten\", \"Big Ten\", \"SEC\", \"SEC\", \"Sun Belt\", \"MAC\", \"SEC\"], \"xaxis\": \"x\", \"y\": [419640.0, 1650010.0, 650000.0, 1425000.0, 2000000.0, 2500000.0, 1102500.0, 3500000.0, 5000000.0, 3060018.0, 5000000.0, 8307000.0, 1550000.0, 700000.0, 3750000.0, 3980434.0, 3550000.0, 650000.0, 590424.0, 825000.0, 5500000.0, 1701109.0, 2600000.0, 440000.0, 823740.0, 2350000.0, 2878500.0, 2000000.0, 6543350.0, 524826.0, 569000.0, 1125000.0, 524826.0, 805850.0, 3500000.0, 700000.0, 762570.0, 700000.0, 803004.0, 1412000.0, 3703975.0, 390000.0, 655000.0, 2575000.0, 712500.0, 4700000.0, 654667.0, 4013600.0, 7500000.0, 600000.0, 4000000.0, 2600000.0, 2625965.0, 500000.0, 3500000.0, 5000000.0, 1830000.0, 5000000.0, 900000.0, 7504000.0, 3617500.0, 3846000.0, 2000000.0, 7600000.0, 6705656.0, 580331.0, 3500000.0, 1900008.0, 3787917.0, 3800000.0, 3619775.0, 460000.0, 6603600.0, 435689.0, 873576.0, 2200000.0, 4390417.0, 6070000.0, 3000000.0, 810000.0, 800000.0, 4200000.0], \"yaxis\": \"y\"}],\n",
              "                        {\"barmode\": \"relative\", \"coloraxis\": {\"colorbar\": {\"title\": {\"text\": \"Capacity\"}}, \"colorscale\": [[0.0, \"#0d0887\"], [0.1111111111111111, \"#46039f\"], [0.2222222222222222, \"#7201a8\"], [0.3333333333333333, \"#9c179e\"], [0.4444444444444444, \"#bd3786\"], [0.5555555555555556, \"#d8576b\"], [0.6666666666666666, \"#ed7953\"], [0.7777777777777778, \"#fb9f3a\"], [0.8888888888888888, \"#fdca26\"], [1.0, \"#f0f921\"]]}, \"height\": 400, \"legend\": {\"tracegroupgap\": 0}, \"margin\": {\"t\": 60}, \"template\": {\"data\": {\"bar\": [{\"error_x\": {\"color\": \"#2a3f5f\"}, \"error_y\": {\"color\": \"#2a3f5f\"}, \"marker\": {\"line\": {\"color\": \"#E5ECF6\", \"width\": 0.5}}, \"type\": \"bar\"}], \"barpolar\": [{\"marker\": {\"line\": {\"color\": \"#E5ECF6\", \"width\": 0.5}}, \"type\": \"barpolar\"}], \"carpet\": [{\"aaxis\": {\"endlinecolor\": \"#2a3f5f\", \"gridcolor\": \"white\", \"linecolor\": \"white\", \"minorgridcolor\": \"white\", \"startlinecolor\": \"#2a3f5f\"}, \"baxis\": {\"endlinecolor\": \"#2a3f5f\", \"gridcolor\": \"white\", \"linecolor\": \"white\", \"minorgridcolor\": \"white\", \"startlinecolor\": \"#2a3f5f\"}, \"type\": \"carpet\"}], \"choropleth\": [{\"colorbar\": {\"outlinewidth\": 0, \"ticks\": \"\"}, \"type\": \"choropleth\"}], \"contour\": [{\"colorbar\": {\"outlinewidth\": 0, \"ticks\": \"\"}, \"colorscale\": [[0.0, \"#0d0887\"], [0.1111111111111111, \"#46039f\"], [0.2222222222222222, \"#7201a8\"], [0.3333333333333333, \"#9c179e\"], [0.4444444444444444, \"#bd3786\"], [0.5555555555555556, \"#d8576b\"], [0.6666666666666666, \"#ed7953\"], [0.7777777777777778, \"#fb9f3a\"], [0.8888888888888888, \"#fdca26\"], [1.0, \"#f0f921\"]], \"type\": \"contour\"}], \"contourcarpet\": [{\"colorbar\": {\"outlinewidth\": 0, \"ticks\": \"\"}, \"type\": \"contourcarpet\"}], \"heatmap\": [{\"colorbar\": {\"outlinewidth\": 0, \"ticks\": \"\"}, \"colorscale\": [[0.0, \"#0d0887\"], [0.1111111111111111, \"#46039f\"], [0.2222222222222222, \"#7201a8\"], [0.3333333333333333, \"#9c179e\"], [0.4444444444444444, \"#bd3786\"], [0.5555555555555556, \"#d8576b\"], [0.6666666666666666, \"#ed7953\"], [0.7777777777777778, \"#fb9f3a\"], [0.8888888888888888, \"#fdca26\"], [1.0, \"#f0f921\"]], \"type\": \"heatmap\"}], \"heatmapgl\": [{\"colorbar\": {\"outlinewidth\": 0, \"ticks\": \"\"}, \"colorscale\": [[0.0, \"#0d0887\"], [0.1111111111111111, \"#46039f\"], [0.2222222222222222, \"#7201a8\"], [0.3333333333333333, \"#9c179e\"], [0.4444444444444444, \"#bd3786\"], [0.5555555555555556, \"#d8576b\"], [0.6666666666666666, \"#ed7953\"], [0.7777777777777778, \"#fb9f3a\"], [0.8888888888888888, \"#fdca26\"], [1.0, \"#f0f921\"]], \"type\": \"heatmapgl\"}], \"histogram\": [{\"marker\": {\"colorbar\": {\"outlinewidth\": 0, \"ticks\": \"\"}}, \"type\": \"histogram\"}], \"histogram2d\": [{\"colorbar\": {\"outlinewidth\": 0, \"ticks\": \"\"}, \"colorscale\": [[0.0, \"#0d0887\"], [0.1111111111111111, \"#46039f\"], [0.2222222222222222, \"#7201a8\"], [0.3333333333333333, \"#9c179e\"], [0.4444444444444444, \"#bd3786\"], [0.5555555555555556, \"#d8576b\"], [0.6666666666666666, \"#ed7953\"], [0.7777777777777778, \"#fb9f3a\"], [0.8888888888888888, \"#fdca26\"], [1.0, \"#f0f921\"]], \"type\": \"histogram2d\"}], \"histogram2dcontour\": [{\"colorbar\": {\"outlinewidth\": 0, \"ticks\": \"\"}, \"colorscale\": [[0.0, \"#0d0887\"], [0.1111111111111111, \"#46039f\"], [0.2222222222222222, \"#7201a8\"], [0.3333333333333333, \"#9c179e\"], [0.4444444444444444, \"#bd3786\"], [0.5555555555555556, \"#d8576b\"], [0.6666666666666666, \"#ed7953\"], [0.7777777777777778, \"#fb9f3a\"], [0.8888888888888888, \"#fdca26\"], [1.0, \"#f0f921\"]], \"type\": \"histogram2dcontour\"}], \"mesh3d\": [{\"colorbar\": {\"outlinewidth\": 0, \"ticks\": \"\"}, \"type\": \"mesh3d\"}], \"parcoords\": [{\"line\": {\"colorbar\": {\"outlinewidth\": 0, \"ticks\": \"\"}}, \"type\": \"parcoords\"}], \"pie\": [{\"automargin\": true, \"type\": \"pie\"}], \"scatter\": [{\"marker\": {\"colorbar\": {\"outlinewidth\": 0, \"ticks\": \"\"}}, \"type\": \"scatter\"}], \"scatter3d\": [{\"line\": {\"colorbar\": {\"outlinewidth\": 0, \"ticks\": \"\"}}, \"marker\": {\"colorbar\": {\"outlinewidth\": 0, \"ticks\": \"\"}}, \"type\": \"scatter3d\"}], \"scattercarpet\": [{\"marker\": {\"colorbar\": {\"outlinewidth\": 0, \"ticks\": \"\"}}, \"type\": \"scattercarpet\"}], \"scattergeo\": [{\"marker\": {\"colorbar\": {\"outlinewidth\": 0, \"ticks\": \"\"}}, \"type\": \"scattergeo\"}], \"scattergl\": [{\"marker\": {\"colorbar\": {\"outlinewidth\": 0, \"ticks\": \"\"}}, \"type\": \"scattergl\"}], \"scattermapbox\": [{\"marker\": {\"colorbar\": {\"outlinewidth\": 0, \"ticks\": \"\"}}, \"type\": \"scattermapbox\"}], \"scatterpolar\": [{\"marker\": {\"colorbar\": {\"outlinewidth\": 0, \"ticks\": \"\"}}, \"type\": \"scatterpolar\"}], \"scatterpolargl\": [{\"marker\": {\"colorbar\": {\"outlinewidth\": 0, \"ticks\": \"\"}}, \"type\": \"scatterpolargl\"}], \"scatterternary\": [{\"marker\": {\"colorbar\": {\"outlinewidth\": 0, \"ticks\": \"\"}}, \"type\": \"scatterternary\"}], \"surface\": [{\"colorbar\": {\"outlinewidth\": 0, \"ticks\": \"\"}, \"colorscale\": [[0.0, \"#0d0887\"], [0.1111111111111111, \"#46039f\"], [0.2222222222222222, \"#7201a8\"], [0.3333333333333333, \"#9c179e\"], [0.4444444444444444, \"#bd3786\"], [0.5555555555555556, \"#d8576b\"], [0.6666666666666666, \"#ed7953\"], [0.7777777777777778, \"#fb9f3a\"], [0.8888888888888888, \"#fdca26\"], [1.0, \"#f0f921\"]], \"type\": \"surface\"}], \"table\": [{\"cells\": {\"fill\": {\"color\": \"#EBF0F8\"}, \"line\": {\"color\": \"white\"}}, \"header\": {\"fill\": {\"color\": \"#C8D4E3\"}, \"line\": {\"color\": \"white\"}}, \"type\": \"table\"}]}, \"layout\": {\"annotationdefaults\": {\"arrowcolor\": \"#2a3f5f\", \"arrowhead\": 0, \"arrowwidth\": 1}, \"coloraxis\": {\"colorbar\": {\"outlinewidth\": 0, \"ticks\": \"\"}}, \"colorscale\": {\"diverging\": [[0, \"#8e0152\"], [0.1, \"#c51b7d\"], [0.2, \"#de77ae\"], [0.3, \"#f1b6da\"], [0.4, \"#fde0ef\"], [0.5, \"#f7f7f7\"], [0.6, \"#e6f5d0\"], [0.7, \"#b8e186\"], [0.8, \"#7fbc41\"], [0.9, \"#4d9221\"], [1, \"#276419\"]], \"sequential\": [[0.0, \"#0d0887\"], [0.1111111111111111, \"#46039f\"], [0.2222222222222222, \"#7201a8\"], [0.3333333333333333, \"#9c179e\"], [0.4444444444444444, \"#bd3786\"], [0.5555555555555556, \"#d8576b\"], [0.6666666666666666, \"#ed7953\"], [0.7777777777777778, \"#fb9f3a\"], [0.8888888888888888, \"#fdca26\"], [1.0, \"#f0f921\"]], \"sequentialminus\": [[0.0, \"#0d0887\"], [0.1111111111111111, \"#46039f\"], [0.2222222222222222, \"#7201a8\"], [0.3333333333333333, \"#9c179e\"], [0.4444444444444444, \"#bd3786\"], [0.5555555555555556, \"#d8576b\"], [0.6666666666666666, \"#ed7953\"], [0.7777777777777778, \"#fb9f3a\"], [0.8888888888888888, \"#fdca26\"], [1.0, \"#f0f921\"]]}, \"colorway\": [\"#636efa\", \"#EF553B\", \"#00cc96\", \"#ab63fa\", \"#FFA15A\", \"#19d3f3\", \"#FF6692\", \"#B6E880\", \"#FF97FF\", \"#FECB52\"], \"font\": {\"color\": \"#2a3f5f\"}, \"geo\": {\"bgcolor\": \"white\", \"lakecolor\": \"white\", \"landcolor\": \"#E5ECF6\", \"showlakes\": true, \"showland\": true, \"subunitcolor\": \"white\"}, \"hoverlabel\": {\"align\": \"left\"}, \"hovermode\": \"closest\", \"mapbox\": {\"style\": \"light\"}, \"paper_bgcolor\": \"white\", \"plot_bgcolor\": \"#E5ECF6\", \"polar\": {\"angularaxis\": {\"gridcolor\": \"white\", \"linecolor\": \"white\", \"ticks\": \"\"}, \"bgcolor\": \"#E5ECF6\", \"radialaxis\": {\"gridcolor\": \"white\", \"linecolor\": \"white\", \"ticks\": \"\"}}, \"scene\": {\"xaxis\": {\"backgroundcolor\": \"#E5ECF6\", \"gridcolor\": \"white\", \"gridwidth\": 2, \"linecolor\": \"white\", \"showbackground\": true, \"ticks\": \"\", \"zerolinecolor\": \"white\"}, \"yaxis\": {\"backgroundcolor\": \"#E5ECF6\", \"gridcolor\": \"white\", \"gridwidth\": 2, \"linecolor\": \"white\", \"showbackground\": true, \"ticks\": \"\", \"zerolinecolor\": \"white\"}, \"zaxis\": {\"backgroundcolor\": \"#E5ECF6\", \"gridcolor\": \"white\", \"gridwidth\": 2, \"linecolor\": \"white\", \"showbackground\": true, \"ticks\": \"\", \"zerolinecolor\": \"white\"}}, \"shapedefaults\": {\"line\": {\"color\": \"#2a3f5f\"}}, \"ternary\": {\"aaxis\": {\"gridcolor\": \"white\", \"linecolor\": \"white\", \"ticks\": \"\"}, \"baxis\": {\"gridcolor\": \"white\", \"linecolor\": \"white\", \"ticks\": \"\"}, \"bgcolor\": \"#E5ECF6\", \"caxis\": {\"gridcolor\": \"white\", \"linecolor\": \"white\", \"ticks\": \"\"}}, \"title\": {\"x\": 0.05}, \"xaxis\": {\"automargin\": true, \"gridcolor\": \"white\", \"linecolor\": \"white\", \"ticks\": \"\", \"title\": {\"standoff\": 15}, \"zerolinecolor\": \"white\", \"zerolinewidth\": 2}, \"yaxis\": {\"automargin\": true, \"gridcolor\": \"white\", \"linecolor\": \"white\", \"ticks\": \"\", \"title\": {\"standoff\": 15}, \"zerolinecolor\": \"white\", \"zerolinewidth\": 2}}}, \"xaxis\": {\"anchor\": \"y\", \"domain\": [0.0, 1.0], \"title\": {\"text\": \"Conference\"}}, \"yaxis\": {\"anchor\": \"x\", \"domain\": [0.0, 1.0], \"title\": {\"text\": \"TotalPay\"}}},\n",
              "                        {\"responsive\": true}\n",
              "                    ).then(function(){\n",
              "                            \n",
              "var gd = document.getElementById('c1dfa9a7-0988-447a-b7c1-370d6d487f9c');\n",
              "var x = new MutationObserver(function (mutations, observer) {{\n",
              "        var display = window.getComputedStyle(gd).display;\n",
              "        if (!display || display === 'none') {{\n",
              "            console.log([gd, 'removed!']);\n",
              "            Plotly.purge(gd);\n",
              "            observer.disconnect();\n",
              "        }}\n",
              "}});\n",
              "\n",
              "// Listen for the removal of the full notebook cells\n",
              "var notebookContainer = gd.closest('#notebook-container');\n",
              "if (notebookContainer) {{\n",
              "    x.observe(notebookContainer, {childList: true});\n",
              "}}\n",
              "\n",
              "// Listen for the clearing of the current output cell\n",
              "var outputEl = gd.closest('.output');\n",
              "if (outputEl) {{\n",
              "    x.observe(outputEl, {childList: true});\n",
              "}}\n",
              "\n",
              "                        })\n",
              "                };\n",
              "                \n",
              "            </script>\n",
              "        </div>\n",
              "</body>\n",
              "</html>"
            ]
          },
          "metadata": {
            "tags": []
          }
        }
      ]
    },
    {
      "cell_type": "markdown",
      "metadata": {
        "id": "_MKj_If-cz0z",
        "colab_type": "text"
      },
      "source": [
        "### Donor Cash is fairly low conpared to coach salary meaning an increase in donor cash is not significant enough to impact pay."
      ]
    },
    {
      "cell_type": "code",
      "metadata": {
        "id": "zVPoyoTfzANv",
        "colab_type": "code",
        "colab": {
          "base_uri": "https://localhost:8080/",
          "height": 417
        },
        "outputId": "60f03d6b-53e2-4829-9311-b431458d2fe3"
      },
      "source": [
        "bar2 = px.bar(coachSalary, x = 'Conference', y = 'TotalPay',\n",
        "             hover_data=['School','Coach'], color='DonorCash',\n",
        "             labels={'Coach Salary'}, height=400)\n",
        "bar2.show()"
      ],
      "execution_count": 31,
      "outputs": [
        {
          "output_type": "display_data",
          "data": {
            "text/html": [
              "<html>\n",
              "<head><meta charset=\"utf-8\" /></head>\n",
              "<body>\n",
              "    <div>\n",
              "            <script src=\"https://cdnjs.cloudflare.com/ajax/libs/mathjax/2.7.5/MathJax.js?config=TeX-AMS-MML_SVG\"></script><script type=\"text/javascript\">if (window.MathJax) {MathJax.Hub.Config({SVG: {font: \"STIX-Web\"}});}</script>\n",
              "                <script type=\"text/javascript\">window.PlotlyConfig = {MathJaxConfig: 'local'};</script>\n",
              "        <script src=\"https://cdn.plot.ly/plotly-latest.min.js\"></script>    \n",
              "            <div id=\"5467cafb-5f18-4e96-934c-56b658588b02\" class=\"plotly-graph-div\" style=\"height:400px; width:100%;\"></div>\n",
              "            <script type=\"text/javascript\">\n",
              "                \n",
              "                    window.PLOTLYENV=window.PLOTLYENV || {};\n",
              "                    \n",
              "                if (document.getElementById(\"5467cafb-5f18-4e96-934c-56b658588b02\")) {\n",
              "                    Plotly.newPlot(\n",
              "                        '5467cafb-5f18-4e96-934c-56b658588b02',\n",
              "                        [{\"alignmentgroup\": \"True\", \"customdata\": [[\"New Mexico State University-Main Campus\", \"Doug Martin\"], [\"Boise State University\", \"Bryan Harsin\"], [\"Georgia Southern University\", \"Chad Lunsford\"], [\"University of North Texas\", \"Seth Littrell\"], [\"University of Arizona\", \"Kevin Sumlin\"], [\"University of Oregon\", \"Mario Cristobal\"], [\"East Carolina University\", \"Scottie Montgomery\"], [\"Kansas State University\", \"Bill Snyder\"], [\"Florida State University\", \"Willie Taggart\"], [\"University of Georgia\", \"Paul Johnson\"], [\"Oklahoma State University-Main Campus\", \"Mike Gundy\"], [\"Alabama State University\", \"Nick Saban\"], [\"California State University-Fresno\", \"Jeff Tedford\"], [\"Louisiana Tech University\", \"Skip Holtz\"], [\"University of Wisconsin-Madison\", \"Paul Chryst\"], [\"University of Louisville\", \"Bobby Petrino\"], [\"West Virginia University\", \"Bronco Mendenhall\"], [\"Georgia Southern University\", \"Chad Lunsford\"], [\"San Jose State University\", \"Brent Brennan\"], [\"Arkansas State University-Main Campus\", \"Blake Anderson\"], [\"Texas State University\", \"Tom Herman\"], [\"University of Kansas\", \"David Beaty\"], [\"Mississippi State University\", \"Joe Moorhead\"], [\"Kent State University at Kent\", \"Sean Lewis\"], [\"University of New Mexico-Main Campus\", \"Bob Davie\"], [\"University of Missouri-Columbia\", \"Barry Odom\"], [\"University of Northern Colorado\", \"Mike MacIntyre\"], [\"Arizona State University-Tempe\", \"Herm Edwards\"], [\"Clemson University\", \"Dabo Swinney\"], [\"University of Miami\", \"Chuck Martin\"], [\"Georgia State University\", \"Shawn Elliott\"], [\"University of Toledo\", \"Jason Candle\"], [\"University of Miami\", \"Chuck Martin\"], [\"Western Kentucky University\", \"Mike Sanford Jr.\"], [\"Iowa State University\", \"Matt Campbell\"], [\"Texas State University\", \"Everett Withers\"], [\"Marshall University\", \"Doc Holliday\"], [\"Louisiana Tech University\", \"Skip Holtz\"], [\"Middle Tennessee State University\", \"Rick Stockstill\"], [\"University of Wyoming\", \"Craig Bohl\"], [\"Texas Tech University\", \"Kliff Kingsbury\"], [\"University of Louisiana at Monroe\", \"Matt Viator\"], [\"Central Michigan University\", \"John Bonamego\"], [\"University of North Carolina at Charlotte\", \"Larry Fedora\"], [\"Appalachian State University\", \"Scott Satterfield\"], [\"University of Iowa\", \"Kirk Ferentz\"], [\"Old Dominion University\", \"Bobby Wilder\"], [\"University of Kentucky\", \"Mark Stoops\"], [\"Texas A & M University-College Station\", \"Jimbo Fisher\"], [\"University of South Alabama\", \"Steve Campbell\"], [\"West Virginia University\", \"Justin Fuente\"], [\"University of Memphis\", \"Mike Norvell\"], [\"University of Southern California\", \"Clay Helton\"], [\"University of Nevada-Reno\", \"Jay Norvell\"], [\"Washington State University\", \"Mike Leach\"], [\"Illinois State University\", \"Lovie Smith\"], [\"Indiana State University\", \"Tom Allen\"], [\"University of Nebraska-Lincoln\", \"Scott Frost\"], [\"Utah State University\", \"Matt Wells\"], [\"Michigan State University\", \"Jim Harbaugh\"], [\"West Virginia University\", \"Dana Holgorsen\"], [\"Tennessee State University\", \"Jeremy Pruitt\"], [\"University of Cincinnati-Main Campus\", \"Luke Fickell\"], [\"Ohio State University-Main Campus\", \"Urban Meyer\"], [\"Auburn University\", \"Gus Malzahn\"], [\"Ohio University-Main Campus\", \"Frank Solich\"], [\"University of Arkansas\", \"Chad Morris\"], [\"Oregon State University\", \"Jonathan Smith\"], [\"University of Utah\", \"Kyle Whittingham\"], [\"Purdue University-Main Campus\", \"Jeff Brohm\"], [\"Northwestern State University of Louisiana\", \"Pat Fitzgerald\"], [\"Eastern Michigan University\", \"Chris Creighton\"], [\"University of Georgia\", \"Kirby Smart\"], [\"Ball State University\", \"Mike Neu\"], [\"San Diego State University\", \"Rocky Long\"], [\"Rutgers University-New Brunswick\", \"Chris Ash\"], [\"Michigan State University\", \"Mark Dantonio\"], [\"University of Florida\", \"Dan Mullen\"], [\"University of Mississippi\", \"Matt Luke\"], [\"Troy University\", \"Neal Brown\"], [\"Western Michigan University\", \"Tim Lester\"], [\"South Carolina State University\", \"Will Muschamp\"]], \"hoverlabel\": {\"namelength\": 0}, \"hovertemplate\": \"Conference=%{x}<br>TotalPay=%{y}<br>School=%{customdata[0]}<br>Coach=%{customdata[1]}<br>DonorCash=%{marker.color}\", \"legendgroup\": \"\", \"marker\": {\"color\": [1455064.0, 2771494.0, 796301.0, 1494883.0, 11362200.0, 11863044.0, 4123482.0, 14079775.0, 16053230.0, 30192007.0, 211023155.0, 153054.0, 6558366.0, 1558373.0, 19106871.0, 13137225.0, 68957.0, 796301.0, 2098031.0, 502438.0, 897625.0, 24658043.0, 2109765.0, 292507.0, 3996594.0, 14304319.0, 1650658.0, 11791138.0, 8830649.0, 739623.0, 464949.0, 1613218.0, 739623.0, 1229444.0, 3979931.0, 897625.0, 3753772.0, 1558373.0, 365830.0, 1271097.0, 17792269.0, 834546.0, 971664.0, 502227.0, 1023455.0, 20978267.0, 1168064.0, 8102747.0, 23310634.0, 153965.0, 68957.0, 7046392.0, 525146.0, 10416032.0, 5946515.0, 1752266.0, 567875.0, 11749526.0, 1037668.0, 17975933.0, 68957.0, 575043.0, 4210153.0, 23070587.0, 26306262.0, 787137.0, 7756296.0, 12596548.0, 4876238.0, 13530574.0, 1043604.0, 496787.0, 30192007.0, 1522225.0, 3566514.0, 4863963.0, 17975933.0, 29851397.0, 3685949.0, 1401025.0, 884203.0, 31609.0], \"coloraxis\": \"coloraxis\"}, \"name\": \"\", \"offsetgroup\": \"\", \"orientation\": \"v\", \"showlegend\": false, \"textposition\": \"auto\", \"type\": \"bar\", \"x\": [\"Ind.\", \"Mt. West\", \"Sun Belt\", \"C-USA\", \"Pac-12\", \"Pac-12\", \"AAC\", \"Big 12\", \"ACC\", \"ACC\", \"Big 12\", \"SEC\", \"Mt. West\", \"C-USA\", \"Big Ten\", \"ACC\", \"ACC\", \"Sun Belt\", \"Mt. West\", \"Sun Belt\", \"Big 12\", \"Big 12\", \"SEC\", \"MAC\", \"Mt. West\", \"SEC\", \"Pac-12\", \"Pac-12\", \"ACC\", \"MAC\", \"Sun Belt\", \"MAC\", \"MAC\", \"C-USA\", \"Big 12\", \"Sun Belt\", \"C-USA\", \"C-USA\", \"C-USA\", \"Mt. West\", \"Big 12\", \"Sun Belt\", \"MAC\", \"ACC\", \"Sun Belt\", \"Big Ten\", \"C-USA\", \"SEC\", \"SEC\", \"Sun Belt\", \"ACC\", \"AAC\", \"Pac-12\", \"Mt. West\", \"Pac-12\", \"Big Ten\", \"Big Ten\", \"Big Ten\", \"Mt. West\", \"Big Ten\", \"Big 12\", \"SEC\", \"AAC\", \"Big Ten\", \"SEC\", \"MAC\", \"SEC\", \"Pac-12\", \"Pac-12\", \"Big Ten\", \"Big Ten\", \"MAC\", \"SEC\", \"MAC\", \"Mt. West\", \"Big Ten\", \"Big Ten\", \"SEC\", \"SEC\", \"Sun Belt\", \"MAC\", \"SEC\"], \"xaxis\": \"x\", \"y\": [419640.0, 1650010.0, 650000.0, 1425000.0, 2000000.0, 2500000.0, 1102500.0, 3500000.0, 5000000.0, 3060018.0, 5000000.0, 8307000.0, 1550000.0, 700000.0, 3750000.0, 3980434.0, 3550000.0, 650000.0, 590424.0, 825000.0, 5500000.0, 1701109.0, 2600000.0, 440000.0, 823740.0, 2350000.0, 2878500.0, 2000000.0, 6543350.0, 524826.0, 569000.0, 1125000.0, 524826.0, 805850.0, 3500000.0, 700000.0, 762570.0, 700000.0, 803004.0, 1412000.0, 3703975.0, 390000.0, 655000.0, 2575000.0, 712500.0, 4700000.0, 654667.0, 4013600.0, 7500000.0, 600000.0, 4000000.0, 2600000.0, 2625965.0, 500000.0, 3500000.0, 5000000.0, 1830000.0, 5000000.0, 900000.0, 7504000.0, 3617500.0, 3846000.0, 2000000.0, 7600000.0, 6705656.0, 580331.0, 3500000.0, 1900008.0, 3787917.0, 3800000.0, 3619775.0, 460000.0, 6603600.0, 435689.0, 873576.0, 2200000.0, 4390417.0, 6070000.0, 3000000.0, 810000.0, 800000.0, 4200000.0], \"yaxis\": \"y\"}],\n",
              "                        {\"barmode\": \"relative\", \"coloraxis\": {\"colorbar\": {\"title\": {\"text\": \"DonorCash\"}}, \"colorscale\": [[0.0, \"#0d0887\"], [0.1111111111111111, \"#46039f\"], [0.2222222222222222, \"#7201a8\"], [0.3333333333333333, \"#9c179e\"], [0.4444444444444444, \"#bd3786\"], [0.5555555555555556, \"#d8576b\"], [0.6666666666666666, \"#ed7953\"], [0.7777777777777778, \"#fb9f3a\"], [0.8888888888888888, \"#fdca26\"], [1.0, \"#f0f921\"]]}, \"height\": 400, \"legend\": {\"tracegroupgap\": 0}, \"margin\": {\"t\": 60}, \"template\": {\"data\": {\"bar\": [{\"error_x\": {\"color\": \"#2a3f5f\"}, \"error_y\": {\"color\": \"#2a3f5f\"}, \"marker\": {\"line\": {\"color\": \"#E5ECF6\", \"width\": 0.5}}, \"type\": \"bar\"}], \"barpolar\": [{\"marker\": {\"line\": {\"color\": \"#E5ECF6\", \"width\": 0.5}}, \"type\": \"barpolar\"}], \"carpet\": [{\"aaxis\": {\"endlinecolor\": \"#2a3f5f\", \"gridcolor\": \"white\", \"linecolor\": \"white\", \"minorgridcolor\": \"white\", \"startlinecolor\": \"#2a3f5f\"}, \"baxis\": {\"endlinecolor\": \"#2a3f5f\", \"gridcolor\": \"white\", \"linecolor\": \"white\", \"minorgridcolor\": \"white\", \"startlinecolor\": \"#2a3f5f\"}, \"type\": \"carpet\"}], \"choropleth\": [{\"colorbar\": {\"outlinewidth\": 0, \"ticks\": \"\"}, \"type\": \"choropleth\"}], \"contour\": [{\"colorbar\": {\"outlinewidth\": 0, \"ticks\": \"\"}, \"colorscale\": [[0.0, \"#0d0887\"], [0.1111111111111111, \"#46039f\"], [0.2222222222222222, \"#7201a8\"], [0.3333333333333333, \"#9c179e\"], [0.4444444444444444, \"#bd3786\"], [0.5555555555555556, \"#d8576b\"], [0.6666666666666666, \"#ed7953\"], [0.7777777777777778, \"#fb9f3a\"], [0.8888888888888888, \"#fdca26\"], [1.0, \"#f0f921\"]], \"type\": \"contour\"}], \"contourcarpet\": [{\"colorbar\": {\"outlinewidth\": 0, \"ticks\": \"\"}, \"type\": \"contourcarpet\"}], \"heatmap\": [{\"colorbar\": {\"outlinewidth\": 0, \"ticks\": \"\"}, \"colorscale\": [[0.0, \"#0d0887\"], [0.1111111111111111, \"#46039f\"], [0.2222222222222222, \"#7201a8\"], [0.3333333333333333, \"#9c179e\"], [0.4444444444444444, \"#bd3786\"], [0.5555555555555556, \"#d8576b\"], [0.6666666666666666, \"#ed7953\"], [0.7777777777777778, \"#fb9f3a\"], [0.8888888888888888, \"#fdca26\"], [1.0, \"#f0f921\"]], \"type\": \"heatmap\"}], \"heatmapgl\": [{\"colorbar\": {\"outlinewidth\": 0, \"ticks\": \"\"}, \"colorscale\": [[0.0, \"#0d0887\"], [0.1111111111111111, \"#46039f\"], [0.2222222222222222, \"#7201a8\"], [0.3333333333333333, \"#9c179e\"], [0.4444444444444444, \"#bd3786\"], [0.5555555555555556, \"#d8576b\"], [0.6666666666666666, \"#ed7953\"], [0.7777777777777778, \"#fb9f3a\"], [0.8888888888888888, \"#fdca26\"], [1.0, \"#f0f921\"]], \"type\": \"heatmapgl\"}], \"histogram\": [{\"marker\": {\"colorbar\": {\"outlinewidth\": 0, \"ticks\": \"\"}}, \"type\": \"histogram\"}], \"histogram2d\": [{\"colorbar\": {\"outlinewidth\": 0, \"ticks\": \"\"}, \"colorscale\": [[0.0, \"#0d0887\"], [0.1111111111111111, \"#46039f\"], [0.2222222222222222, \"#7201a8\"], [0.3333333333333333, \"#9c179e\"], [0.4444444444444444, \"#bd3786\"], [0.5555555555555556, \"#d8576b\"], [0.6666666666666666, \"#ed7953\"], [0.7777777777777778, \"#fb9f3a\"], [0.8888888888888888, \"#fdca26\"], [1.0, \"#f0f921\"]], \"type\": \"histogram2d\"}], \"histogram2dcontour\": [{\"colorbar\": {\"outlinewidth\": 0, \"ticks\": \"\"}, \"colorscale\": [[0.0, \"#0d0887\"], [0.1111111111111111, \"#46039f\"], [0.2222222222222222, \"#7201a8\"], [0.3333333333333333, \"#9c179e\"], [0.4444444444444444, \"#bd3786\"], [0.5555555555555556, \"#d8576b\"], [0.6666666666666666, \"#ed7953\"], [0.7777777777777778, \"#fb9f3a\"], [0.8888888888888888, \"#fdca26\"], [1.0, \"#f0f921\"]], \"type\": \"histogram2dcontour\"}], \"mesh3d\": [{\"colorbar\": {\"outlinewidth\": 0, \"ticks\": \"\"}, \"type\": \"mesh3d\"}], \"parcoords\": [{\"line\": {\"colorbar\": {\"outlinewidth\": 0, \"ticks\": \"\"}}, \"type\": \"parcoords\"}], \"pie\": [{\"automargin\": true, \"type\": \"pie\"}], \"scatter\": [{\"marker\": {\"colorbar\": {\"outlinewidth\": 0, \"ticks\": \"\"}}, \"type\": \"scatter\"}], \"scatter3d\": [{\"line\": {\"colorbar\": {\"outlinewidth\": 0, \"ticks\": \"\"}}, \"marker\": {\"colorbar\": {\"outlinewidth\": 0, \"ticks\": \"\"}}, \"type\": \"scatter3d\"}], \"scattercarpet\": [{\"marker\": {\"colorbar\": {\"outlinewidth\": 0, \"ticks\": \"\"}}, \"type\": \"scattercarpet\"}], \"scattergeo\": [{\"marker\": {\"colorbar\": {\"outlinewidth\": 0, \"ticks\": \"\"}}, \"type\": \"scattergeo\"}], \"scattergl\": [{\"marker\": {\"colorbar\": {\"outlinewidth\": 0, \"ticks\": \"\"}}, \"type\": \"scattergl\"}], \"scattermapbox\": [{\"marker\": {\"colorbar\": {\"outlinewidth\": 0, \"ticks\": \"\"}}, \"type\": \"scattermapbox\"}], \"scatterpolar\": [{\"marker\": {\"colorbar\": {\"outlinewidth\": 0, \"ticks\": \"\"}}, \"type\": \"scatterpolar\"}], \"scatterpolargl\": [{\"marker\": {\"colorbar\": {\"outlinewidth\": 0, \"ticks\": \"\"}}, \"type\": \"scatterpolargl\"}], \"scatterternary\": [{\"marker\": {\"colorbar\": {\"outlinewidth\": 0, \"ticks\": \"\"}}, \"type\": \"scatterternary\"}], \"surface\": [{\"colorbar\": {\"outlinewidth\": 0, \"ticks\": \"\"}, \"colorscale\": [[0.0, \"#0d0887\"], [0.1111111111111111, \"#46039f\"], [0.2222222222222222, \"#7201a8\"], [0.3333333333333333, \"#9c179e\"], [0.4444444444444444, \"#bd3786\"], [0.5555555555555556, \"#d8576b\"], [0.6666666666666666, \"#ed7953\"], [0.7777777777777778, \"#fb9f3a\"], [0.8888888888888888, \"#fdca26\"], [1.0, \"#f0f921\"]], \"type\": \"surface\"}], \"table\": [{\"cells\": {\"fill\": {\"color\": \"#EBF0F8\"}, \"line\": {\"color\": \"white\"}}, \"header\": {\"fill\": {\"color\": \"#C8D4E3\"}, \"line\": {\"color\": \"white\"}}, \"type\": \"table\"}]}, \"layout\": {\"annotationdefaults\": {\"arrowcolor\": \"#2a3f5f\", \"arrowhead\": 0, \"arrowwidth\": 1}, \"coloraxis\": {\"colorbar\": {\"outlinewidth\": 0, \"ticks\": \"\"}}, \"colorscale\": {\"diverging\": [[0, \"#8e0152\"], [0.1, \"#c51b7d\"], [0.2, \"#de77ae\"], [0.3, \"#f1b6da\"], [0.4, \"#fde0ef\"], [0.5, \"#f7f7f7\"], [0.6, \"#e6f5d0\"], [0.7, \"#b8e186\"], [0.8, \"#7fbc41\"], [0.9, \"#4d9221\"], [1, \"#276419\"]], \"sequential\": [[0.0, \"#0d0887\"], [0.1111111111111111, \"#46039f\"], [0.2222222222222222, \"#7201a8\"], [0.3333333333333333, \"#9c179e\"], [0.4444444444444444, \"#bd3786\"], [0.5555555555555556, \"#d8576b\"], [0.6666666666666666, \"#ed7953\"], [0.7777777777777778, \"#fb9f3a\"], [0.8888888888888888, \"#fdca26\"], [1.0, \"#f0f921\"]], \"sequentialminus\": [[0.0, \"#0d0887\"], [0.1111111111111111, \"#46039f\"], [0.2222222222222222, \"#7201a8\"], [0.3333333333333333, \"#9c179e\"], [0.4444444444444444, \"#bd3786\"], [0.5555555555555556, \"#d8576b\"], [0.6666666666666666, \"#ed7953\"], [0.7777777777777778, \"#fb9f3a\"], [0.8888888888888888, \"#fdca26\"], [1.0, \"#f0f921\"]]}, \"colorway\": [\"#636efa\", \"#EF553B\", \"#00cc96\", \"#ab63fa\", \"#FFA15A\", \"#19d3f3\", \"#FF6692\", \"#B6E880\", \"#FF97FF\", \"#FECB52\"], \"font\": {\"color\": \"#2a3f5f\"}, \"geo\": {\"bgcolor\": \"white\", \"lakecolor\": \"white\", \"landcolor\": \"#E5ECF6\", \"showlakes\": true, \"showland\": true, \"subunitcolor\": \"white\"}, \"hoverlabel\": {\"align\": \"left\"}, \"hovermode\": \"closest\", \"mapbox\": {\"style\": \"light\"}, \"paper_bgcolor\": \"white\", \"plot_bgcolor\": \"#E5ECF6\", \"polar\": {\"angularaxis\": {\"gridcolor\": \"white\", \"linecolor\": \"white\", \"ticks\": \"\"}, \"bgcolor\": \"#E5ECF6\", \"radialaxis\": {\"gridcolor\": \"white\", \"linecolor\": \"white\", \"ticks\": \"\"}}, \"scene\": {\"xaxis\": {\"backgroundcolor\": \"#E5ECF6\", \"gridcolor\": \"white\", \"gridwidth\": 2, \"linecolor\": \"white\", \"showbackground\": true, \"ticks\": \"\", \"zerolinecolor\": \"white\"}, \"yaxis\": {\"backgroundcolor\": \"#E5ECF6\", \"gridcolor\": \"white\", \"gridwidth\": 2, \"linecolor\": \"white\", \"showbackground\": true, \"ticks\": \"\", \"zerolinecolor\": \"white\"}, \"zaxis\": {\"backgroundcolor\": \"#E5ECF6\", \"gridcolor\": \"white\", \"gridwidth\": 2, \"linecolor\": \"white\", \"showbackground\": true, \"ticks\": \"\", \"zerolinecolor\": \"white\"}}, \"shapedefaults\": {\"line\": {\"color\": \"#2a3f5f\"}}, \"ternary\": {\"aaxis\": {\"gridcolor\": \"white\", \"linecolor\": \"white\", \"ticks\": \"\"}, \"baxis\": {\"gridcolor\": \"white\", \"linecolor\": \"white\", \"ticks\": \"\"}, \"bgcolor\": \"#E5ECF6\", \"caxis\": {\"gridcolor\": \"white\", \"linecolor\": \"white\", \"ticks\": \"\"}}, \"title\": {\"x\": 0.05}, \"xaxis\": {\"automargin\": true, \"gridcolor\": \"white\", \"linecolor\": \"white\", \"ticks\": \"\", \"title\": {\"standoff\": 15}, \"zerolinecolor\": \"white\", \"zerolinewidth\": 2}, \"yaxis\": {\"automargin\": true, \"gridcolor\": \"white\", \"linecolor\": \"white\", \"ticks\": \"\", \"title\": {\"standoff\": 15}, \"zerolinecolor\": \"white\", \"zerolinewidth\": 2}}}, \"xaxis\": {\"anchor\": \"y\", \"domain\": [0.0, 1.0], \"title\": {\"text\": \"Conference\"}}, \"yaxis\": {\"anchor\": \"x\", \"domain\": [0.0, 1.0], \"title\": {\"text\": \"TotalPay\"}}},\n",
              "                        {\"responsive\": true}\n",
              "                    ).then(function(){\n",
              "                            \n",
              "var gd = document.getElementById('5467cafb-5f18-4e96-934c-56b658588b02');\n",
              "var x = new MutationObserver(function (mutations, observer) {{\n",
              "        var display = window.getComputedStyle(gd).display;\n",
              "        if (!display || display === 'none') {{\n",
              "            console.log([gd, 'removed!']);\n",
              "            Plotly.purge(gd);\n",
              "            observer.disconnect();\n",
              "        }}\n",
              "}});\n",
              "\n",
              "// Listen for the removal of the full notebook cells\n",
              "var notebookContainer = gd.closest('#notebook-container');\n",
              "if (notebookContainer) {{\n",
              "    x.observe(notebookContainer, {childList: true});\n",
              "}}\n",
              "\n",
              "// Listen for the clearing of the current output cell\n",
              "var outputEl = gd.closest('.output');\n",
              "if (outputEl) {{\n",
              "    x.observe(outputEl, {childList: true});\n",
              "}}\n",
              "\n",
              "                        })\n",
              "                };\n",
              "                \n",
              "            </script>\n",
              "        </div>\n",
              "</body>\n",
              "</html>"
            ]
          },
          "metadata": {
            "tags": []
          }
        }
      ]
    },
    {
      "cell_type": "markdown",
      "metadata": {
        "id": "Fs4twUcOoUpw",
        "colab_type": "text"
      },
      "source": [
        "## **GSR compared to the percentage of salary to donor contributions/student fees**\n",
        "###GSR density is between 65% - 90% with coaches salary holding at less than 50% indicating no significant relationships"
      ]
    },
    {
      "cell_type": "code",
      "metadata": {
        "id": "Pqe3nUkbriJ8",
        "colab_type": "code",
        "colab": {
          "base_uri": "https://localhost:8080/",
          "height": 542
        },
        "outputId": "242318e0-39bd-4d51-a723-5d2c0f56c8d6"
      },
      "source": [
        "scat1 = px.scatter(coachSalary, x='GradRate', y='PctBudgetCoach',\n",
        "                              color = 'Conference',size = 'Capacity')\n",
        "scat1.show()"
      ],
      "execution_count": 35,
      "outputs": [
        {
          "output_type": "display_data",
          "data": {
            "text/html": [
              "<html>\n",
              "<head><meta charset=\"utf-8\" /></head>\n",
              "<body>\n",
              "    <div>\n",
              "            <script src=\"https://cdnjs.cloudflare.com/ajax/libs/mathjax/2.7.5/MathJax.js?config=TeX-AMS-MML_SVG\"></script><script type=\"text/javascript\">if (window.MathJax) {MathJax.Hub.Config({SVG: {font: \"STIX-Web\"}});}</script>\n",
              "                <script type=\"text/javascript\">window.PlotlyConfig = {MathJaxConfig: 'local'};</script>\n",
              "        <script src=\"https://cdn.plot.ly/plotly-latest.min.js\"></script>    \n",
              "            <div id=\"d3f8feb9-aea0-4909-8a2b-7bcd77db3ec3\" class=\"plotly-graph-div\" style=\"height:525px; width:100%;\"></div>\n",
              "            <script type=\"text/javascript\">\n",
              "                \n",
              "                    window.PLOTLYENV=window.PLOTLYENV || {};\n",
              "                    \n",
              "                if (document.getElementById(\"d3f8feb9-aea0-4909-8a2b-7bcd77db3ec3\")) {\n",
              "                    Plotly.newPlot(\n",
              "                        'd3f8feb9-aea0-4909-8a2b-7bcd77db3ec3',\n",
              "                        [{\"hoverlabel\": {\"namelength\": 0}, \"hovertemplate\": \"Conference=Ind.<br>GradRate=%{x}<br>PctBudgetCoach=%{y}<br>Capacity=%{marker.size}\", \"legendgroup\": \"Conference=Ind.\", \"marker\": {\"color\": \"#636efa\", \"size\": [30343], \"sizemode\": \"area\", \"sizeref\": 269.0025, \"symbol\": \"circle\"}, \"mode\": \"markers\", \"name\": \"Conference=Ind.\", \"showlegend\": true, \"type\": \"scatter\", \"x\": [80.0], \"xaxis\": \"x\", \"y\": [13.0], \"yaxis\": \"y\"}, {\"hoverlabel\": {\"namelength\": 0}, \"hovertemplate\": \"Conference=Mt. West<br>GradRate=%{x}<br>PctBudgetCoach=%{y}<br>Capacity=%{marker.size}\", \"legendgroup\": \"Conference=Mt. West\", \"marker\": {\"color\": \"#EF553B\", \"size\": [36387, 41031, 30456, 39224, 29181, 26000, 25513, 70561], \"sizemode\": \"area\", \"sizeref\": 269.0025, \"symbol\": \"circle\"}, \"mode\": \"markers\", \"name\": \"Conference=Mt. West\", \"showlegend\": true, \"type\": \"scatter\", \"x\": [65.0, 67.0, 64.0, 74.0, 84.0, 71.0, 86.0, 72.0], \"xaxis\": \"x\", \"y\": [32.0, 23.0, 9.0, 16.0, 64.0, 4.0, 35.0, 8.0], \"yaxis\": \"y\"}, {\"hoverlabel\": {\"namelength\": 0}, \"hovertemplate\": \"Conference=Sun Belt<br>GradRate=%{x}<br>PctBudgetCoach=%{y}<br>Capacity=%{marker.size}\", \"legendgroup\": \"Conference=Sun Belt\", \"marker\": {\"color\": \"#00cc96\", \"size\": [25000, 36000, 30964, 25000, 30000, 30427, 30000, 40000, 30402], \"sizemode\": \"area\", \"sizeref\": 269.0025, \"symbol\": \"circle\"}, \"mode\": \"markers\", \"name\": \"Conference=Sun Belt\", \"showlegend\": true, \"type\": \"scatter\", \"x\": [68.0, 68.0, 69.0, 91.0, 77.0, 47.0, 84.0, 74.0, 71.0], \"xaxis\": \"x\", \"y\": [14.0, 14.0, 29.0, 6.0, 14.0, 47.0, 13.0, 44.0, 43.0], \"yaxis\": \"y\"}, {\"hoverlabel\": {\"namelength\": 0}, \"hovertemplate\": \"Conference=C-USA<br>GradRate=%{x}<br>PctBudgetCoach=%{y}<br>Capacity=%{marker.size}\", \"legendgroup\": \"Conference=C-USA\", \"marker\": {\"color\": \"#ab63fa\", \"size\": [30850, 41426, 22113, 38019, 28109, 31000, 22480], \"sizemode\": \"area\", \"sizeref\": 269.0025, \"symbol\": \"circle\"}, \"mode\": \"markers\", \"name\": \"Conference=C-USA\", \"showlegend\": true, \"type\": \"scatter\", \"x\": [80.0, 88.0, 80.0, 76.0, 88.0, 91.0, 82.0], \"xaxis\": \"x\", \"y\": [25.0, 45.0, 14.0, 10.0, 45.0, 17.0, 5.0], \"yaxis\": \"y\"}, {\"hoverlabel\": {\"namelength\": 0}, \"hovertemplate\": \"Conference=Pac-12<br>GradRate=%{x}<br>PctBudgetCoach=%{y}<br>Capacity=%{marker.size}\", \"legendgroup\": \"Conference=Pac-12\", \"marker\": {\"color\": \"#FFA15A\", \"size\": [56029, 54000, 50183, 56232, 77500, 32248, 45674, 47825], \"sizemode\": \"area\", \"sizeref\": 269.0025, \"symbol\": \"circle\"}, \"mode\": \"markers\", \"name\": \"Conference=Pac-12\", \"showlegend\": true, \"type\": \"scatter\", \"x\": [78.0, 85.0, 73.0, 80.0, 77.0, 79.0, 80.0, 84.0], \"xaxis\": \"x\", \"y\": [18.0, 19.0, 102.0, 17.0, 34.0, 51.0, 13.0, 45.0], \"yaxis\": \"y\"}, {\"hoverlabel\": {\"namelength\": 0}, \"hovertemplate\": \"Conference=AAC<br>GradRate=%{x}<br>PctBudgetCoach=%{y}<br>Capacity=%{marker.size}\", \"legendgroup\": \"Conference=AAC\", \"marker\": {\"color\": \"#19d3f3\", \"size\": [50000, 62380, 40000], \"sizemode\": \"area\", \"sizeref\": 269.0025, \"symbol\": \"circle\"}, \"mode\": \"markers\", \"name\": \"Conference=AAC\", \"showlegend\": true, \"type\": \"scatter\", \"x\": [87.0, 88.0, 78.0], \"xaxis\": \"x\", \"y\": [9.0, 24.0, 48.0], \"yaxis\": \"y\"}, {\"hoverlabel\": {\"namelength\": 0}, \"hovertemplate\": \"Conference=Big 12<br>GradRate=%{x}<br>PctBudgetCoach=%{y}<br>Capacity=%{marker.size}\", \"legendgroup\": \"Conference=Big 12\", \"marker\": {\"color\": \"#FF6692\", \"size\": [50000, 60218, 100119, 50071, 61500, 60862, 60000], \"sizemode\": \"area\", \"sizeref\": 269.0025, \"symbol\": \"circle\"}, \"mode\": \"markers\", \"name\": \"Conference=Big 12\", \"showlegend\": true, \"type\": \"scatter\", \"x\": [81.0, 66.0, 77.0, 83.0, 82.0, 75.0, 92.0], \"xaxis\": \"x\", \"y\": [24.0, 2.0, 113.0, 7.0, 69.0, 18.0, 40.0], \"yaxis\": \"y\"}, {\"hoverlabel\": {\"namelength\": 0}, \"hovertemplate\": \"Conference=ACC<br>GradRate=%{x}<br>PctBudgetCoach=%{y}<br>Capacity=%{marker.size}\", \"legendgroup\": \"Conference=ACC\", \"marker\": {\"color\": \"#B6E880\", \"size\": [79560, 55000, 61000, 61500, 81500, 51000, 66233], \"sizemode\": \"area\", \"sizeref\": 269.0025, \"symbol\": \"circle\"}, \"mode\": \"markers\", \"name\": \"Conference=ACC\", \"showlegend\": true, \"type\": \"scatter\", \"x\": [87.0, 83.0, 81.0, 92.0, 93.0, 91.0, 92.0], \"xaxis\": \"x\", \"y\": [23.0, 9.0, 27.0, 40.0, 64.0, 125.0, 45.0], \"yaxis\": \"y\"}, {\"hoverlabel\": {\"namelength\": 0}, \"hovertemplate\": \"Conference=SEC<br>GradRate=%{x}<br>PctBudgetCoach=%{y}<br>Capacity=%{marker.size}\", \"legendgroup\": \"Conference=SEC\", \"marker\": {\"color\": \"#FF97FF\", \"size\": [101821, 61337, 71168, 61000, 102733, 102455, 87451, 80000, 92746, 88548, 64038, 80250], \"sizemode\": \"area\", \"sizeref\": 269.0025, \"symbol\": \"circle\"}, \"mode\": \"markers\", \"name\": \"Conference=SEC\", \"showlegend\": true, \"type\": \"scatter\", \"x\": [89.0, 75.0, 83.0, 75.0, 79.0, 63.0, 80.0, 74.0, 83.0, 84.0, 73.0, 65.0], \"xaxis\": \"x\", \"y\": [150.0, 47.0, 16.0, 46.0, 32.0, 150.0, 25.0, 45.0, 20.0, 19.0, 57.0, 61.0], \"yaxis\": \"y\"}, {\"hoverlabel\": {\"namelength\": 0}, \"hovertemplate\": \"Conference=Big Ten<br>GradRate=%{x}<br>PctBudgetCoach=%{y}<br>Capacity=%{marker.size}\", \"legendgroup\": \"Conference=Big Ten\", \"marker\": {\"color\": \"#FECB52\", \"size\": [80321, 70585, 60670, 52959, 86047, 107601, 102780, 57236, 47130, 52454, 75005], \"sizemode\": \"area\", \"sizeref\": 269.0025, \"symbol\": \"circle\"}, \"mode\": \"markers\", \"name\": \"Conference=Big Ten\", \"showlegend\": true, \"type\": \"scatter\", \"x\": [88.0, 86.0, 86.0, 58.0, 89.0, 87.0, 91.0, 82.0, 70.0, 87.0, 87.0], \"xaxis\": \"x\", \"y\": [20.0, 21.0, 75.0, 37.0, 43.0, 42.0, 33.0, 28.0, 150.0, 21.0, 24.0], \"yaxis\": \"y\"}, {\"hoverlabel\": {\"namelength\": 0}, \"hovertemplate\": \"Conference=MAC<br>GradRate=%{x}<br>PctBudgetCoach=%{y}<br>Capacity=%{marker.size}\", \"legendgroup\": \"Conference=MAC\", \"marker\": {\"color\": \"#636efa\", \"size\": [25000, 24286, 26248, 65326, 30255, 24000, 30200, 22500, 30200], \"sizemode\": \"area\", \"sizeref\": 269.0025, \"symbol\": \"circle\"}, \"mode\": \"markers\", \"name\": \"Conference=MAC\", \"showlegend\": true, \"type\": \"scatter\", \"x\": [74.0, 88.0, 76.0, 88.0, 80.0, 84.0, 82.0, 41.0, 81.0], \"xaxis\": \"x\", \"y\": [5.0, 5.0, 11.0, 5.0, 67.0, 74.0, 6.0, 5.0, 90.0], \"yaxis\": \"y\"}],\n",
              "                        {\"legend\": {\"itemsizing\": \"constant\", \"tracegroupgap\": 0}, \"margin\": {\"t\": 60}, \"template\": {\"data\": {\"bar\": [{\"error_x\": {\"color\": \"#2a3f5f\"}, \"error_y\": {\"color\": \"#2a3f5f\"}, \"marker\": {\"line\": {\"color\": \"#E5ECF6\", \"width\": 0.5}}, \"type\": \"bar\"}], \"barpolar\": [{\"marker\": {\"line\": {\"color\": \"#E5ECF6\", \"width\": 0.5}}, \"type\": \"barpolar\"}], \"carpet\": [{\"aaxis\": {\"endlinecolor\": \"#2a3f5f\", \"gridcolor\": \"white\", \"linecolor\": \"white\", \"minorgridcolor\": \"white\", \"startlinecolor\": \"#2a3f5f\"}, \"baxis\": {\"endlinecolor\": \"#2a3f5f\", \"gridcolor\": \"white\", \"linecolor\": \"white\", \"minorgridcolor\": \"white\", \"startlinecolor\": \"#2a3f5f\"}, \"type\": \"carpet\"}], \"choropleth\": [{\"colorbar\": {\"outlinewidth\": 0, \"ticks\": \"\"}, \"type\": \"choropleth\"}], \"contour\": [{\"colorbar\": {\"outlinewidth\": 0, \"ticks\": \"\"}, \"colorscale\": [[0.0, \"#0d0887\"], [0.1111111111111111, \"#46039f\"], [0.2222222222222222, \"#7201a8\"], [0.3333333333333333, \"#9c179e\"], [0.4444444444444444, \"#bd3786\"], [0.5555555555555556, \"#d8576b\"], [0.6666666666666666, \"#ed7953\"], [0.7777777777777778, \"#fb9f3a\"], [0.8888888888888888, \"#fdca26\"], [1.0, \"#f0f921\"]], \"type\": \"contour\"}], \"contourcarpet\": [{\"colorbar\": {\"outlinewidth\": 0, \"ticks\": \"\"}, \"type\": \"contourcarpet\"}], \"heatmap\": [{\"colorbar\": {\"outlinewidth\": 0, \"ticks\": \"\"}, \"colorscale\": [[0.0, \"#0d0887\"], [0.1111111111111111, \"#46039f\"], [0.2222222222222222, \"#7201a8\"], [0.3333333333333333, \"#9c179e\"], [0.4444444444444444, \"#bd3786\"], [0.5555555555555556, \"#d8576b\"], [0.6666666666666666, \"#ed7953\"], [0.7777777777777778, \"#fb9f3a\"], [0.8888888888888888, \"#fdca26\"], [1.0, \"#f0f921\"]], \"type\": \"heatmap\"}], \"heatmapgl\": [{\"colorbar\": {\"outlinewidth\": 0, \"ticks\": \"\"}, \"colorscale\": [[0.0, \"#0d0887\"], [0.1111111111111111, \"#46039f\"], [0.2222222222222222, \"#7201a8\"], [0.3333333333333333, \"#9c179e\"], [0.4444444444444444, \"#bd3786\"], [0.5555555555555556, \"#d8576b\"], [0.6666666666666666, \"#ed7953\"], [0.7777777777777778, \"#fb9f3a\"], [0.8888888888888888, \"#fdca26\"], [1.0, \"#f0f921\"]], \"type\": \"heatmapgl\"}], \"histogram\": [{\"marker\": {\"colorbar\": {\"outlinewidth\": 0, \"ticks\": \"\"}}, \"type\": \"histogram\"}], \"histogram2d\": [{\"colorbar\": {\"outlinewidth\": 0, \"ticks\": \"\"}, \"colorscale\": [[0.0, \"#0d0887\"], [0.1111111111111111, \"#46039f\"], [0.2222222222222222, \"#7201a8\"], [0.3333333333333333, \"#9c179e\"], [0.4444444444444444, \"#bd3786\"], [0.5555555555555556, \"#d8576b\"], [0.6666666666666666, \"#ed7953\"], [0.7777777777777778, \"#fb9f3a\"], [0.8888888888888888, \"#fdca26\"], [1.0, \"#f0f921\"]], \"type\": \"histogram2d\"}], \"histogram2dcontour\": [{\"colorbar\": {\"outlinewidth\": 0, \"ticks\": \"\"}, \"colorscale\": [[0.0, \"#0d0887\"], [0.1111111111111111, \"#46039f\"], [0.2222222222222222, \"#7201a8\"], [0.3333333333333333, \"#9c179e\"], [0.4444444444444444, \"#bd3786\"], [0.5555555555555556, \"#d8576b\"], [0.6666666666666666, \"#ed7953\"], [0.7777777777777778, \"#fb9f3a\"], [0.8888888888888888, \"#fdca26\"], [1.0, \"#f0f921\"]], \"type\": \"histogram2dcontour\"}], \"mesh3d\": [{\"colorbar\": {\"outlinewidth\": 0, \"ticks\": \"\"}, \"type\": \"mesh3d\"}], \"parcoords\": [{\"line\": {\"colorbar\": {\"outlinewidth\": 0, \"ticks\": \"\"}}, \"type\": \"parcoords\"}], \"pie\": [{\"automargin\": true, \"type\": \"pie\"}], \"scatter\": [{\"marker\": {\"colorbar\": {\"outlinewidth\": 0, \"ticks\": \"\"}}, \"type\": \"scatter\"}], \"scatter3d\": [{\"line\": {\"colorbar\": {\"outlinewidth\": 0, \"ticks\": \"\"}}, \"marker\": {\"colorbar\": {\"outlinewidth\": 0, \"ticks\": \"\"}}, \"type\": \"scatter3d\"}], \"scattercarpet\": [{\"marker\": {\"colorbar\": {\"outlinewidth\": 0, \"ticks\": \"\"}}, \"type\": \"scattercarpet\"}], \"scattergeo\": [{\"marker\": {\"colorbar\": {\"outlinewidth\": 0, \"ticks\": \"\"}}, \"type\": \"scattergeo\"}], \"scattergl\": [{\"marker\": {\"colorbar\": {\"outlinewidth\": 0, \"ticks\": \"\"}}, \"type\": \"scattergl\"}], \"scattermapbox\": [{\"marker\": {\"colorbar\": {\"outlinewidth\": 0, \"ticks\": \"\"}}, \"type\": \"scattermapbox\"}], \"scatterpolar\": [{\"marker\": {\"colorbar\": {\"outlinewidth\": 0, \"ticks\": \"\"}}, \"type\": \"scatterpolar\"}], \"scatterpolargl\": [{\"marker\": {\"colorbar\": {\"outlinewidth\": 0, \"ticks\": \"\"}}, \"type\": \"scatterpolargl\"}], \"scatterternary\": [{\"marker\": {\"colorbar\": {\"outlinewidth\": 0, \"ticks\": \"\"}}, \"type\": \"scatterternary\"}], \"surface\": [{\"colorbar\": {\"outlinewidth\": 0, \"ticks\": \"\"}, \"colorscale\": [[0.0, \"#0d0887\"], [0.1111111111111111, \"#46039f\"], [0.2222222222222222, \"#7201a8\"], [0.3333333333333333, \"#9c179e\"], [0.4444444444444444, \"#bd3786\"], [0.5555555555555556, \"#d8576b\"], [0.6666666666666666, \"#ed7953\"], [0.7777777777777778, \"#fb9f3a\"], [0.8888888888888888, \"#fdca26\"], [1.0, \"#f0f921\"]], \"type\": \"surface\"}], \"table\": [{\"cells\": {\"fill\": {\"color\": \"#EBF0F8\"}, \"line\": {\"color\": \"white\"}}, \"header\": {\"fill\": {\"color\": \"#C8D4E3\"}, \"line\": {\"color\": \"white\"}}, \"type\": \"table\"}]}, \"layout\": {\"annotationdefaults\": {\"arrowcolor\": \"#2a3f5f\", \"arrowhead\": 0, \"arrowwidth\": 1}, \"coloraxis\": {\"colorbar\": {\"outlinewidth\": 0, \"ticks\": \"\"}}, \"colorscale\": {\"diverging\": [[0, \"#8e0152\"], [0.1, \"#c51b7d\"], [0.2, \"#de77ae\"], [0.3, \"#f1b6da\"], [0.4, \"#fde0ef\"], [0.5, \"#f7f7f7\"], [0.6, \"#e6f5d0\"], [0.7, \"#b8e186\"], [0.8, \"#7fbc41\"], [0.9, \"#4d9221\"], [1, \"#276419\"]], \"sequential\": [[0.0, \"#0d0887\"], [0.1111111111111111, \"#46039f\"], [0.2222222222222222, \"#7201a8\"], [0.3333333333333333, \"#9c179e\"], [0.4444444444444444, \"#bd3786\"], [0.5555555555555556, \"#d8576b\"], [0.6666666666666666, \"#ed7953\"], [0.7777777777777778, \"#fb9f3a\"], [0.8888888888888888, \"#fdca26\"], [1.0, \"#f0f921\"]], \"sequentialminus\": [[0.0, \"#0d0887\"], [0.1111111111111111, \"#46039f\"], [0.2222222222222222, \"#7201a8\"], [0.3333333333333333, \"#9c179e\"], [0.4444444444444444, \"#bd3786\"], [0.5555555555555556, \"#d8576b\"], [0.6666666666666666, \"#ed7953\"], [0.7777777777777778, \"#fb9f3a\"], [0.8888888888888888, \"#fdca26\"], [1.0, \"#f0f921\"]]}, \"colorway\": [\"#636efa\", \"#EF553B\", \"#00cc96\", \"#ab63fa\", \"#FFA15A\", \"#19d3f3\", \"#FF6692\", \"#B6E880\", \"#FF97FF\", \"#FECB52\"], \"font\": {\"color\": \"#2a3f5f\"}, \"geo\": {\"bgcolor\": \"white\", \"lakecolor\": \"white\", \"landcolor\": \"#E5ECF6\", \"showlakes\": true, \"showland\": true, \"subunitcolor\": \"white\"}, \"hoverlabel\": {\"align\": \"left\"}, \"hovermode\": \"closest\", \"mapbox\": {\"style\": \"light\"}, \"paper_bgcolor\": \"white\", \"plot_bgcolor\": \"#E5ECF6\", \"polar\": {\"angularaxis\": {\"gridcolor\": \"white\", \"linecolor\": \"white\", \"ticks\": \"\"}, \"bgcolor\": \"#E5ECF6\", \"radialaxis\": {\"gridcolor\": \"white\", \"linecolor\": \"white\", \"ticks\": \"\"}}, \"scene\": {\"xaxis\": {\"backgroundcolor\": \"#E5ECF6\", \"gridcolor\": \"white\", \"gridwidth\": 2, \"linecolor\": \"white\", \"showbackground\": true, \"ticks\": \"\", \"zerolinecolor\": \"white\"}, \"yaxis\": {\"backgroundcolor\": \"#E5ECF6\", \"gridcolor\": \"white\", \"gridwidth\": 2, \"linecolor\": \"white\", \"showbackground\": true, \"ticks\": \"\", \"zerolinecolor\": \"white\"}, \"zaxis\": {\"backgroundcolor\": \"#E5ECF6\", \"gridcolor\": \"white\", \"gridwidth\": 2, \"linecolor\": \"white\", \"showbackground\": true, \"ticks\": \"\", \"zerolinecolor\": \"white\"}}, \"shapedefaults\": {\"line\": {\"color\": \"#2a3f5f\"}}, \"ternary\": {\"aaxis\": {\"gridcolor\": \"white\", \"linecolor\": \"white\", \"ticks\": \"\"}, \"baxis\": {\"gridcolor\": \"white\", \"linecolor\": \"white\", \"ticks\": \"\"}, \"bgcolor\": \"#E5ECF6\", \"caxis\": {\"gridcolor\": \"white\", \"linecolor\": \"white\", \"ticks\": \"\"}}, \"title\": {\"x\": 0.05}, \"xaxis\": {\"automargin\": true, \"gridcolor\": \"white\", \"linecolor\": \"white\", \"ticks\": \"\", \"title\": {\"standoff\": 15}, \"zerolinecolor\": \"white\", \"zerolinewidth\": 2}, \"yaxis\": {\"automargin\": true, \"gridcolor\": \"white\", \"linecolor\": \"white\", \"ticks\": \"\", \"title\": {\"standoff\": 15}, \"zerolinecolor\": \"white\", \"zerolinewidth\": 2}}}, \"xaxis\": {\"anchor\": \"y\", \"domain\": [0.0, 1.0], \"title\": {\"text\": \"GradRate\"}}, \"yaxis\": {\"anchor\": \"x\", \"domain\": [0.0, 1.0], \"title\": {\"text\": \"PctBudgetCoach\"}}},\n",
              "                        {\"responsive\": true}\n",
              "                    ).then(function(){\n",
              "                            \n",
              "var gd = document.getElementById('d3f8feb9-aea0-4909-8a2b-7bcd77db3ec3');\n",
              "var x = new MutationObserver(function (mutations, observer) {{\n",
              "        var display = window.getComputedStyle(gd).display;\n",
              "        if (!display || display === 'none') {{\n",
              "            console.log([gd, 'removed!']);\n",
              "            Plotly.purge(gd);\n",
              "            observer.disconnect();\n",
              "        }}\n",
              "}});\n",
              "\n",
              "// Listen for the removal of the full notebook cells\n",
              "var notebookContainer = gd.closest('#notebook-container');\n",
              "if (notebookContainer) {{\n",
              "    x.observe(notebookContainer, {childList: true});\n",
              "}}\n",
              "\n",
              "// Listen for the clearing of the current output cell\n",
              "var outputEl = gd.closest('.output');\n",
              "if (outputEl) {{\n",
              "    x.observe(outputEl, {childList: true});\n",
              "}}\n",
              "\n",
              "                        })\n",
              "                };\n",
              "                \n",
              "            </script>\n",
              "        </div>\n",
              "</body>\n",
              "</html>"
            ]
          },
          "metadata": {
            "tags": []
          }
        }
      ]
    },
    {
      "cell_type": "code",
      "metadata": {
        "id": "K6kiVa_hzPEN",
        "colab_type": "code",
        "colab": {
          "base_uri": "https://localhost:8080/",
          "height": 542
        },
        "outputId": "64e37e68-865d-409a-8498-81cbecd0e061"
      },
      "source": [
        "scat2 = px.scatter(coachSalary, x='FedGradRate', y='PctBudgetCoach',\n",
        "                              color = 'Conference',size = 'Capacity')\n",
        "scat2.show()"
      ],
      "execution_count": 34,
      "outputs": [
        {
          "output_type": "display_data",
          "data": {
            "text/html": [
              "<html>\n",
              "<head><meta charset=\"utf-8\" /></head>\n",
              "<body>\n",
              "    <div>\n",
              "            <script src=\"https://cdnjs.cloudflare.com/ajax/libs/mathjax/2.7.5/MathJax.js?config=TeX-AMS-MML_SVG\"></script><script type=\"text/javascript\">if (window.MathJax) {MathJax.Hub.Config({SVG: {font: \"STIX-Web\"}});}</script>\n",
              "                <script type=\"text/javascript\">window.PlotlyConfig = {MathJaxConfig: 'local'};</script>\n",
              "        <script src=\"https://cdn.plot.ly/plotly-latest.min.js\"></script>    \n",
              "            <div id=\"318edc6d-f9b6-46c7-a5a6-63c202160dd0\" class=\"plotly-graph-div\" style=\"height:525px; width:100%;\"></div>\n",
              "            <script type=\"text/javascript\">\n",
              "                \n",
              "                    window.PLOTLYENV=window.PLOTLYENV || {};\n",
              "                    \n",
              "                if (document.getElementById(\"318edc6d-f9b6-46c7-a5a6-63c202160dd0\")) {\n",
              "                    Plotly.newPlot(\n",
              "                        '318edc6d-f9b6-46c7-a5a6-63c202160dd0',\n",
              "                        [{\"hoverlabel\": {\"namelength\": 0}, \"hovertemplate\": \"Conference=Ind.<br>FedGradRate=%{x}<br>PctBudgetCoach=%{y}<br>Capacity=%{marker.size}\", \"legendgroup\": \"Conference=Ind.\", \"marker\": {\"color\": \"#636efa\", \"size\": [30343], \"sizemode\": \"area\", \"sizeref\": 269.0025, \"symbol\": \"circle\"}, \"mode\": \"markers\", \"name\": \"Conference=Ind.\", \"showlegend\": true, \"type\": \"scatter\", \"x\": [67.0], \"xaxis\": \"x\", \"y\": [13.0], \"yaxis\": \"y\"}, {\"hoverlabel\": {\"namelength\": 0}, \"hovertemplate\": \"Conference=Mt. West<br>FedGradRate=%{x}<br>PctBudgetCoach=%{y}<br>Capacity=%{marker.size}\", \"legendgroup\": \"Conference=Mt. West\", \"marker\": {\"color\": \"#EF553B\", \"size\": [36387, 41031, 30456, 39224, 29181, 26000, 25513, 70561], \"sizemode\": \"area\", \"sizeref\": 269.0025, \"symbol\": \"circle\"}, \"mode\": \"markers\", \"name\": \"Conference=Mt. West\", \"showlegend\": true, \"type\": \"scatter\", \"x\": [51.0, 56.0, 50.0, 50.0, 60.0, 58.0, 68.0, 62.0], \"xaxis\": \"x\", \"y\": [32.0, 23.0, 9.0, 16.0, 64.0, 4.0, 35.0, 8.0], \"yaxis\": \"y\"}, {\"hoverlabel\": {\"namelength\": 0}, \"hovertemplate\": \"Conference=Sun Belt<br>FedGradRate=%{x}<br>PctBudgetCoach=%{y}<br>Capacity=%{marker.size}\", \"legendgroup\": \"Conference=Sun Belt\", \"marker\": {\"color\": \"#00cc96\", \"size\": [25000, 36000, 30964, 25000, 30000, 30427, 30000, 40000, 30402], \"sizemode\": \"area\", \"sizeref\": 269.0025, \"symbol\": \"circle\"}, \"mode\": \"markers\", \"name\": \"Conference=Sun Belt\", \"showlegend\": true, \"type\": \"scatter\", \"x\": [64.0, 64.0, 53.0, 56.0, 53.0, 38.0, 65.0, 68.0, 55.0], \"xaxis\": \"x\", \"y\": [14.0, 14.0, 29.0, 6.0, 14.0, 47.0, 13.0, 44.0, 43.0], \"yaxis\": \"y\"}, {\"hoverlabel\": {\"namelength\": 0}, \"hovertemplate\": \"Conference=C-USA<br>FedGradRate=%{x}<br>PctBudgetCoach=%{y}<br>Capacity=%{marker.size}\", \"legendgroup\": \"Conference=C-USA\", \"marker\": {\"color\": \"#ab63fa\", \"size\": [30850, 41426, 22113, 38019, 28109, 31000, 22480], \"sizemode\": \"area\", \"sizeref\": 269.0025, \"symbol\": \"circle\"}, \"mode\": \"markers\", \"name\": \"Conference=C-USA\", \"showlegend\": true, \"type\": \"scatter\", \"x\": [67.0, 67.0, 70.0, 48.0, 67.0, 66.0, 61.0], \"xaxis\": \"x\", \"y\": [25.0, 45.0, 14.0, 10.0, 45.0, 17.0, 5.0], \"yaxis\": \"y\"}, {\"hoverlabel\": {\"namelength\": 0}, \"hovertemplate\": \"Conference=Pac-12<br>FedGradRate=%{x}<br>PctBudgetCoach=%{y}<br>Capacity=%{marker.size}\", \"legendgroup\": \"Conference=Pac-12\", \"marker\": {\"color\": \"#FFA15A\", \"size\": [56029, 54000, 50183, 56232, 77500, 32248, 45674, 47825], \"sizemode\": \"area\", \"sizeref\": 269.0025, \"symbol\": \"circle\"}, \"mode\": \"markers\", \"name\": \"Conference=Pac-12\", \"showlegend\": true, \"type\": \"scatter\", \"x\": [64.0, 63.0, 47.0, 56.0, 61.0, 71.0, 61.0, 61.0], \"xaxis\": \"x\", \"y\": [18.0, 19.0, 102.0, 17.0, 34.0, 51.0, 13.0, 45.0], \"yaxis\": \"y\"}, {\"hoverlabel\": {\"namelength\": 0}, \"hovertemplate\": \"Conference=AAC<br>FedGradRate=%{x}<br>PctBudgetCoach=%{y}<br>Capacity=%{marker.size}\", \"legendgroup\": \"Conference=AAC\", \"marker\": {\"color\": \"#19d3f3\", \"size\": [50000, 62380, 40000], \"sizemode\": \"area\", \"sizeref\": 269.0025, \"symbol\": \"circle\"}, \"mode\": \"markers\", \"name\": \"Conference=AAC\", \"showlegend\": true, \"type\": \"scatter\", \"x\": [69.0, 61.0, 69.0], \"xaxis\": \"x\", \"y\": [9.0, 24.0, 48.0], \"yaxis\": \"y\"}, {\"hoverlabel\": {\"namelength\": 0}, \"hovertemplate\": \"Conference=Big 12<br>FedGradRate=%{x}<br>PctBudgetCoach=%{y}<br>Capacity=%{marker.size}\", \"legendgroup\": \"Conference=Big 12\", \"marker\": {\"color\": \"#FF6692\", \"size\": [50000, 60218, 100119, 50071, 61500, 60862, 60000], \"sizemode\": \"area\", \"sizeref\": 269.0025, \"symbol\": \"circle\"}, \"mode\": \"markers\", \"name\": \"Conference=Big 12\", \"showlegend\": true, \"type\": \"scatter\", \"x\": [64.0, 48.0, 53.0, 70.0, 71.0, 60.0, 65.0], \"xaxis\": \"x\", \"y\": [24.0, 2.0, 113.0, 7.0, 69.0, 18.0, 40.0], \"yaxis\": \"y\"}, {\"hoverlabel\": {\"namelength\": 0}, \"hovertemplate\": \"Conference=ACC<br>FedGradRate=%{x}<br>PctBudgetCoach=%{y}<br>Capacity=%{marker.size}\", \"legendgroup\": \"Conference=ACC\", \"marker\": {\"color\": \"#B6E880\", \"size\": [79560, 55000, 61000, 61500, 81500, 51000, 66233], \"sizemode\": \"area\", \"sizeref\": 269.0025, \"symbol\": \"circle\"}, \"mode\": \"markers\", \"name\": \"Conference=ACC\", \"showlegend\": true, \"type\": \"scatter\", \"x\": [63.0, 67.0, 62.0, 65.0, 67.0, 71.0, 65.0], \"xaxis\": \"x\", \"y\": [23.0, 9.0, 27.0, 40.0, 64.0, 125.0, 45.0], \"yaxis\": \"y\"}, {\"hoverlabel\": {\"namelength\": 0}, \"hovertemplate\": \"Conference=SEC<br>FedGradRate=%{x}<br>PctBudgetCoach=%{y}<br>Capacity=%{marker.size}\", \"legendgroup\": \"Conference=SEC\", \"marker\": {\"color\": \"#FF97FF\", \"size\": [101821, 61337, 71168, 61000, 102733, 102455, 87451, 80000, 92746, 88548, 64038, 80250], \"sizemode\": \"area\", \"sizeref\": 269.0025, \"symbol\": \"circle\"}, \"mode\": \"markers\", \"name\": \"Conference=SEC\", \"showlegend\": true, \"type\": \"scatter\", \"x\": [37.0, 58.0, 65.0, 58.0, 69.0, 42.0, 65.0, 49.0, 67.0, 61.0, 52.0, 52.0], \"xaxis\": \"x\", \"y\": [150.0, 47.0, 16.0, 46.0, 32.0, 150.0, 25.0, 45.0, 20.0, 19.0, 57.0, 61.0], \"yaxis\": \"y\"}, {\"hoverlabel\": {\"namelength\": 0}, \"hovertemplate\": \"Conference=Big Ten<br>FedGradRate=%{x}<br>PctBudgetCoach=%{y}<br>Capacity=%{marker.size}\", \"legendgroup\": \"Conference=Big Ten\", \"marker\": {\"color\": \"#FECB52\", \"size\": [80321, 70585, 60670, 52959, 86047, 107601, 102780, 57236, 47130, 52454, 75005], \"sizemode\": \"area\", \"sizeref\": 269.0025, \"symbol\": \"circle\"}, \"mode\": \"markers\", \"name\": \"Conference=Big Ten\", \"showlegend\": true, \"type\": \"scatter\", \"x\": [75.0, 72.0, 74.0, 54.0, 69.0, 73.0, 76.0, 73.0, 55.0, 77.0, 73.0], \"xaxis\": \"x\", \"y\": [20.0, 21.0, 75.0, 37.0, 43.0, 42.0, 33.0, 28.0, 150.0, 21.0, 24.0], \"yaxis\": \"y\"}, {\"hoverlabel\": {\"namelength\": 0}, \"hovertemplate\": \"Conference=MAC<br>FedGradRate=%{x}<br>PctBudgetCoach=%{y}<br>Capacity=%{marker.size}\", \"legendgroup\": \"Conference=MAC\", \"marker\": {\"color\": \"#636efa\", \"size\": [25000, 24286, 26248, 65326, 30255, 24000, 30200, 22500, 30200], \"sizemode\": \"area\", \"sizeref\": 269.0025, \"symbol\": \"circle\"}, \"mode\": \"markers\", \"name\": \"Conference=MAC\", \"showlegend\": true, \"type\": \"scatter\", \"x\": [64.0, 63.0, 66.0, 63.0, 68.0, 69.0, 64.0, 41.0, 71.0], \"xaxis\": \"x\", \"y\": [5.0, 5.0, 11.0, 5.0, 67.0, 74.0, 6.0, 5.0, 90.0], \"yaxis\": \"y\"}],\n",
              "                        {\"legend\": {\"itemsizing\": \"constant\", \"tracegroupgap\": 0}, \"margin\": {\"t\": 60}, \"template\": {\"data\": {\"bar\": [{\"error_x\": {\"color\": \"#2a3f5f\"}, \"error_y\": {\"color\": \"#2a3f5f\"}, \"marker\": {\"line\": {\"color\": \"#E5ECF6\", \"width\": 0.5}}, \"type\": \"bar\"}], \"barpolar\": [{\"marker\": {\"line\": {\"color\": \"#E5ECF6\", \"width\": 0.5}}, \"type\": \"barpolar\"}], \"carpet\": [{\"aaxis\": {\"endlinecolor\": \"#2a3f5f\", \"gridcolor\": \"white\", \"linecolor\": \"white\", \"minorgridcolor\": \"white\", \"startlinecolor\": \"#2a3f5f\"}, \"baxis\": {\"endlinecolor\": \"#2a3f5f\", \"gridcolor\": \"white\", \"linecolor\": \"white\", \"minorgridcolor\": \"white\", \"startlinecolor\": \"#2a3f5f\"}, \"type\": \"carpet\"}], \"choropleth\": [{\"colorbar\": {\"outlinewidth\": 0, \"ticks\": \"\"}, \"type\": \"choropleth\"}], \"contour\": [{\"colorbar\": {\"outlinewidth\": 0, \"ticks\": \"\"}, \"colorscale\": [[0.0, \"#0d0887\"], [0.1111111111111111, \"#46039f\"], [0.2222222222222222, \"#7201a8\"], [0.3333333333333333, \"#9c179e\"], [0.4444444444444444, \"#bd3786\"], [0.5555555555555556, \"#d8576b\"], [0.6666666666666666, \"#ed7953\"], [0.7777777777777778, \"#fb9f3a\"], [0.8888888888888888, \"#fdca26\"], [1.0, \"#f0f921\"]], \"type\": \"contour\"}], \"contourcarpet\": [{\"colorbar\": {\"outlinewidth\": 0, \"ticks\": \"\"}, \"type\": \"contourcarpet\"}], \"heatmap\": [{\"colorbar\": {\"outlinewidth\": 0, \"ticks\": \"\"}, \"colorscale\": [[0.0, \"#0d0887\"], [0.1111111111111111, \"#46039f\"], [0.2222222222222222, \"#7201a8\"], [0.3333333333333333, \"#9c179e\"], [0.4444444444444444, \"#bd3786\"], [0.5555555555555556, \"#d8576b\"], [0.6666666666666666, \"#ed7953\"], [0.7777777777777778, \"#fb9f3a\"], [0.8888888888888888, \"#fdca26\"], [1.0, \"#f0f921\"]], \"type\": \"heatmap\"}], \"heatmapgl\": [{\"colorbar\": {\"outlinewidth\": 0, \"ticks\": \"\"}, \"colorscale\": [[0.0, \"#0d0887\"], [0.1111111111111111, \"#46039f\"], [0.2222222222222222, \"#7201a8\"], [0.3333333333333333, \"#9c179e\"], [0.4444444444444444, \"#bd3786\"], [0.5555555555555556, \"#d8576b\"], [0.6666666666666666, \"#ed7953\"], [0.7777777777777778, \"#fb9f3a\"], [0.8888888888888888, \"#fdca26\"], [1.0, \"#f0f921\"]], \"type\": \"heatmapgl\"}], \"histogram\": [{\"marker\": {\"colorbar\": {\"outlinewidth\": 0, \"ticks\": \"\"}}, \"type\": \"histogram\"}], \"histogram2d\": [{\"colorbar\": {\"outlinewidth\": 0, \"ticks\": \"\"}, \"colorscale\": [[0.0, \"#0d0887\"], [0.1111111111111111, \"#46039f\"], [0.2222222222222222, \"#7201a8\"], [0.3333333333333333, \"#9c179e\"], [0.4444444444444444, \"#bd3786\"], [0.5555555555555556, \"#d8576b\"], [0.6666666666666666, \"#ed7953\"], [0.7777777777777778, \"#fb9f3a\"], [0.8888888888888888, \"#fdca26\"], [1.0, \"#f0f921\"]], \"type\": \"histogram2d\"}], \"histogram2dcontour\": [{\"colorbar\": {\"outlinewidth\": 0, \"ticks\": \"\"}, \"colorscale\": [[0.0, \"#0d0887\"], [0.1111111111111111, \"#46039f\"], [0.2222222222222222, \"#7201a8\"], [0.3333333333333333, \"#9c179e\"], [0.4444444444444444, \"#bd3786\"], [0.5555555555555556, \"#d8576b\"], [0.6666666666666666, \"#ed7953\"], [0.7777777777777778, \"#fb9f3a\"], [0.8888888888888888, \"#fdca26\"], [1.0, \"#f0f921\"]], \"type\": \"histogram2dcontour\"}], \"mesh3d\": [{\"colorbar\": {\"outlinewidth\": 0, \"ticks\": \"\"}, \"type\": \"mesh3d\"}], \"parcoords\": [{\"line\": {\"colorbar\": {\"outlinewidth\": 0, \"ticks\": \"\"}}, \"type\": \"parcoords\"}], \"pie\": [{\"automargin\": true, \"type\": \"pie\"}], \"scatter\": [{\"marker\": {\"colorbar\": {\"outlinewidth\": 0, \"ticks\": \"\"}}, \"type\": \"scatter\"}], \"scatter3d\": [{\"line\": {\"colorbar\": {\"outlinewidth\": 0, \"ticks\": \"\"}}, \"marker\": {\"colorbar\": {\"outlinewidth\": 0, \"ticks\": \"\"}}, \"type\": \"scatter3d\"}], \"scattercarpet\": [{\"marker\": {\"colorbar\": {\"outlinewidth\": 0, \"ticks\": \"\"}}, \"type\": \"scattercarpet\"}], \"scattergeo\": [{\"marker\": {\"colorbar\": {\"outlinewidth\": 0, \"ticks\": \"\"}}, \"type\": \"scattergeo\"}], \"scattergl\": [{\"marker\": {\"colorbar\": {\"outlinewidth\": 0, \"ticks\": \"\"}}, \"type\": \"scattergl\"}], \"scattermapbox\": [{\"marker\": {\"colorbar\": {\"outlinewidth\": 0, \"ticks\": \"\"}}, \"type\": \"scattermapbox\"}], \"scatterpolar\": [{\"marker\": {\"colorbar\": {\"outlinewidth\": 0, \"ticks\": \"\"}}, \"type\": \"scatterpolar\"}], \"scatterpolargl\": [{\"marker\": {\"colorbar\": {\"outlinewidth\": 0, \"ticks\": \"\"}}, \"type\": \"scatterpolargl\"}], \"scatterternary\": [{\"marker\": {\"colorbar\": {\"outlinewidth\": 0, \"ticks\": \"\"}}, \"type\": \"scatterternary\"}], \"surface\": [{\"colorbar\": {\"outlinewidth\": 0, \"ticks\": \"\"}, \"colorscale\": [[0.0, \"#0d0887\"], [0.1111111111111111, \"#46039f\"], [0.2222222222222222, \"#7201a8\"], [0.3333333333333333, \"#9c179e\"], [0.4444444444444444, \"#bd3786\"], [0.5555555555555556, \"#d8576b\"], [0.6666666666666666, \"#ed7953\"], [0.7777777777777778, \"#fb9f3a\"], [0.8888888888888888, \"#fdca26\"], [1.0, \"#f0f921\"]], \"type\": \"surface\"}], \"table\": [{\"cells\": {\"fill\": {\"color\": \"#EBF0F8\"}, \"line\": {\"color\": \"white\"}}, \"header\": {\"fill\": {\"color\": \"#C8D4E3\"}, \"line\": {\"color\": \"white\"}}, \"type\": \"table\"}]}, \"layout\": {\"annotationdefaults\": {\"arrowcolor\": \"#2a3f5f\", \"arrowhead\": 0, \"arrowwidth\": 1}, \"coloraxis\": {\"colorbar\": {\"outlinewidth\": 0, \"ticks\": \"\"}}, \"colorscale\": {\"diverging\": [[0, \"#8e0152\"], [0.1, \"#c51b7d\"], [0.2, \"#de77ae\"], [0.3, \"#f1b6da\"], [0.4, \"#fde0ef\"], [0.5, \"#f7f7f7\"], [0.6, \"#e6f5d0\"], [0.7, \"#b8e186\"], [0.8, \"#7fbc41\"], [0.9, \"#4d9221\"], [1, \"#276419\"]], \"sequential\": [[0.0, \"#0d0887\"], [0.1111111111111111, \"#46039f\"], [0.2222222222222222, \"#7201a8\"], [0.3333333333333333, \"#9c179e\"], [0.4444444444444444, \"#bd3786\"], [0.5555555555555556, \"#d8576b\"], [0.6666666666666666, \"#ed7953\"], [0.7777777777777778, \"#fb9f3a\"], [0.8888888888888888, \"#fdca26\"], [1.0, \"#f0f921\"]], \"sequentialminus\": [[0.0, \"#0d0887\"], [0.1111111111111111, \"#46039f\"], [0.2222222222222222, \"#7201a8\"], [0.3333333333333333, \"#9c179e\"], [0.4444444444444444, \"#bd3786\"], [0.5555555555555556, \"#d8576b\"], [0.6666666666666666, \"#ed7953\"], [0.7777777777777778, \"#fb9f3a\"], [0.8888888888888888, \"#fdca26\"], [1.0, \"#f0f921\"]]}, \"colorway\": [\"#636efa\", \"#EF553B\", \"#00cc96\", \"#ab63fa\", \"#FFA15A\", \"#19d3f3\", \"#FF6692\", \"#B6E880\", \"#FF97FF\", \"#FECB52\"], \"font\": {\"color\": \"#2a3f5f\"}, \"geo\": {\"bgcolor\": \"white\", \"lakecolor\": \"white\", \"landcolor\": \"#E5ECF6\", \"showlakes\": true, \"showland\": true, \"subunitcolor\": \"white\"}, \"hoverlabel\": {\"align\": \"left\"}, \"hovermode\": \"closest\", \"mapbox\": {\"style\": \"light\"}, \"paper_bgcolor\": \"white\", \"plot_bgcolor\": \"#E5ECF6\", \"polar\": {\"angularaxis\": {\"gridcolor\": \"white\", \"linecolor\": \"white\", \"ticks\": \"\"}, \"bgcolor\": \"#E5ECF6\", \"radialaxis\": {\"gridcolor\": \"white\", \"linecolor\": \"white\", \"ticks\": \"\"}}, \"scene\": {\"xaxis\": {\"backgroundcolor\": \"#E5ECF6\", \"gridcolor\": \"white\", \"gridwidth\": 2, \"linecolor\": \"white\", \"showbackground\": true, \"ticks\": \"\", \"zerolinecolor\": \"white\"}, \"yaxis\": {\"backgroundcolor\": \"#E5ECF6\", \"gridcolor\": \"white\", \"gridwidth\": 2, \"linecolor\": \"white\", \"showbackground\": true, \"ticks\": \"\", \"zerolinecolor\": \"white\"}, \"zaxis\": {\"backgroundcolor\": \"#E5ECF6\", \"gridcolor\": \"white\", \"gridwidth\": 2, \"linecolor\": \"white\", \"showbackground\": true, \"ticks\": \"\", \"zerolinecolor\": \"white\"}}, \"shapedefaults\": {\"line\": {\"color\": \"#2a3f5f\"}}, \"ternary\": {\"aaxis\": {\"gridcolor\": \"white\", \"linecolor\": \"white\", \"ticks\": \"\"}, \"baxis\": {\"gridcolor\": \"white\", \"linecolor\": \"white\", \"ticks\": \"\"}, \"bgcolor\": \"#E5ECF6\", \"caxis\": {\"gridcolor\": \"white\", \"linecolor\": \"white\", \"ticks\": \"\"}}, \"title\": {\"x\": 0.05}, \"xaxis\": {\"automargin\": true, \"gridcolor\": \"white\", \"linecolor\": \"white\", \"ticks\": \"\", \"title\": {\"standoff\": 15}, \"zerolinecolor\": \"white\", \"zerolinewidth\": 2}, \"yaxis\": {\"automargin\": true, \"gridcolor\": \"white\", \"linecolor\": \"white\", \"ticks\": \"\", \"title\": {\"standoff\": 15}, \"zerolinecolor\": \"white\", \"zerolinewidth\": 2}}}, \"xaxis\": {\"anchor\": \"y\", \"domain\": [0.0, 1.0], \"title\": {\"text\": \"FedGradRate\"}}, \"yaxis\": {\"anchor\": \"x\", \"domain\": [0.0, 1.0], \"title\": {\"text\": \"PctBudgetCoach\"}}},\n",
              "                        {\"responsive\": true}\n",
              "                    ).then(function(){\n",
              "                            \n",
              "var gd = document.getElementById('318edc6d-f9b6-46c7-a5a6-63c202160dd0');\n",
              "var x = new MutationObserver(function (mutations, observer) {{\n",
              "        var display = window.getComputedStyle(gd).display;\n",
              "        if (!display || display === 'none') {{\n",
              "            console.log([gd, 'removed!']);\n",
              "            Plotly.purge(gd);\n",
              "            observer.disconnect();\n",
              "        }}\n",
              "}});\n",
              "\n",
              "// Listen for the removal of the full notebook cells\n",
              "var notebookContainer = gd.closest('#notebook-container');\n",
              "if (notebookContainer) {{\n",
              "    x.observe(notebookContainer, {childList: true});\n",
              "}}\n",
              "\n",
              "// Listen for the clearing of the current output cell\n",
              "var outputEl = gd.closest('.output');\n",
              "if (outputEl) {{\n",
              "    x.observe(outputEl, {childList: true});\n",
              "}}\n",
              "\n",
              "                        })\n",
              "                };\n",
              "                \n",
              "            </script>\n",
              "        </div>\n",
              "</body>\n",
              "</html>"
            ]
          },
          "metadata": {
            "tags": []
          }
        }
      ]
    },
    {
      "cell_type": "markdown",
      "metadata": {
        "id": "CHL4HpHPpHuJ",
        "colab_type": "text"
      },
      "source": [
        "# **Training Testing Split at 70% ---  30%**"
      ]
    },
    {
      "cell_type": "code",
      "metadata": {
        "id": "3MpYvolTmRqj",
        "colab_type": "code",
        "colab": {}
      },
      "source": [
        "##################################################################\n",
        "\n",
        "# create training-and-test regimen for model validation\n",
        "np.random.seed(1234)\n",
        "coachSalary['runiform'] = uniform.rvs(loc = 0, scale = 1, size = len(coachSalary))\n",
        "coachSalary_train = coachSalary[coachSalary['runiform'] >= 0.30]\n",
        "coachSalary_test = coachSalary[coachSalary['runiform'] < 0.30]\n",
        "# check training data frame\n",
        "print('\\ncoachSalary_train data frame (rows, columns): ',coachSalary_train.shape)\n",
        "print(coachSalary_train.head())\n",
        "# check test data frame\n",
        "print('\\ncoachSalary_test data frame (rows, columns): ',coachSalary_test.shape)\n",
        "print(coachSalary_test.head())\n",
        "\n",
        "##################################################################"
      ],
      "execution_count": 0,
      "outputs": []
    },
    {
      "cell_type": "markdown",
      "metadata": {
        "id": "4jmnHwZngXLY",
        "colab_type": "text"
      },
      "source": [
        "## **Build OLS Regression Model**\n",
        "###***How good is our model? What is the single biggest impact on salary size?***\n",
        "\n",
        "\n",
        "*   The Ordinary Least Squares Regression is a Liner regression model that minimized the errors and it minimizes the error of prediction from the regression line. Therefore, the coach’s salary is the Y- dependent variable with X being the explanatory variables and epsilon as the error or residuals from regression line to predicted salary.\n",
        "\n",
        "\n",
        "\n",
        "> ![OLS Equation](https://drive.google.com/uc?id=1vUIe0vF_4Av4pJ4mWsPzDXidJkIkkBT1)\n",
        "\n",
        "\n",
        "\n",
        "*   The model can confidently account for (.78) the variability in the regression which is the R-squared. Meaning, the suggested coefficients or rather magnitude of the independent X-variables have on the Y-dependent variable accuracy is beholden to that R-square.\n",
        "\n",
        "\n",
        "*   Therefore, based on the p-values (assumption of alpha being 0.95) the strongest correlation is school stadium capacity with a p-value well below (0.000). Moreover, the coefficient of (62) indicates that for every seat in the stadium the head coach salary will increase by $62.\n",
        "\n"
      ]
    },
    {
      "cell_type": "code",
      "metadata": {
        "id": "ouIrICx7muz-",
        "colab_type": "code",
        "colab": {
          "base_uri": "https://localhost:8080/",
          "height": 853
        },
        "outputId": "e400e857-1e53-44e6-e066-787f788e5a29"
      },
      "source": [
        "##################################################################\n",
        "\n",
        "# simple model --- GradRate = R-sqr 0.788\n",
        "my_model = str('TotalPay ~ Capacity + ConfNum + DonorCash + StudenFees + FedGradRate + GradRate')\n",
        "# simple model --- remove ConfNum, FedGradRate and GradRate  = R-sqr 0.776\n",
        "#my_model = str('TotalPay ~ Capacity +  DonorCash + StudenFees')\n",
        "\n",
        "###################################################################\n",
        "\n",
        "# fit the model to the training set\n",
        "train_model_fit = smf.ols(my_model, data = coachSalary_train).fit()\n",
        "# summary of model fit to the training set\n",
        "print(train_model_fit.summary())\n",
        "# training set predictions from the model fit to the training set\n",
        "coachSalary_train['predict_salary'] = train_model_fit.fittedvalues\n",
        "\n",
        "# test set predictions from the model fit to the training set\n",
        "coachSalary_test['predict_salary'] = train_model_fit.predict(coachSalary_test)\n",
        "\n",
        "##################################################################"
      ],
      "execution_count": 22,
      "outputs": [
        {
          "output_type": "stream",
          "text": [
            "                            OLS Regression Results                            \n",
            "==============================================================================\n",
            "Dep. Variable:               TotalPay   R-squared:                       0.788\n",
            "Model:                            OLS   Adj. R-squared:                  0.763\n",
            "Method:                 Least Squares   F-statistic:                     31.64\n",
            "Date:                Tue, 21 Apr 2020   Prob (F-statistic):           1.49e-15\n",
            "Time:                        01:07:31   Log-Likelihood:                -878.32\n",
            "No. Observations:                  58   AIC:                             1771.\n",
            "Df Residuals:                      51   BIC:                             1785.\n",
            "Df Model:                           6                                         \n",
            "Covariance Type:            nonrobust                                         \n",
            "===============================================================================\n",
            "                  coef    std err          t      P>|t|      [0.025      0.975]\n",
            "-------------------------------------------------------------------------------\n",
            "Intercept   -2.341e+06   1.33e+06     -1.757      0.085   -5.02e+06    3.34e+05\n",
            "Capacity       62.9373      7.397      8.509      0.000      48.088      77.787\n",
            "ConfNum       6.43e+04   5.71e+04      1.126      0.265   -5.03e+04    1.79e+05\n",
            "DonorCash       0.0110      0.005      2.317      0.025       0.001       0.021\n",
            "StudenFees     -0.0886      0.048     -1.835      0.072      -0.186       0.008\n",
            "FedGradRate -7846.2223   2.02e+04     -0.388      0.700   -4.85e+04    3.28e+04\n",
            "GradRate     2.293e+04   1.99e+04      1.155      0.254   -1.69e+04    6.28e+04\n",
            "==============================================================================\n",
            "Omnibus:                        1.518   Durbin-Watson:                   2.180\n",
            "Prob(Omnibus):                  0.468   Jarque-Bera (JB):                0.787\n",
            "Skew:                          -0.142   Prob(JB):                        0.675\n",
            "Kurtosis:                       3.494   Cond. No.                     3.11e+08\n",
            "==============================================================================\n",
            "\n",
            "Warnings:\n",
            "[1] Standard Errors assume that the covariance matrix of the errors is correctly specified.\n",
            "[2] The condition number is large, 3.11e+08. This might indicate that there are\n",
            "strong multicollinearity or other numerical problems.\n"
          ],
          "name": "stdout"
        },
        {
          "output_type": "stream",
          "text": [
            "/usr/local/lib/python3.6/dist-packages/ipykernel_launcher.py:12: SettingWithCopyWarning:\n",
            "\n",
            "\n",
            "A value is trying to be set on a copy of a slice from a DataFrame.\n",
            "Try using .loc[row_indexer,col_indexer] = value instead\n",
            "\n",
            "See the caveats in the documentation: https://pandas.pydata.org/pandas-docs/stable/user_guide/indexing.html#returning-a-view-versus-a-copy\n",
            "\n",
            "/usr/local/lib/python3.6/dist-packages/ipykernel_launcher.py:15: SettingWithCopyWarning:\n",
            "\n",
            "\n",
            "A value is trying to be set on a copy of a slice from a DataFrame.\n",
            "Try using .loc[row_indexer,col_indexer] = value instead\n",
            "\n",
            "See the caveats in the documentation: https://pandas.pydata.org/pandas-docs/stable/user_guide/indexing.html#returning-a-view-versus-a-copy\n",
            "\n"
          ],
          "name": "stderr"
        }
      ]
    },
    {
      "cell_type": "markdown",
      "metadata": {
        "id": "G2HXn2cfiIfS",
        "colab_type": "text"
      },
      "source": [
        "###***What effect does graduation rate have on the projected salary?***\n",
        "\n",
        "\n",
        "\n",
        "*   \tGraduation success rate has a weak correlation to salary and a coefficient of (2.2e+04) a very small fractional number. Therefore, the impact of better graduation numbers on salary is minuscule, but it has a positive correlation with increase in graduation rates means schools coach salary is more than likely high. However, the only cavate are HBCU’s because their graduation rates are among the lowest in NCAA division 1 football, but coaches’ salaries are among the highest which validates the magnitude of grad success rate to salary.    \n"
      ]
    },
    {
      "cell_type": "markdown",
      "metadata": {
        "id": "U-mDxZkkSXDr",
        "colab_type": "text"
      },
      "source": [
        "##**Conference Salary Model**\n",
        "\n",
        "####***What would his salary be if we were still in the Big East? What if we went to the Big Ten?***\n",
        "\n",
        "\n",
        "*   The OLS regression when asked to predict salary primarily based on conference showed Big East/Big 12 coefficient of (1.54e+06) and Big Ten coefficient at (1.922e+06). Therefore, the delta would be (0.38e+06), with Big Ten increasing factionally higher with every dollar according to conference than Big 12. Leaving, his salary to increase by fractions of a percent if the only factor one was considering was conference. \n"
      ]
    },
    {
      "cell_type": "code",
      "metadata": {
        "id": "H_NXJsvrOLpT",
        "colab_type": "code",
        "colab": {
          "base_uri": "https://localhost:8080/",
          "height": 1363
        },
        "outputId": "3ca1aa86-a366-4870-a601-b763ed6ac66a"
      },
      "source": [
        "##################################################################\n",
        "\n",
        "# simple model --- GradRate = R-sqr 0.788\n",
        "my_model = str('TotalPay ~  Conference ')\n",
        "# simple model --- remove ConfNum, FedGradRate and GradRate  = R-sqr 0.776\n",
        "#my_model = str('TotalPay ~ Capacity +  DonorCash + StudenFees')\n",
        "\n",
        "###################################################################\n",
        "\n",
        "# fit the model to the training set\n",
        "train_model_fit = smf.ols(my_model, data = coachSalary_train).fit()\n",
        "# summary of model fit to the training set\n",
        "print(train_model_fit.summary())\n",
        "# training set predictions from the model fit to the training set\n",
        "coachSalary_train['predict_salary'] = train_model_fit.fittedvalues\n",
        "\n",
        "# test set predictions from the model fit to the training set\n",
        "coachSalary_test['predict_salary'] = train_model_fit.predict(coachSalary_test)\n",
        "\n",
        "##################################################################"
      ],
      "execution_count": 21,
      "outputs": [
        {
          "output_type": "stream",
          "text": [
            "                            OLS Regression Results                            \n",
            "==============================================================================\n",
            "Dep. Variable:               TotalPay   R-squared:                       0.699\n",
            "Model:                            OLS   Adj. R-squared:                  0.643\n",
            "Method:                 Least Squares   F-statistic:                     12.40\n",
            "Date:                Tue, 21 Apr 2020   Prob (F-statistic):           7.20e-10\n",
            "Time:                        00:54:31   Log-Likelihood:                -888.49\n",
            "No. Observations:                  58   AIC:                             1797.\n",
            "Df Residuals:                      48   BIC:                             1818.\n",
            "Df Model:                           9                                         \n",
            "Covariance Type:            nonrobust                                         \n",
            "==========================================================================================\n",
            "                             coef    std err          t      P>|t|      [0.025      0.975]\n",
            "------------------------------------------------------------------------------------------\n",
            "Intercept                 2.3e+06   8.46e+05      2.720      0.009       6e+05       4e+06\n",
            "Conference[T.ACC]       1.333e+06      1e+06      1.332      0.189   -6.79e+05    3.34e+06\n",
            "Conference[T.Big 12]     1.54e+06      1e+06      1.539      0.130   -4.72e+05    3.55e+06\n",
            "Conference[T.Big Ten]   1.922e+06   9.35e+05      2.055      0.045    4.19e+04     3.8e+06\n",
            "Conference[T.C-USA]    -1.393e+06   1.04e+06     -1.345      0.185   -3.48e+06    6.89e+05\n",
            "Conference[T.MAC]      -1.654e+06   9.76e+05     -1.694      0.097   -3.62e+06    3.09e+05\n",
            "Conference[T.Mt. West] -1.146e+06   9.76e+05     -1.173      0.246   -3.11e+06    8.18e+05\n",
            "Conference[T.Pac-12]    1.841e+05   9.76e+05      0.189      0.851   -1.78e+06    2.15e+06\n",
            "Conference[T.SEC]       2.766e+06   9.35e+05      2.959      0.005    8.86e+05    4.65e+06\n",
            "Conference[T.Sun Belt] -1.624e+06   9.76e+05     -1.663      0.103   -3.59e+06    3.39e+05\n",
            "==============================================================================\n",
            "Omnibus:                        7.145   Durbin-Watson:                   2.386\n",
            "Prob(Omnibus):                  0.028   Jarque-Bera (JB):                9.406\n",
            "Skew:                           0.376   Prob(JB):                      0.00907\n",
            "Kurtosis:                       4.824   Cond. No.                         18.2\n",
            "==============================================================================\n",
            "\n",
            "Warnings:\n",
            "[1] Standard Errors assume that the covariance matrix of the errors is correctly specified.\n"
          ],
          "name": "stdout"
        },
        {
          "output_type": "stream",
          "text": [
            "/usr/local/lib/python3.6/dist-packages/ipykernel_launcher.py:12: SettingWithCopyWarning:\n",
            "\n",
            "\n",
            "A value is trying to be set on a copy of a slice from a DataFrame.\n",
            "Try using .loc[row_indexer,col_indexer] = value instead\n",
            "\n",
            "See the caveats in the documentation: https://pandas.pydata.org/pandas-docs/stable/user_guide/indexing.html#returning-a-view-versus-a-copy\n",
            "\n"
          ],
          "name": "stderr"
        },
        {
          "output_type": "error",
          "ename": "PatsyError",
          "evalue": "ignored",
          "traceback": [
            "\u001b[0;31m---------------------------------------------------------------------------\u001b[0m",
            "\u001b[0;31mKeyError\u001b[0m                                  Traceback (most recent call last)",
            "\u001b[0;32m/usr/local/lib/python3.6/dist-packages/patsy/categorical.py\u001b[0m in \u001b[0;36mcategorical_to_int\u001b[0;34m(data, levels, NA_action, origin)\u001b[0m\n\u001b[1;32m    345\u001b[0m             \u001b[0;32mtry\u001b[0m\u001b[0;34m:\u001b[0m\u001b[0;34m\u001b[0m\u001b[0;34m\u001b[0m\u001b[0m\n\u001b[0;32m--> 346\u001b[0;31m                 \u001b[0mout\u001b[0m\u001b[0;34m[\u001b[0m\u001b[0mi\u001b[0m\u001b[0;34m]\u001b[0m \u001b[0;34m=\u001b[0m \u001b[0mlevel_to_int\u001b[0m\u001b[0;34m[\u001b[0m\u001b[0mvalue\u001b[0m\u001b[0;34m]\u001b[0m\u001b[0;34m\u001b[0m\u001b[0;34m\u001b[0m\u001b[0m\n\u001b[0m\u001b[1;32m    347\u001b[0m             \u001b[0;32mexcept\u001b[0m \u001b[0mKeyError\u001b[0m\u001b[0;34m:\u001b[0m\u001b[0;34m\u001b[0m\u001b[0;34m\u001b[0m\u001b[0m\n",
            "\u001b[0;31mKeyError\u001b[0m: 'Ind.'",
            "\nDuring handling of the above exception, another exception occurred:\n",
            "\u001b[0;31mPatsyError\u001b[0m                                Traceback (most recent call last)",
            "\u001b[0;32m/usr/local/lib/python3.6/dist-packages/statsmodels/base/model.py\u001b[0m in \u001b[0;36mpredict\u001b[0;34m(self, exog, transform, *args, **kwargs)\u001b[0m\n\u001b[1;32m   1013\u001b[0m             \u001b[0;32mtry\u001b[0m\u001b[0;34m:\u001b[0m\u001b[0;34m\u001b[0m\u001b[0;34m\u001b[0m\u001b[0m\n\u001b[0;32m-> 1014\u001b[0;31m                 \u001b[0mexog\u001b[0m \u001b[0;34m=\u001b[0m \u001b[0mdmatrix\u001b[0m\u001b[0;34m(\u001b[0m\u001b[0mdesign_info\u001b[0m\u001b[0;34m,\u001b[0m \u001b[0mexog\u001b[0m\u001b[0;34m,\u001b[0m \u001b[0mreturn_type\u001b[0m\u001b[0;34m=\u001b[0m\u001b[0;34m\"dataframe\"\u001b[0m\u001b[0;34m)\u001b[0m\u001b[0;34m\u001b[0m\u001b[0;34m\u001b[0m\u001b[0m\n\u001b[0m\u001b[1;32m   1015\u001b[0m             \u001b[0;32mexcept\u001b[0m \u001b[0mException\u001b[0m \u001b[0;32mas\u001b[0m \u001b[0mexc\u001b[0m\u001b[0;34m:\u001b[0m\u001b[0;34m\u001b[0m\u001b[0;34m\u001b[0m\u001b[0m\n",
            "\u001b[0;32m/usr/local/lib/python3.6/dist-packages/patsy/highlevel.py\u001b[0m in \u001b[0;36mdmatrix\u001b[0;34m(formula_like, data, eval_env, NA_action, return_type)\u001b[0m\n\u001b[1;32m    290\u001b[0m     (lhs, rhs) = _do_highlevel_design(formula_like, data, eval_env,\n\u001b[0;32m--> 291\u001b[0;31m                                       NA_action, return_type)\n\u001b[0m\u001b[1;32m    292\u001b[0m     \u001b[0;32mif\u001b[0m \u001b[0mlhs\u001b[0m\u001b[0;34m.\u001b[0m\u001b[0mshape\u001b[0m\u001b[0;34m[\u001b[0m\u001b[0;36m1\u001b[0m\u001b[0;34m]\u001b[0m \u001b[0;34m!=\u001b[0m \u001b[0;36m0\u001b[0m\u001b[0;34m:\u001b[0m\u001b[0;34m\u001b[0m\u001b[0;34m\u001b[0m\u001b[0m\n",
            "\u001b[0;32m/usr/local/lib/python3.6/dist-packages/patsy/highlevel.py\u001b[0m in \u001b[0;36m_do_highlevel_design\u001b[0;34m(formula_like, data, eval_env, NA_action, return_type)\u001b[0m\n\u001b[1;32m    168\u001b[0m                                      \u001b[0mNA_action\u001b[0m\u001b[0;34m=\u001b[0m\u001b[0mNA_action\u001b[0m\u001b[0;34m,\u001b[0m\u001b[0;34m\u001b[0m\u001b[0;34m\u001b[0m\u001b[0m\n\u001b[0;32m--> 169\u001b[0;31m                                      return_type=return_type)\n\u001b[0m\u001b[1;32m    170\u001b[0m     \u001b[0;32melse\u001b[0m\u001b[0;34m:\u001b[0m\u001b[0;34m\u001b[0m\u001b[0;34m\u001b[0m\u001b[0m\n",
            "\u001b[0;32m/usr/local/lib/python3.6/dist-packages/patsy/build.py\u001b[0m in \u001b[0;36mbuild_design_matrices\u001b[0;34m(design_infos, data, NA_action, return_type, dtype)\u001b[0m\n\u001b[1;32m    887\u001b[0m             \u001b[0;32mif\u001b[0m \u001b[0mfactor_info\u001b[0m \u001b[0;32mnot\u001b[0m \u001b[0;32min\u001b[0m \u001b[0mfactor_info_to_values\u001b[0m\u001b[0;34m:\u001b[0m\u001b[0;34m\u001b[0m\u001b[0;34m\u001b[0m\u001b[0m\n\u001b[0;32m--> 888\u001b[0;31m                 \u001b[0mvalue\u001b[0m\u001b[0;34m,\u001b[0m \u001b[0mis_NA\u001b[0m \u001b[0;34m=\u001b[0m \u001b[0m_eval_factor\u001b[0m\u001b[0;34m(\u001b[0m\u001b[0mfactor_info\u001b[0m\u001b[0;34m,\u001b[0m \u001b[0mdata\u001b[0m\u001b[0;34m,\u001b[0m \u001b[0mNA_action\u001b[0m\u001b[0;34m)\u001b[0m\u001b[0;34m\u001b[0m\u001b[0;34m\u001b[0m\u001b[0m\n\u001b[0m\u001b[1;32m    889\u001b[0m                 \u001b[0mfactor_info_to_isNAs\u001b[0m\u001b[0;34m[\u001b[0m\u001b[0mfactor_info\u001b[0m\u001b[0;34m]\u001b[0m \u001b[0;34m=\u001b[0m \u001b[0mis_NA\u001b[0m\u001b[0;34m\u001b[0m\u001b[0;34m\u001b[0m\u001b[0m\n",
            "\u001b[0;32m/usr/local/lib/python3.6/dist-packages/patsy/build.py\u001b[0m in \u001b[0;36m_eval_factor\u001b[0;34m(factor_info, data, NA_action)\u001b[0m\n\u001b[1;32m     84\u001b[0m         result = categorical_to_int(result, factor_info.categories, NA_action,\n\u001b[0;32m---> 85\u001b[0;31m                                     origin=factor_info.factor)\n\u001b[0m\u001b[1;32m     86\u001b[0m         \u001b[0;32massert\u001b[0m \u001b[0mresult\u001b[0m\u001b[0;34m.\u001b[0m\u001b[0mndim\u001b[0m \u001b[0;34m==\u001b[0m \u001b[0;36m1\u001b[0m\u001b[0;34m\u001b[0m\u001b[0;34m\u001b[0m\u001b[0m\n",
            "\u001b[0;32m/usr/local/lib/python3.6/dist-packages/patsy/categorical.py\u001b[0m in \u001b[0;36mcategorical_to_int\u001b[0;34m(data, levels, NA_action, origin)\u001b[0m\n\u001b[1;32m    361\u001b[0m                                  \u001b[0;34m\"any of the expected levels (expected: %s)\"\u001b[0m\u001b[0;34m\u001b[0m\u001b[0;34m\u001b[0m\u001b[0m\n\u001b[0;32m--> 362\u001b[0;31m                                  % (value, level_str), origin)\n\u001b[0m\u001b[1;32m    363\u001b[0m             \u001b[0;32mexcept\u001b[0m \u001b[0mTypeError\u001b[0m\u001b[0;34m:\u001b[0m\u001b[0;34m\u001b[0m\u001b[0;34m\u001b[0m\u001b[0m\n",
            "\u001b[0;31mPatsyError\u001b[0m: Error converting data to categorical: observation with value 'Ind.' does not match any of the expected levels (expected: ['AAC', 'ACC', ..., 'SEC', 'Sun Belt'])\n    TotalPay ~  Conference\n                ^^^^^^^^^^",
            "\nDuring handling of the above exception, another exception occurred:\n",
            "\u001b[0;31mPatsyError\u001b[0m                                Traceback (most recent call last)",
            "\u001b[0;32m<ipython-input-21-d48c580c21fb>\u001b[0m in \u001b[0;36m<module>\u001b[0;34m()\u001b[0m\n\u001b[1;32m     13\u001b[0m \u001b[0;34m\u001b[0m\u001b[0m\n\u001b[1;32m     14\u001b[0m \u001b[0;31m# test set predictions from the model fit to the training set\u001b[0m\u001b[0;34m\u001b[0m\u001b[0;34m\u001b[0m\u001b[0;34m\u001b[0m\u001b[0m\n\u001b[0;32m---> 15\u001b[0;31m \u001b[0mcoachSalary_test\u001b[0m\u001b[0;34m[\u001b[0m\u001b[0;34m'predict_salary'\u001b[0m\u001b[0;34m]\u001b[0m \u001b[0;34m=\u001b[0m \u001b[0mtrain_model_fit\u001b[0m\u001b[0;34m.\u001b[0m\u001b[0mpredict\u001b[0m\u001b[0;34m(\u001b[0m\u001b[0mcoachSalary_test\u001b[0m\u001b[0;34m)\u001b[0m\u001b[0;34m\u001b[0m\u001b[0;34m\u001b[0m\u001b[0m\n\u001b[0m\u001b[1;32m     16\u001b[0m \u001b[0;34m\u001b[0m\u001b[0m\n\u001b[1;32m     17\u001b[0m \u001b[0;31m##################################################################\u001b[0m\u001b[0;34m\u001b[0m\u001b[0;34m\u001b[0m\u001b[0;34m\u001b[0m\u001b[0m\n",
            "\u001b[0;32m/usr/local/lib/python3.6/dist-packages/statsmodels/base/model.py\u001b[0m in \u001b[0;36mpredict\u001b[0;34m(self, exog, transform, *args, **kwargs)\u001b[0m\n\u001b[1;32m   1019\u001b[0m                        \u001b[0;34m'\\n\\nThe original error message returned by patsy is:\\n'\u001b[0m\u001b[0;34m\u001b[0m\u001b[0;34m\u001b[0m\u001b[0m\n\u001b[1;32m   1020\u001b[0m                        '{0}'.format(str(str(exc))))\n\u001b[0;32m-> 1021\u001b[0;31m                 \u001b[0;32mraise\u001b[0m \u001b[0mexc\u001b[0m\u001b[0;34m.\u001b[0m\u001b[0m__class__\u001b[0m\u001b[0;34m(\u001b[0m\u001b[0mmsg\u001b[0m\u001b[0;34m)\u001b[0m\u001b[0;34m\u001b[0m\u001b[0;34m\u001b[0m\u001b[0m\n\u001b[0m\u001b[1;32m   1022\u001b[0m             \u001b[0;32mif\u001b[0m \u001b[0morig_exog_len\u001b[0m \u001b[0;34m>\u001b[0m \u001b[0mlen\u001b[0m\u001b[0;34m(\u001b[0m\u001b[0mexog\u001b[0m\u001b[0;34m)\u001b[0m \u001b[0;32mand\u001b[0m \u001b[0;32mnot\u001b[0m \u001b[0mis_dict\u001b[0m\u001b[0;34m:\u001b[0m\u001b[0;34m\u001b[0m\u001b[0;34m\u001b[0m\u001b[0m\n\u001b[1;32m   1023\u001b[0m                 \u001b[0;32mimport\u001b[0m \u001b[0mwarnings\u001b[0m\u001b[0;34m\u001b[0m\u001b[0;34m\u001b[0m\u001b[0m\n",
            "\u001b[0;31mPatsyError\u001b[0m: predict requires that you use a DataFrame when predicting from a model\nthat was created using the formula api.\n\nThe original error message returned by patsy is:\nError converting data to categorical: observation with value 'Ind.' does not match any of the expected levels (expected: ['AAC', 'ACC', ..., 'SEC', 'Sun Belt'])\n    TotalPay ~  Conference\n                ^^^^^^^^^^"
          ]
        }
      ]
    },
    {
      "cell_type": "code",
      "metadata": {
        "id": "YJs4aA84pNki",
        "colab_type": "code",
        "colab": {
          "base_uri": "https://localhost:8080/",
          "height": 595
        },
        "outputId": "7c3e2c8f-787b-42bf-954a-eb87015afcc4"
      },
      "source": [
        "##################################################################\n",
        "\n",
        "# compute the proportion of response variance\n",
        "# accounted for when predicting out-of-sample\n",
        "print('\\nProportion of Test Set Variance Accounted for: ',\\\n",
        "    round(np.power(coachSalary_test['TotalPay'].corr(coachSalary_test['predict_salary']),2),3))\n",
        "\n",
        "# use the full data set to obtain an estimate of the increase in\n",
        "# attendance due to bobbleheads, controlling for other factors \n",
        "my_model_fit = smf.ols(my_model, data = coachSalary).fit()\n",
        "print(my_model_fit.summary())\n",
        "\n",
        "#print('\\nEstimated Effect of Bobblehead Promotion on Attendance: ',\\\n",
        " #   round(my_model_fit.params[13],0))\n",
        "\n",
        "##################################################################"
      ],
      "execution_count": 17,
      "outputs": [
        {
          "output_type": "stream",
          "text": [
            "\n",
            "Proportion of Test Set Variance Accounted for:  0.862\n",
            "                            OLS Regression Results                            \n",
            "==============================================================================\n",
            "Dep. Variable:               TotalPay   R-squared:                       0.811\n",
            "Model:                            OLS   Adj. R-squared:                  0.796\n",
            "Method:                 Least Squares   F-statistic:                     53.60\n",
            "Date:                Mon, 20 Apr 2020   Prob (F-statistic):           3.80e-25\n",
            "Time:                        22:12:46   Log-Likelihood:                -1240.5\n",
            "No. Observations:                  82   AIC:                             2495.\n",
            "Df Residuals:                      75   BIC:                             2512.\n",
            "Df Model:                           6                                         \n",
            "Covariance Type:            nonrobust                                         \n",
            "===============================================================================\n",
            "                  coef    std err          t      P>|t|      [0.025      0.975]\n",
            "-------------------------------------------------------------------------------\n",
            "Intercept   -2.983e+06   8.99e+05     -3.318      0.001   -4.77e+06   -1.19e+06\n",
            "Capacity       65.3021      5.528     11.813      0.000      54.290      76.314\n",
            "ConfNum      7.046e+04   4.04e+04      1.745      0.085   -9974.858    1.51e+05\n",
            "DonorCash       0.0117      0.005      2.593      0.011       0.003       0.021\n",
            "StudenFees     -0.0782      0.035     -2.206      0.030      -0.149      -0.008\n",
            "FedGradRate -7687.1424   1.67e+04     -0.460      0.647    -4.1e+04    2.56e+04\n",
            "GradRate     2.882e+04   1.53e+04      1.888      0.063   -1595.081    5.92e+04\n",
            "==============================================================================\n",
            "Omnibus:                        2.845   Durbin-Watson:                   1.977\n",
            "Prob(Omnibus):                  0.241   Jarque-Bera (JB):                2.123\n",
            "Skew:                          -0.298   Prob(JB):                        0.346\n",
            "Kurtosis:                       3.516   Cond. No.                     2.22e+08\n",
            "==============================================================================\n",
            "\n",
            "Warnings:\n",
            "[1] Standard Errors assume that the covariance matrix of the errors is correctly specified.\n",
            "[2] The condition number is large, 2.22e+08. This might indicate that there are\n",
            "strong multicollinearity or other numerical problems.\n"
          ],
          "name": "stdout"
        }
      ]
    },
    {
      "cell_type": "code",
      "metadata": {
        "id": "WQxeq9nyqEWi",
        "colab_type": "code",
        "colab": {
          "base_uri": "https://localhost:8080/",
          "height": 626
        },
        "outputId": "99e13426-6c6f-4a14-f2d6-4f73eeebcdb2"
      },
      "source": [
        "corr = coachSalary.corr()\n",
        "\n",
        "# Generate a mask for the upper triangle\n",
        "mask = np.zeros_like(corr, dtype=np.bool)\n",
        "mask[np.triu_indices_from(mask)] = True\n",
        "\n",
        "# Set up the matplotlib figure\n",
        "f, ax = plt.subplots(figsize=(11, 9))\n",
        "\n",
        "# Generate a custom diverging colormap\n",
        "cmap = sns.diverging_palette(220, 10, as_cmap=True)\n",
        "\n",
        "# Draw the heatmap with the mask and correct aspect ratio\n",
        "sns.heatmap(corr, mask=mask, cmap=cmap, vmax=.3, center=0,\n",
        "            square=True, linewidths=.5, cbar_kws={\"shrink\": .5})\n"
      ],
      "execution_count": 37,
      "outputs": [
        {
          "output_type": "execute_result",
          "data": {
            "text/plain": [
              "<matplotlib.axes._subplots.AxesSubplot at 0x7f11c2301630>"
            ]
          },
          "metadata": {
            "tags": []
          },
          "execution_count": 37
        },
        {
          "output_type": "display_data",
          "data": {
            "image/png": "[encoded data removed]",
            "text/plain": [
              "<Figure size 792x648 with 2 Axes>"
            ]
          },
          "metadata": {
            "tags": [],
            "needs_background": "light"
          }
        }
      ]
    },
    {
      "cell_type": "markdown",
      "metadata": {
        "id": "ujmsGRnmow13",
        "colab_type": "text"
      },
      "source": [
        "References"
      ]
    }
  ]
}